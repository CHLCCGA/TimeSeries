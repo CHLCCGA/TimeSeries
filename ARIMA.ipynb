{
 "cells": [
  {
   "cell_type": "code",
   "execution_count": 12,
   "id": "40ab77fd",
   "metadata": {},
   "outputs": [],
   "source": [
    "import numpy as np\n",
    "import pandas as pd\n",
    "import sklearn\n",
    "import matplotlib as mlp\n",
    "import matplotlib.pyplot as plt\n",
    "import seaborn as sns\n",
    "import time\n",
    "import re, pip, conda"
   ]
  },
  {
   "cell_type": "code",
   "execution_count": 13,
   "id": "0a5c4d26",
   "metadata": {},
   "outputs": [
    {
     "name": "stdout",
     "output_type": "stream",
     "text": [
      "sklearn 1.0.1\n",
      "matplotlib 3.3.2\n",
      "numpy 1.23.4\n",
      "pandas 1.1.3\n",
      "seaborn 0.11.0\n",
      "pip 22.3.1\n",
      "conda 4.9.2\n"
     ]
    }
   ],
   "source": [
    "for package in [sklearn,mlp,np,pd,sns,pip,conda]:\n",
    "    print(re.findall(\"([^']*)\",str(package))[2],package.__version__)"
   ]
  },
  {
   "cell_type": "code",
   "execution_count": 3,
   "id": "b32527d4",
   "metadata": {},
   "outputs": [],
   "source": [
    "#pip install --upgrade scikit-learn\n",
    "#conda update scikit-learn"
   ]
  },
  {
   "cell_type": "code",
   "execution_count": 4,
   "id": "9d4d975f",
   "metadata": {},
   "outputs": [],
   "source": [
    "test = pd.read_csv(r\"D:\\Pythonwork\\2022DACase\\UserRetentionPrediction\\data\\test-a-without-label.csv\"\n",
    "                   ,header=0)\n",
    "#test.columns = [\"用户ID\",\"(脱敏后)需要预测的留存分日期\"] #中文更有利于理解，英文更有利于敲代码\n",
    "test.columns = [\"user_id\",\"predict_date\"]"
   ]
  },
  {
   "cell_type": "code",
   "execution_count": 5,
   "id": "d80f66e9",
   "metadata": {},
   "outputs": [
    {
     "data": {
      "text/plain": [
       "(15001, 2)"
      ]
     },
     "execution_count": 5,
     "metadata": {},
     "output_type": "execute_result"
    }
   ],
   "source": [
    "test.shape #一共1w5用户，出乎意料地少"
   ]
  },
  {
   "cell_type": "code",
   "execution_count": 6,
   "id": "8a618b0d",
   "metadata": {},
   "outputs": [
    {
     "data": {
      "text/html": [
       "<div>\n",
       "<style scoped>\n",
       "    .dataframe tbody tr th:only-of-type {\n",
       "        vertical-align: middle;\n",
       "    }\n",
       "\n",
       "    .dataframe tbody tr th {\n",
       "        vertical-align: top;\n",
       "    }\n",
       "\n",
       "    .dataframe thead th {\n",
       "        text-align: right;\n",
       "    }\n",
       "</style>\n",
       "<table border=\"1\" class=\"dataframe\">\n",
       "  <thead>\n",
       "    <tr style=\"text-align: right;\">\n",
       "      <th></th>\n",
       "      <th>user_id</th>\n",
       "      <th>predict_date</th>\n",
       "    </tr>\n",
       "  </thead>\n",
       "  <tbody>\n",
       "    <tr>\n",
       "      <th>0</th>\n",
       "      <td>10007813</td>\n",
       "      <td>205</td>\n",
       "    </tr>\n",
       "    <tr>\n",
       "      <th>1</th>\n",
       "      <td>10052988</td>\n",
       "      <td>210</td>\n",
       "    </tr>\n",
       "    <tr>\n",
       "      <th>2</th>\n",
       "      <td>10279068</td>\n",
       "      <td>200</td>\n",
       "    </tr>\n",
       "    <tr>\n",
       "      <th>3</th>\n",
       "      <td>10546696</td>\n",
       "      <td>216</td>\n",
       "    </tr>\n",
       "    <tr>\n",
       "      <th>4</th>\n",
       "      <td>10406659</td>\n",
       "      <td>183</td>\n",
       "    </tr>\n",
       "  </tbody>\n",
       "</table>\n",
       "</div>"
      ],
      "text/plain": [
       "    user_id  predict_date\n",
       "0  10007813           205\n",
       "1  10052988           210\n",
       "2  10279068           200\n",
       "3  10546696           216\n",
       "4  10406659           183"
      ]
     },
     "execution_count": 6,
     "metadata": {},
     "output_type": "execute_result"
    }
   ],
   "source": [
    "test.head()"
   ]
  },
  {
   "cell_type": "code",
   "execution_count": 7,
   "id": "b4d492bd",
   "metadata": {},
   "outputs": [
    {
     "data": {
      "text/plain": [
       "222"
      ]
     },
     "execution_count": 7,
     "metadata": {},
     "output_type": "execute_result"
    }
   ],
   "source": [
    "test.iloc[:,-1].max() #最晚的日期"
   ]
  },
  {
   "cell_type": "code",
   "execution_count": 8,
   "id": "55cdfda9",
   "metadata": {},
   "outputs": [
    {
     "data": {
      "text/plain": [
       "161"
      ]
     },
     "execution_count": 8,
     "metadata": {},
     "output_type": "execute_result"
    }
   ],
   "source": [
    "test.iloc[:,-1].min() #最早的日期"
   ]
  },
  {
   "cell_type": "code",
   "execution_count": 9,
   "id": "39669691",
   "metadata": {},
   "outputs": [
    {
     "data": {
      "text/plain": [
       "10007813    1\n",
       "10395201    1\n",
       "10476067    1\n",
       "10544537    1\n",
       "10407998    1\n",
       "           ..\n",
       "10256345    1\n",
       "10528454    1\n",
       "10312797    1\n",
       "10512586    1\n",
       "10354569    1\n",
       "Name: user_id, Length: 15001, dtype: int64"
      ]
     },
     "execution_count": 9,
     "metadata": {},
     "output_type": "execute_result"
    }
   ],
   "source": [
    "#检查用户ID是否有重复值\n",
    "test.iloc[:,0].value_counts()"
   ]
  },
  {
   "cell_type": "code",
   "execution_count": 10,
   "id": "95248ca2",
   "metadata": {},
   "outputs": [
    {
     "data": {
      "text/plain": [
       "196    358\n",
       "200    355\n",
       "194    354\n",
       "202    344\n",
       "203    342\n",
       "      ... \n",
       "171    146\n",
       "220    145\n",
       "221    144\n",
       "216    143\n",
       "213    143\n",
       "Name: predict_date, Length: 62, dtype: int64"
      ]
     },
     "execution_count": 10,
     "metadata": {},
     "output_type": "execute_result"
    }
   ],
   "source": [
    "test.iloc[:,-1].value_counts()"
   ]
  },
  {
   "cell_type": "code",
   "execution_count": 11,
   "id": "7d5ae3dc",
   "metadata": {},
   "outputs": [
    {
     "data": {
      "text/plain": [
       "user_id         0\n",
       "predict_date    0\n",
       "dtype: int64"
      ]
     },
     "execution_count": 11,
     "metadata": {},
     "output_type": "execute_result"
    }
   ],
   "source": [
    "test.isnull().sum()"
   ]
  },
  {
   "cell_type": "markdown",
   "id": "06c72a68",
   "metadata": {},
   "source": [
    "  "
   ]
  },
  {
   "cell_type": "code",
   "execution_count": 12,
   "id": "7a7599dc",
   "metadata": {},
   "outputs": [],
   "source": [
    "launch = pd.read_csv(r\"D:\\Pythonwork\\2022DACase\\UserRetentionPrediction\\data\\app_launch_logs.csv\",header=0)\n",
    "#launch.columns = [\"用户ID\",\"登录类型\",\"登录日期\"]\n",
    "launch.columns = [\"user_id\",\"launch_type\",\"launch_date\"]"
   ]
  },
  {
   "cell_type": "code",
   "execution_count": 13,
   "id": "5b1e8135",
   "metadata": {},
   "outputs": [
    {
     "data": {
      "text/plain": [
       "(8493878, 3)"
      ]
     },
     "execution_count": 13,
     "metadata": {},
     "output_type": "execute_result"
    }
   ],
   "source": [
    "launch.shape #包含849w+次的登录信息，登录信息的数据量明显远远多于测试集信息"
   ]
  },
  {
   "cell_type": "code",
   "execution_count": 14,
   "id": "3c5380d0",
   "metadata": {},
   "outputs": [
    {
     "data": {
      "text/html": [
       "<div>\n",
       "<style scoped>\n",
       "    .dataframe tbody tr th:only-of-type {\n",
       "        vertical-align: middle;\n",
       "    }\n",
       "\n",
       "    .dataframe tbody tr th {\n",
       "        vertical-align: top;\n",
       "    }\n",
       "\n",
       "    .dataframe thead th {\n",
       "        text-align: right;\n",
       "    }\n",
       "</style>\n",
       "<table border=\"1\" class=\"dataframe\">\n",
       "  <thead>\n",
       "    <tr style=\"text-align: right;\">\n",
       "      <th></th>\n",
       "      <th>user_id</th>\n",
       "      <th>launch_type</th>\n",
       "      <th>launch_date</th>\n",
       "    </tr>\n",
       "  </thead>\n",
       "  <tbody>\n",
       "    <tr>\n",
       "      <th>0</th>\n",
       "      <td>10157996</td>\n",
       "      <td>0</td>\n",
       "      <td>129</td>\n",
       "    </tr>\n",
       "    <tr>\n",
       "      <th>1</th>\n",
       "      <td>10139583</td>\n",
       "      <td>0</td>\n",
       "      <td>129</td>\n",
       "    </tr>\n",
       "    <tr>\n",
       "      <th>2</th>\n",
       "      <td>10277501</td>\n",
       "      <td>0</td>\n",
       "      <td>129</td>\n",
       "    </tr>\n",
       "    <tr>\n",
       "      <th>3</th>\n",
       "      <td>10099847</td>\n",
       "      <td>0</td>\n",
       "      <td>129</td>\n",
       "    </tr>\n",
       "    <tr>\n",
       "      <th>4</th>\n",
       "      <td>10532773</td>\n",
       "      <td>0</td>\n",
       "      <td>129</td>\n",
       "    </tr>\n",
       "  </tbody>\n",
       "</table>\n",
       "</div>"
      ],
      "text/plain": [
       "    user_id  launch_type  launch_date\n",
       "0  10157996            0          129\n",
       "1  10139583            0          129\n",
       "2  10277501            0          129\n",
       "3  10099847            0          129\n",
       "4  10532773            0          129"
      ]
     },
     "execution_count": 14,
     "metadata": {},
     "output_type": "execute_result"
    }
   ],
   "source": [
    "launch.head()"
   ]
  },
  {
   "cell_type": "code",
   "execution_count": 15,
   "id": "b16c446b",
   "metadata": {},
   "outputs": [
    {
     "data": {
      "text/plain": [
       "user_id        0\n",
       "launch_type    0\n",
       "launch_date    0\n",
       "dtype: int64"
      ]
     },
     "execution_count": 15,
     "metadata": {},
     "output_type": "execute_result"
    }
   ],
   "source": [
    "launch.isnull().sum() #不存在任何缺失值"
   ]
  },
  {
   "cell_type": "code",
   "execution_count": 16,
   "id": "326ee1b1",
   "metadata": {},
   "outputs": [
    {
     "data": {
      "text/plain": [
       "8492342"
      ]
     },
     "execution_count": 16,
     "metadata": {},
     "output_type": "execute_result"
    }
   ],
   "source": [
    "launch.drop_duplicates().shape[0] #存在重复值，说明确实存在一个用户在同一日期、用同一设备多次登录的情况，但这种情况并不多"
   ]
  },
  {
   "cell_type": "code",
   "execution_count": 17,
   "id": "c66b87b5",
   "metadata": {},
   "outputs": [],
   "source": [
    "launch = launch.drop_duplicates() #由于不关心同一日期多次登录的情况，因此我们使用去重后的表单替换原始表单\n",
    "launch.index = range(launch.shape[0]) #删除样本后需要恢复索引"
   ]
  },
  {
   "cell_type": "code",
   "execution_count": 18,
   "id": "e4813768",
   "metadata": {},
   "outputs": [
    {
     "data": {
      "text/plain": [
       "0    8109385\n",
       "1     382957\n",
       "Name: launch_type, dtype: int64"
      ]
     },
     "execution_count": 18,
     "metadata": {},
     "output_type": "execute_result"
    }
   ],
   "source": [
    "launch[\"launch_type\"].value_counts() #猜测0类是自发登录APP，1类是通过其他平台登录或通过链接进入APP"
   ]
  },
  {
   "cell_type": "code",
   "execution_count": 19,
   "id": "803381b9",
   "metadata": {},
   "outputs": [
    {
     "data": {
      "text/plain": [
       "0.9549056078994463"
      ]
     },
     "execution_count": 19,
     "metadata": {},
     "output_type": "execute_result"
    }
   ],
   "source": [
    "launch[\"launch_type\"].value_counts()[0]/launch[\"launch_type\"].shape[0]"
   ]
  },
  {
   "cell_type": "code",
   "execution_count": 20,
   "id": "8b092975",
   "metadata": {},
   "outputs": [
    {
     "data": {
      "text/plain": [
       "600000"
      ]
     },
     "execution_count": 20,
     "metadata": {},
     "output_type": "execute_result"
    }
   ],
   "source": [
    "launch[\"user_id\"].unique().__len__()"
   ]
  },
  {
   "cell_type": "code",
   "execution_count": 21,
   "id": "2515aa27",
   "metadata": {},
   "outputs": [
    {
     "data": {
      "text/html": [
       "<div>\n",
       "<style scoped>\n",
       "    .dataframe tbody tr th:only-of-type {\n",
       "        vertical-align: middle;\n",
       "    }\n",
       "\n",
       "    .dataframe tbody tr th {\n",
       "        vertical-align: top;\n",
       "    }\n",
       "\n",
       "    .dataframe thead th {\n",
       "        text-align: right;\n",
       "    }\n",
       "</style>\n",
       "<table border=\"1\" class=\"dataframe\">\n",
       "  <thead>\n",
       "    <tr style=\"text-align: right;\">\n",
       "      <th></th>\n",
       "      <th>user_id</th>\n",
       "      <th>launch_type</th>\n",
       "      <th>launch_date</th>\n",
       "    </tr>\n",
       "  </thead>\n",
       "  <tbody>\n",
       "    <tr>\n",
       "      <th>0</th>\n",
       "      <td>10157996</td>\n",
       "      <td>0</td>\n",
       "      <td>129</td>\n",
       "    </tr>\n",
       "    <tr>\n",
       "      <th>1</th>\n",
       "      <td>10139583</td>\n",
       "      <td>0</td>\n",
       "      <td>129</td>\n",
       "    </tr>\n",
       "    <tr>\n",
       "      <th>2</th>\n",
       "      <td>10277501</td>\n",
       "      <td>0</td>\n",
       "      <td>129</td>\n",
       "    </tr>\n",
       "    <tr>\n",
       "      <th>3</th>\n",
       "      <td>10099847</td>\n",
       "      <td>0</td>\n",
       "      <td>129</td>\n",
       "    </tr>\n",
       "    <tr>\n",
       "      <th>4</th>\n",
       "      <td>10532773</td>\n",
       "      <td>0</td>\n",
       "      <td>129</td>\n",
       "    </tr>\n",
       "  </tbody>\n",
       "</table>\n",
       "</div>"
      ],
      "text/plain": [
       "    user_id  launch_type  launch_date\n",
       "0  10157996            0          129\n",
       "1  10139583            0          129\n",
       "2  10277501            0          129\n",
       "3  10099847            0          129\n",
       "4  10532773            0          129"
      ]
     },
     "execution_count": 21,
     "metadata": {},
     "output_type": "execute_result"
    }
   ],
   "source": [
    "launch.head()"
   ]
  },
  {
   "cell_type": "code",
   "execution_count": 22,
   "id": "a8b113f6",
   "metadata": {},
   "outputs": [
    {
     "data": {
      "text/html": [
       "<div>\n",
       "<style scoped>\n",
       "    .dataframe tbody tr th:only-of-type {\n",
       "        vertical-align: middle;\n",
       "    }\n",
       "\n",
       "    .dataframe tbody tr th {\n",
       "        vertical-align: top;\n",
       "    }\n",
       "\n",
       "    .dataframe thead th {\n",
       "        text-align: right;\n",
       "    }\n",
       "</style>\n",
       "<table border=\"1\" class=\"dataframe\">\n",
       "  <thead>\n",
       "    <tr style=\"text-align: right;\">\n",
       "      <th></th>\n",
       "      <th>user_id</th>\n",
       "      <th>launch_type</th>\n",
       "      <th>launch_date</th>\n",
       "    </tr>\n",
       "  </thead>\n",
       "  <tbody>\n",
       "    <tr>\n",
       "      <th>7038811</th>\n",
       "      <td>10157996</td>\n",
       "      <td>0</td>\n",
       "      <td>114</td>\n",
       "    </tr>\n",
       "    <tr>\n",
       "      <th>7474130</th>\n",
       "      <td>10157996</td>\n",
       "      <td>0</td>\n",
       "      <td>115</td>\n",
       "    </tr>\n",
       "    <tr>\n",
       "      <th>4633446</th>\n",
       "      <td>10157996</td>\n",
       "      <td>0</td>\n",
       "      <td>119</td>\n",
       "    </tr>\n",
       "    <tr>\n",
       "      <th>7075356</th>\n",
       "      <td>10157996</td>\n",
       "      <td>0</td>\n",
       "      <td>122</td>\n",
       "    </tr>\n",
       "    <tr>\n",
       "      <th>280060</th>\n",
       "      <td>10157996</td>\n",
       "      <td>0</td>\n",
       "      <td>127</td>\n",
       "    </tr>\n",
       "    <tr>\n",
       "      <th>5823276</th>\n",
       "      <td>10157996</td>\n",
       "      <td>0</td>\n",
       "      <td>128</td>\n",
       "    </tr>\n",
       "    <tr>\n",
       "      <th>0</th>\n",
       "      <td>10157996</td>\n",
       "      <td>0</td>\n",
       "      <td>129</td>\n",
       "    </tr>\n",
       "    <tr>\n",
       "      <th>5145981</th>\n",
       "      <td>10157996</td>\n",
       "      <td>0</td>\n",
       "      <td>130</td>\n",
       "    </tr>\n",
       "    <tr>\n",
       "      <th>3899556</th>\n",
       "      <td>10157996</td>\n",
       "      <td>0</td>\n",
       "      <td>131</td>\n",
       "    </tr>\n",
       "    <tr>\n",
       "      <th>6641342</th>\n",
       "      <td>10157996</td>\n",
       "      <td>0</td>\n",
       "      <td>132</td>\n",
       "    </tr>\n",
       "    <tr>\n",
       "      <th>4544718</th>\n",
       "      <td>10157996</td>\n",
       "      <td>0</td>\n",
       "      <td>133</td>\n",
       "    </tr>\n",
       "    <tr>\n",
       "      <th>5727519</th>\n",
       "      <td>10157996</td>\n",
       "      <td>0</td>\n",
       "      <td>136</td>\n",
       "    </tr>\n",
       "    <tr>\n",
       "      <th>7437404</th>\n",
       "      <td>10157996</td>\n",
       "      <td>0</td>\n",
       "      <td>138</td>\n",
       "    </tr>\n",
       "    <tr>\n",
       "      <th>4604117</th>\n",
       "      <td>10157996</td>\n",
       "      <td>0</td>\n",
       "      <td>139</td>\n",
       "    </tr>\n",
       "    <tr>\n",
       "      <th>2778927</th>\n",
       "      <td>10157996</td>\n",
       "      <td>0</td>\n",
       "      <td>140</td>\n",
       "    </tr>\n",
       "    <tr>\n",
       "      <th>5107263</th>\n",
       "      <td>10157996</td>\n",
       "      <td>0</td>\n",
       "      <td>162</td>\n",
       "    </tr>\n",
       "    <tr>\n",
       "      <th>8032803</th>\n",
       "      <td>10157996</td>\n",
       "      <td>0</td>\n",
       "      <td>163</td>\n",
       "    </tr>\n",
       "    <tr>\n",
       "      <th>3036274</th>\n",
       "      <td>10157996</td>\n",
       "      <td>0</td>\n",
       "      <td>164</td>\n",
       "    </tr>\n",
       "    <tr>\n",
       "      <th>2135004</th>\n",
       "      <td>10157996</td>\n",
       "      <td>0</td>\n",
       "      <td>165</td>\n",
       "    </tr>\n",
       "    <tr>\n",
       "      <th>7770638</th>\n",
       "      <td>10157996</td>\n",
       "      <td>0</td>\n",
       "      <td>170</td>\n",
       "    </tr>\n",
       "    <tr>\n",
       "      <th>5299255</th>\n",
       "      <td>10157996</td>\n",
       "      <td>0</td>\n",
       "      <td>171</td>\n",
       "    </tr>\n",
       "    <tr>\n",
       "      <th>705100</th>\n",
       "      <td>10157996</td>\n",
       "      <td>0</td>\n",
       "      <td>173</td>\n",
       "    </tr>\n",
       "    <tr>\n",
       "      <th>713501</th>\n",
       "      <td>10157996</td>\n",
       "      <td>0</td>\n",
       "      <td>174</td>\n",
       "    </tr>\n",
       "    <tr>\n",
       "      <th>7694407</th>\n",
       "      <td>10157996</td>\n",
       "      <td>0</td>\n",
       "      <td>175</td>\n",
       "    </tr>\n",
       "    <tr>\n",
       "      <th>2824173</th>\n",
       "      <td>10157996</td>\n",
       "      <td>0</td>\n",
       "      <td>176</td>\n",
       "    </tr>\n",
       "    <tr>\n",
       "      <th>6382785</th>\n",
       "      <td>10157996</td>\n",
       "      <td>0</td>\n",
       "      <td>177</td>\n",
       "    </tr>\n",
       "    <tr>\n",
       "      <th>8259822</th>\n",
       "      <td>10157996</td>\n",
       "      <td>0</td>\n",
       "      <td>179</td>\n",
       "    </tr>\n",
       "    <tr>\n",
       "      <th>3461901</th>\n",
       "      <td>10157996</td>\n",
       "      <td>0</td>\n",
       "      <td>180</td>\n",
       "    </tr>\n",
       "    <tr>\n",
       "      <th>4455230</th>\n",
       "      <td>10157996</td>\n",
       "      <td>0</td>\n",
       "      <td>182</td>\n",
       "    </tr>\n",
       "    <tr>\n",
       "      <th>1098839</th>\n",
       "      <td>10157996</td>\n",
       "      <td>0</td>\n",
       "      <td>184</td>\n",
       "    </tr>\n",
       "    <tr>\n",
       "      <th>8430990</th>\n",
       "      <td>10157996</td>\n",
       "      <td>0</td>\n",
       "      <td>185</td>\n",
       "    </tr>\n",
       "    <tr>\n",
       "      <th>8213256</th>\n",
       "      <td>10157996</td>\n",
       "      <td>0</td>\n",
       "      <td>186</td>\n",
       "    </tr>\n",
       "    <tr>\n",
       "      <th>5434768</th>\n",
       "      <td>10157996</td>\n",
       "      <td>0</td>\n",
       "      <td>188</td>\n",
       "    </tr>\n",
       "    <tr>\n",
       "      <th>2872489</th>\n",
       "      <td>10157996</td>\n",
       "      <td>0</td>\n",
       "      <td>189</td>\n",
       "    </tr>\n",
       "    <tr>\n",
       "      <th>3452507</th>\n",
       "      <td>10157996</td>\n",
       "      <td>0</td>\n",
       "      <td>190</td>\n",
       "    </tr>\n",
       "    <tr>\n",
       "      <th>876245</th>\n",
       "      <td>10157996</td>\n",
       "      <td>0</td>\n",
       "      <td>191</td>\n",
       "    </tr>\n",
       "    <tr>\n",
       "      <th>726108</th>\n",
       "      <td>10157996</td>\n",
       "      <td>0</td>\n",
       "      <td>192</td>\n",
       "    </tr>\n",
       "    <tr>\n",
       "      <th>757471</th>\n",
       "      <td>10157996</td>\n",
       "      <td>0</td>\n",
       "      <td>193</td>\n",
       "    </tr>\n",
       "    <tr>\n",
       "      <th>3799827</th>\n",
       "      <td>10157996</td>\n",
       "      <td>0</td>\n",
       "      <td>194</td>\n",
       "    </tr>\n",
       "    <tr>\n",
       "      <th>6355498</th>\n",
       "      <td>10157996</td>\n",
       "      <td>0</td>\n",
       "      <td>201</td>\n",
       "    </tr>\n",
       "  </tbody>\n",
       "</table>\n",
       "</div>"
      ],
      "text/plain": [
       "          user_id  launch_type  launch_date\n",
       "7038811  10157996            0          114\n",
       "7474130  10157996            0          115\n",
       "4633446  10157996            0          119\n",
       "7075356  10157996            0          122\n",
       "280060   10157996            0          127\n",
       "5823276  10157996            0          128\n",
       "0        10157996            0          129\n",
       "5145981  10157996            0          130\n",
       "3899556  10157996            0          131\n",
       "6641342  10157996            0          132\n",
       "4544718  10157996            0          133\n",
       "5727519  10157996            0          136\n",
       "7437404  10157996            0          138\n",
       "4604117  10157996            0          139\n",
       "2778927  10157996            0          140\n",
       "5107263  10157996            0          162\n",
       "8032803  10157996            0          163\n",
       "3036274  10157996            0          164\n",
       "2135004  10157996            0          165\n",
       "7770638  10157996            0          170\n",
       "5299255  10157996            0          171\n",
       "705100   10157996            0          173\n",
       "713501   10157996            0          174\n",
       "7694407  10157996            0          175\n",
       "2824173  10157996            0          176\n",
       "6382785  10157996            0          177\n",
       "8259822  10157996            0          179\n",
       "3461901  10157996            0          180\n",
       "4455230  10157996            0          182\n",
       "1098839  10157996            0          184\n",
       "8430990  10157996            0          185\n",
       "8213256  10157996            0          186\n",
       "5434768  10157996            0          188\n",
       "2872489  10157996            0          189\n",
       "3452507  10157996            0          190\n",
       "876245   10157996            0          191\n",
       "726108   10157996            0          192\n",
       "757471   10157996            0          193\n",
       "3799827  10157996            0          194\n",
       "6355498  10157996            0          201"
      ]
     },
     "execution_count": 22,
     "metadata": {},
     "output_type": "execute_result"
    }
   ],
   "source": [
    "#随意找出几个排序靠前的用户进行查看\n",
    "launch.loc[launch[\"user_id\"] == 10157996,:].sort_values(by=\"launch_date\")"
   ]
  },
  {
   "cell_type": "code",
   "execution_count": 23,
   "id": "fa9e2c46",
   "metadata": {},
   "outputs": [
    {
     "data": {
      "text/html": [
       "<div>\n",
       "<style scoped>\n",
       "    .dataframe tbody tr th:only-of-type {\n",
       "        vertical-align: middle;\n",
       "    }\n",
       "\n",
       "    .dataframe tbody tr th {\n",
       "        vertical-align: top;\n",
       "    }\n",
       "\n",
       "    .dataframe thead th {\n",
       "        text-align: right;\n",
       "    }\n",
       "</style>\n",
       "<table border=\"1\" class=\"dataframe\">\n",
       "  <thead>\n",
       "    <tr style=\"text-align: right;\">\n",
       "      <th></th>\n",
       "      <th>user_id</th>\n",
       "      <th>launch_type</th>\n",
       "      <th>launch_date</th>\n",
       "    </tr>\n",
       "  </thead>\n",
       "  <tbody>\n",
       "    <tr>\n",
       "      <th>2653182</th>\n",
       "      <td>10139583</td>\n",
       "      <td>0</td>\n",
       "      <td>128</td>\n",
       "    </tr>\n",
       "    <tr>\n",
       "      <th>5810902</th>\n",
       "      <td>10139583</td>\n",
       "      <td>1</td>\n",
       "      <td>128</td>\n",
       "    </tr>\n",
       "    <tr>\n",
       "      <th>1</th>\n",
       "      <td>10139583</td>\n",
       "      <td>0</td>\n",
       "      <td>129</td>\n",
       "    </tr>\n",
       "    <tr>\n",
       "      <th>2665603</th>\n",
       "      <td>10139583</td>\n",
       "      <td>0</td>\n",
       "      <td>200</td>\n",
       "    </tr>\n",
       "    <tr>\n",
       "      <th>7400444</th>\n",
       "      <td>10139583</td>\n",
       "      <td>0</td>\n",
       "      <td>202</td>\n",
       "    </tr>\n",
       "  </tbody>\n",
       "</table>\n",
       "</div>"
      ],
      "text/plain": [
       "          user_id  launch_type  launch_date\n",
       "2653182  10139583            0          128\n",
       "5810902  10139583            1          128\n",
       "1        10139583            0          129\n",
       "2665603  10139583            0          200\n",
       "7400444  10139583            0          202"
      ]
     },
     "execution_count": 23,
     "metadata": {},
     "output_type": "execute_result"
    }
   ],
   "source": [
    "launch.loc[launch[\"user_id\"] == 10139583,:].sort_values(by=\"launch_date\")"
   ]
  },
  {
   "cell_type": "code",
   "execution_count": 24,
   "id": "ba9851a8",
   "metadata": {},
   "outputs": [],
   "source": [
    "df = launch.groupby(\"launch_date\").count()"
   ]
  },
  {
   "cell_type": "code",
   "execution_count": 25,
   "id": "ee31a2e4",
   "metadata": {},
   "outputs": [
    {
     "data": {
      "text/html": [
       "<div>\n",
       "<style scoped>\n",
       "    .dataframe tbody tr th:only-of-type {\n",
       "        vertical-align: middle;\n",
       "    }\n",
       "\n",
       "    .dataframe tbody tr th {\n",
       "        vertical-align: top;\n",
       "    }\n",
       "\n",
       "    .dataframe thead th {\n",
       "        text-align: right;\n",
       "    }\n",
       "</style>\n",
       "<table border=\"1\" class=\"dataframe\">\n",
       "  <thead>\n",
       "    <tr style=\"text-align: right;\">\n",
       "      <th></th>\n",
       "      <th>user_id</th>\n",
       "      <th>launch_type</th>\n",
       "    </tr>\n",
       "    <tr>\n",
       "      <th>launch_date</th>\n",
       "      <th></th>\n",
       "      <th></th>\n",
       "    </tr>\n",
       "  </thead>\n",
       "  <tbody>\n",
       "    <tr>\n",
       "      <th>100</th>\n",
       "      <td>39302</td>\n",
       "      <td>39302</td>\n",
       "    </tr>\n",
       "    <tr>\n",
       "      <th>101</th>\n",
       "      <td>39313</td>\n",
       "      <td>39313</td>\n",
       "    </tr>\n",
       "    <tr>\n",
       "      <th>102</th>\n",
       "      <td>39642</td>\n",
       "      <td>39642</td>\n",
       "    </tr>\n",
       "    <tr>\n",
       "      <th>103</th>\n",
       "      <td>39054</td>\n",
       "      <td>39054</td>\n",
       "    </tr>\n",
       "    <tr>\n",
       "      <th>104</th>\n",
       "      <td>36304</td>\n",
       "      <td>36304</td>\n",
       "    </tr>\n",
       "  </tbody>\n",
       "</table>\n",
       "</div>"
      ],
      "text/plain": [
       "             user_id  launch_type\n",
       "launch_date                      \n",
       "100            39302        39302\n",
       "101            39313        39313\n",
       "102            39642        39642\n",
       "103            39054        39054\n",
       "104            36304        36304"
      ]
     },
     "execution_count": 25,
     "metadata": {},
     "output_type": "execute_result"
    }
   ],
   "source": [
    "df.head()"
   ]
  },
  {
   "cell_type": "code",
   "execution_count": 26,
   "id": "ca46a58d",
   "metadata": {},
   "outputs": [
    {
     "data": {
      "text/plain": [
       "(123, 2)"
      ]
     },
     "execution_count": 26,
     "metadata": {},
     "output_type": "execute_result"
    }
   ],
   "source": [
    "df.shape"
   ]
  },
  {
   "cell_type": "code",
   "execution_count": 27,
   "id": "ebb268ba",
   "metadata": {},
   "outputs": [
    {
     "data": {
      "text/plain": [
       "Int64Index([100, 101, 102, 103, 104, 105, 106, 107, 108, 109,\n",
       "            ...\n",
       "            213, 214, 215, 216, 217, 218, 219, 220, 221, 222],\n",
       "           dtype='int64', name='launch_date', length=123)"
      ]
     },
     "execution_count": 27,
     "metadata": {},
     "output_type": "execute_result"
    }
   ],
   "source": [
    "df.index #查看索引即可查看日期范围"
   ]
  },
  {
   "cell_type": "code",
   "execution_count": null,
   "id": "5e68f27b",
   "metadata": {},
   "outputs": [],
   "source": [
    "plt.figure(figsize=(15,9),dpi=200)\n",
    "sns.set(style=\"white\",font=\"Simhei\", font_scale=1.1)\n",
    "plt.bar(df.index,df[\"user_id\"],color=\"#01a2d9\",alpha=0.7)\n",
    "plt.title(\"不同日期登录的总用户数(条形图)\",fontsize=25)\n",
    "plt.grid()\n",
    "plt.xticks(ticks = range(100,221,7),fontsize=14);"
   ]
  },
  {
   "cell_type": "code",
   "execution_count": null,
   "id": "2c31c083",
   "metadata": {},
   "outputs": [],
   "source": [
    "import seaborn as sns\n",
    "plt.figure(figsize=(15, 9), dpi=200)\n",
    "sns.kdeplot(launch[\"launch_date\"],\n",
    "            shade=True,\n",
    "            color=\"#01a2d9\",\n",
    "            label=\"launch_date\",\n",
    "            alpha=.5)\n",
    "sns.set(style=\"whitegrid\",font=\"simhei\", font_scale=1.1)\n",
    "plt.title(\"不同日期登录总用户数的分布图\",fontsize=25)\n",
    "plt.show()"
   ]
  },
  {
   "cell_type": "code",
   "execution_count": 30,
   "id": "88e3c645",
   "metadata": {},
   "outputs": [],
   "source": [
    "launch.to_csv(r\"D:\\Pythonwork\\2022DACase\\UserRetentionPrediction\\data\\app_launch_logs_1.csv\",index=False)"
   ]
  },
  {
   "cell_type": "code",
   "execution_count": 31,
   "id": "b0beb433",
   "metadata": {},
   "outputs": [],
   "source": [
    "inter = pd.read_csv(r\"D:\\Pythonwork\\2022DACase\\UserRetentionPrediction\\data\\user_interaction_data.csv\"\n",
    "                   ,header=0)\n",
    "inter.columns = [\"user_id\",\"video_id\",\"inter_type\",\"inter_date\"]\n",
    "#inter.columns = [\"用户ID\",\"互动的视频ID\",\"互动类型\",\"(脱敏后)互动日期\"]"
   ]
  },
  {
   "cell_type": "code",
   "execution_count": 32,
   "id": "6e7eb5af",
   "metadata": {},
   "outputs": [
    {
     "data": {
      "text/plain": [
       "(198608, 4)"
      ]
     },
     "execution_count": 32,
     "metadata": {},
     "output_type": "execute_result"
    }
   ],
   "source": [
    "inter.shape #包含共19.8w次的互动信息"
   ]
  },
  {
   "cell_type": "code",
   "execution_count": 33,
   "id": "f6d68ab4",
   "metadata": {},
   "outputs": [
    {
     "data": {
      "text/html": [
       "<div>\n",
       "<style scoped>\n",
       "    .dataframe tbody tr th:only-of-type {\n",
       "        vertical-align: middle;\n",
       "    }\n",
       "\n",
       "    .dataframe tbody tr th {\n",
       "        vertical-align: top;\n",
       "    }\n",
       "\n",
       "    .dataframe thead th {\n",
       "        text-align: right;\n",
       "    }\n",
       "</style>\n",
       "<table border=\"1\" class=\"dataframe\">\n",
       "  <thead>\n",
       "    <tr style=\"text-align: right;\">\n",
       "      <th></th>\n",
       "      <th>user_id</th>\n",
       "      <th>video_id</th>\n",
       "      <th>inter_type</th>\n",
       "      <th>inter_date</th>\n",
       "    </tr>\n",
       "  </thead>\n",
       "  <tbody>\n",
       "    <tr>\n",
       "      <th>0</th>\n",
       "      <td>10243056</td>\n",
       "      <td>22635954</td>\n",
       "      <td>1</td>\n",
       "      <td>213</td>\n",
       "    </tr>\n",
       "    <tr>\n",
       "      <th>1</th>\n",
       "      <td>10203565</td>\n",
       "      <td>24723827</td>\n",
       "      <td>3</td>\n",
       "      <td>213</td>\n",
       "    </tr>\n",
       "    <tr>\n",
       "      <th>2</th>\n",
       "      <td>10317559</td>\n",
       "      <td>20413036</td>\n",
       "      <td>2</td>\n",
       "      <td>213</td>\n",
       "    </tr>\n",
       "    <tr>\n",
       "      <th>3</th>\n",
       "      <td>10158940</td>\n",
       "      <td>23833050</td>\n",
       "      <td>1</td>\n",
       "      <td>213</td>\n",
       "    </tr>\n",
       "    <tr>\n",
       "      <th>4</th>\n",
       "      <td>10376271</td>\n",
       "      <td>22218154</td>\n",
       "      <td>1</td>\n",
       "      <td>213</td>\n",
       "    </tr>\n",
       "  </tbody>\n",
       "</table>\n",
       "</div>"
      ],
      "text/plain": [
       "    user_id  video_id  inter_type  inter_date\n",
       "0  10243056  22635954           1         213\n",
       "1  10203565  24723827           3         213\n",
       "2  10317559  20413036           2         213\n",
       "3  10158940  23833050           1         213\n",
       "4  10376271  22218154           1         213"
      ]
     },
     "execution_count": 33,
     "metadata": {},
     "output_type": "execute_result"
    }
   ],
   "source": [
    "inter.head() #互动类型不包括“播放视频”，是发表评论、弹幕、点赞、收藏等类型"
   ]
  },
  {
   "cell_type": "code",
   "execution_count": 34,
   "id": "8c3115fc",
   "metadata": {},
   "outputs": [
    {
     "data": {
      "text/plain": [
       "1     87379\n",
       "10    63958\n",
       "7     18540\n",
       "9      9433\n",
       "2      5142\n",
       "11     4275\n",
       "4      4000\n",
       "8      2256\n",
       "3      1906\n",
       "5      1647\n",
       "6        72\n",
       "Name: inter_type, dtype: int64"
      ]
     },
     "execution_count": 34,
     "metadata": {},
     "output_type": "execute_result"
    }
   ],
   "source": [
    "inter[\"inter_type\"].value_counts() #11种互动类型（不包括播放）"
   ]
  },
  {
   "cell_type": "code",
   "execution_count": 35,
   "id": "2b8f6d46",
   "metadata": {},
   "outputs": [
    {
     "data": {
      "text/plain": [
       "19946"
      ]
     },
     "execution_count": 35,
     "metadata": {},
     "output_type": "execute_result"
    }
   ],
   "source": [
    "inter[\"user_id\"].unique().__len__() #只有1w9的用户曾经与爱奇艺APP有过互动"
   ]
  },
  {
   "cell_type": "code",
   "execution_count": 36,
   "id": "c5f8c24d",
   "metadata": {},
   "outputs": [
    {
     "data": {
      "text/plain": [
       "45536"
      ]
     },
     "execution_count": 36,
     "metadata": {},
     "output_type": "execute_result"
    }
   ],
   "source": [
    "inter[\"video_id\"].unique().__len__() #只有4w5的视频曾经被互动过"
   ]
  },
  {
   "cell_type": "code",
   "execution_count": 37,
   "id": "77524f57",
   "metadata": {},
   "outputs": [
    {
     "data": {
      "text/plain": [
       "user_id       0\n",
       "video_id      0\n",
       "inter_type    0\n",
       "inter_date    0\n",
       "dtype: int64"
      ]
     },
     "execution_count": 37,
     "metadata": {},
     "output_type": "execute_result"
    }
   ],
   "source": [
    "inter.isnull().sum()"
   ]
  },
  {
   "cell_type": "code",
   "execution_count": 38,
   "id": "676d1160",
   "metadata": {},
   "outputs": [
    {
     "data": {
      "text/plain": [
       "86257"
      ]
     },
     "execution_count": 38,
     "metadata": {},
     "output_type": "execute_result"
    }
   ],
   "source": [
    "inter.drop_duplicates().shape[0] #删除重复值后原本19w的数据被缩减为只有8w了"
   ]
  },
  {
   "cell_type": "code",
   "execution_count": 39,
   "id": "eeafca86",
   "metadata": {},
   "outputs": [],
   "source": [
    "#先建立新列，新列中每条样本的值都是1，代表“同一用户、在同一日期、与同一视频进行了一次互动”\n",
    "inter[\"inter_count\"] = 1"
   ]
  },
  {
   "cell_type": "code",
   "execution_count": 40,
   "id": "52d17bc9",
   "metadata": {},
   "outputs": [
    {
     "data": {
      "text/html": [
       "<div>\n",
       "<style scoped>\n",
       "    .dataframe tbody tr th:only-of-type {\n",
       "        vertical-align: middle;\n",
       "    }\n",
       "\n",
       "    .dataframe tbody tr th {\n",
       "        vertical-align: top;\n",
       "    }\n",
       "\n",
       "    .dataframe thead th {\n",
       "        text-align: right;\n",
       "    }\n",
       "</style>\n",
       "<table border=\"1\" class=\"dataframe\">\n",
       "  <thead>\n",
       "    <tr style=\"text-align: right;\">\n",
       "      <th></th>\n",
       "      <th>user_id</th>\n",
       "      <th>video_id</th>\n",
       "      <th>inter_type</th>\n",
       "      <th>inter_date</th>\n",
       "      <th>inter_count</th>\n",
       "    </tr>\n",
       "  </thead>\n",
       "  <tbody>\n",
       "    <tr>\n",
       "      <th>0</th>\n",
       "      <td>10000069</td>\n",
       "      <td>23376803</td>\n",
       "      <td>9</td>\n",
       "      <td>193</td>\n",
       "      <td>2</td>\n",
       "    </tr>\n",
       "    <tr>\n",
       "      <th>1</th>\n",
       "      <td>10000078</td>\n",
       "      <td>20130667</td>\n",
       "      <td>10</td>\n",
       "      <td>175</td>\n",
       "      <td>1</td>\n",
       "    </tr>\n",
       "    <tr>\n",
       "      <th>2</th>\n",
       "      <td>10000107</td>\n",
       "      <td>20193958</td>\n",
       "      <td>1</td>\n",
       "      <td>211</td>\n",
       "      <td>2</td>\n",
       "    </tr>\n",
       "    <tr>\n",
       "      <th>3</th>\n",
       "      <td>10000107</td>\n",
       "      <td>20208525</td>\n",
       "      <td>1</td>\n",
       "      <td>218</td>\n",
       "      <td>3</td>\n",
       "    </tr>\n",
       "    <tr>\n",
       "      <th>4</th>\n",
       "      <td>10000107</td>\n",
       "      <td>20503550</td>\n",
       "      <td>1</td>\n",
       "      <td>221</td>\n",
       "      <td>5</td>\n",
       "    </tr>\n",
       "    <tr>\n",
       "      <th>...</th>\n",
       "      <td>...</td>\n",
       "      <td>...</td>\n",
       "      <td>...</td>\n",
       "      <td>...</td>\n",
       "      <td>...</td>\n",
       "    </tr>\n",
       "    <tr>\n",
       "      <th>86252</th>\n",
       "      <td>10599985</td>\n",
       "      <td>25023986</td>\n",
       "      <td>7</td>\n",
       "      <td>198</td>\n",
       "      <td>1</td>\n",
       "    </tr>\n",
       "    <tr>\n",
       "      <th>86253</th>\n",
       "      <td>10599996</td>\n",
       "      <td>20665255</td>\n",
       "      <td>10</td>\n",
       "      <td>187</td>\n",
       "      <td>3</td>\n",
       "    </tr>\n",
       "    <tr>\n",
       "      <th>86254</th>\n",
       "      <td>10599996</td>\n",
       "      <td>22129667</td>\n",
       "      <td>10</td>\n",
       "      <td>210</td>\n",
       "      <td>4</td>\n",
       "    </tr>\n",
       "    <tr>\n",
       "      <th>86255</th>\n",
       "      <td>10599996</td>\n",
       "      <td>23775525</td>\n",
       "      <td>10</td>\n",
       "      <td>185</td>\n",
       "      <td>1</td>\n",
       "    </tr>\n",
       "    <tr>\n",
       "      <th>86256</th>\n",
       "      <td>10599996</td>\n",
       "      <td>24620852</td>\n",
       "      <td>10</td>\n",
       "      <td>185</td>\n",
       "      <td>2</td>\n",
       "    </tr>\n",
       "  </tbody>\n",
       "</table>\n",
       "<p>86257 rows × 5 columns</p>\n",
       "</div>"
      ],
      "text/plain": [
       "        user_id  video_id  inter_type  inter_date  inter_count\n",
       "0      10000069  23376803           9         193            2\n",
       "1      10000078  20130667          10         175            1\n",
       "2      10000107  20193958           1         211            2\n",
       "3      10000107  20208525           1         218            3\n",
       "4      10000107  20503550           1         221            5\n",
       "...         ...       ...         ...         ...          ...\n",
       "86252  10599985  25023986           7         198            1\n",
       "86253  10599996  20665255          10         187            3\n",
       "86254  10599996  22129667          10         210            4\n",
       "86255  10599996  23775525          10         185            1\n",
       "86256  10599996  24620852          10         185            2\n",
       "\n",
       "[86257 rows x 5 columns]"
      ]
     },
     "execution_count": 40,
     "metadata": {},
     "output_type": "execute_result"
    }
   ],
   "source": [
    "#按照原本存在的4类进行聚合，并对新列inter_count进行计数\n",
    "inter.groupby(by=[\"user_id\",\"video_id\",\"inter_type\",\"inter_date\"],as_index=False).count()"
   ]
  },
  {
   "cell_type": "code",
   "execution_count": 41,
   "id": "31411b6b",
   "metadata": {},
   "outputs": [],
   "source": [
    "inter = inter.groupby(by=[\"user_id\",\"video_id\",\"inter_type\",\"inter_date\"],as_index=False).count()"
   ]
  },
  {
   "cell_type": "code",
   "execution_count": 42,
   "id": "25f940b9",
   "metadata": {},
   "outputs": [],
   "source": [
    "inter.to_csv(r\"D:\\Pythonwork\\2022DACase\\UserRetentionPrediction\\data\\user_interaction_data_1.csv\",index=False)"
   ]
  },
  {
   "cell_type": "code",
   "execution_count": 43,
   "id": "bb917f33",
   "metadata": {},
   "outputs": [],
   "source": [
    "playback = pd.read_csv(r\"D:\\Pythonwork\\2022DACase\\UserRetentionPrediction\\data\\user_playback_data.csv\"\n",
    "                       ,header=0)\n",
    "#playback.columns = [\"用户ID\",\"视频ID\",\"观看时长\",\"(脱敏后)观看日期\"]\n",
    "playback.columns = [\"user_id\",\"video_id\",\"play_duration\",\"play_date\"]"
   ]
  },
  {
   "cell_type": "code",
   "execution_count": 44,
   "id": "63d3b885",
   "metadata": {},
   "outputs": [
    {
     "data": {
      "text/plain": [
       "(71046035, 4)"
      ]
     },
     "execution_count": 44,
     "metadata": {},
     "output_type": "execute_result"
    }
   ],
   "source": [
    "playback.shape #包含不同用户7100w+次浏览记录"
   ]
  },
  {
   "cell_type": "code",
   "execution_count": 45,
   "id": "efd91b30",
   "metadata": {},
   "outputs": [
    {
     "data": {
      "text/html": [
       "<div>\n",
       "<style scoped>\n",
       "    .dataframe tbody tr th:only-of-type {\n",
       "        vertical-align: middle;\n",
       "    }\n",
       "\n",
       "    .dataframe tbody tr th {\n",
       "        vertical-align: top;\n",
       "    }\n",
       "\n",
       "    .dataframe thead th {\n",
       "        text-align: right;\n",
       "    }\n",
       "</style>\n",
       "<table border=\"1\" class=\"dataframe\">\n",
       "  <thead>\n",
       "    <tr style=\"text-align: right;\">\n",
       "      <th></th>\n",
       "      <th>user_id</th>\n",
       "      <th>video_id</th>\n",
       "      <th>play_duration</th>\n",
       "      <th>play_date</th>\n",
       "    </tr>\n",
       "  </thead>\n",
       "  <tbody>\n",
       "    <tr>\n",
       "      <th>0</th>\n",
       "      <td>10057286</td>\n",
       "      <td>20628283.0</td>\n",
       "      <td>2208.612</td>\n",
       "      <td>145</td>\n",
       "    </tr>\n",
       "    <tr>\n",
       "      <th>1</th>\n",
       "      <td>10522615</td>\n",
       "      <td>23930557.0</td>\n",
       "      <td>31.054</td>\n",
       "      <td>145</td>\n",
       "    </tr>\n",
       "    <tr>\n",
       "      <th>2</th>\n",
       "      <td>10494028</td>\n",
       "      <td>20173699.0</td>\n",
       "      <td>115.952</td>\n",
       "      <td>145</td>\n",
       "    </tr>\n",
       "    <tr>\n",
       "      <th>3</th>\n",
       "      <td>10181987</td>\n",
       "      <td>21350426.0</td>\n",
       "      <td>1.585</td>\n",
       "      <td>145</td>\n",
       "    </tr>\n",
       "    <tr>\n",
       "      <th>4</th>\n",
       "      <td>10439175</td>\n",
       "      <td>22946929.0</td>\n",
       "      <td>51.726</td>\n",
       "      <td>145</td>\n",
       "    </tr>\n",
       "  </tbody>\n",
       "</table>\n",
       "</div>"
      ],
      "text/plain": [
       "    user_id    video_id  play_duration  play_date\n",
       "0  10057286  20628283.0       2208.612        145\n",
       "1  10522615  23930557.0         31.054        145\n",
       "2  10494028  20173699.0        115.952        145\n",
       "3  10181987  21350426.0          1.585        145\n",
       "4  10439175  22946929.0         51.726        145"
      ]
     },
     "execution_count": 45,
     "metadata": {},
     "output_type": "execute_result"
    }
   ],
   "source": [
    "playback.head() "
   ]
  },
  {
   "cell_type": "code",
   "execution_count": 46,
   "id": "2bbeabdb",
   "metadata": {},
   "outputs": [
    {
     "data": {
      "text/plain": [
       "251348.689"
      ]
     },
     "execution_count": 46,
     "metadata": {},
     "output_type": "execute_result"
    }
   ],
   "source": [
    "#判断播放时长的单位，该数字明显已超出1天内的秒数\n",
    "playback[\"play_duration\"].max()"
   ]
  },
  {
   "cell_type": "code",
   "execution_count": 47,
   "id": "a0be9038",
   "metadata": {},
   "outputs": [
    {
     "data": {
      "text/plain": [
       "1440"
      ]
     },
     "execution_count": 47,
     "metadata": {},
     "output_type": "execute_result"
    }
   ],
   "source": [
    "24*60"
   ]
  },
  {
   "cell_type": "code",
   "execution_count": 48,
   "id": "649bda52",
   "metadata": {},
   "outputs": [
    {
     "data": {
      "text/plain": [
       "86400"
      ]
     },
     "execution_count": 48,
     "metadata": {},
     "output_type": "execute_result"
    }
   ],
   "source": [
    "24*60*60 #一天的秒数"
   ]
  },
  {
   "cell_type": "code",
   "execution_count": 49,
   "id": "6af8bc13",
   "metadata": {},
   "outputs": [
    {
     "data": {
      "text/plain": [
       "259200"
      ]
     },
     "execution_count": 49,
     "metadata": {},
     "output_type": "execute_result"
    }
   ],
   "source": [
    "24*60*60*3"
   ]
  },
  {
   "cell_type": "code",
   "execution_count": 50,
   "id": "050a6158",
   "metadata": {},
   "outputs": [
    {
     "data": {
      "text/plain": [
       "69.81908027777779"
      ]
     },
     "execution_count": 50,
     "metadata": {},
     "output_type": "execute_result"
    }
   ],
   "source": [
    "251348.689/60/60 #假设为秒，该用户在一天内观看了一个视频69小时，考虑是灰黑产的账号，也可能是爱奇艺数据在脱敏过程中产生的问题"
   ]
  },
  {
   "cell_type": "code",
   "execution_count": 51,
   "id": "dc682241",
   "metadata": {},
   "outputs": [
    {
     "data": {
      "text/plain": [
       "(7, 4)"
      ]
     },
     "execution_count": 51,
     "metadata": {},
     "output_type": "execute_result"
    }
   ],
   "source": [
    "playback[playback[\"play_duration\"] >= 86400].shape #有多少账号一天内观看视频时长超出了24小时？"
   ]
  },
  {
   "cell_type": "code",
   "execution_count": 52,
   "id": "d5401aaa",
   "metadata": {},
   "outputs": [
    {
     "data": {
      "text/plain": [
       "user_id              0\n",
       "video_id         60483\n",
       "play_duration        0\n",
       "play_date            0\n",
       "dtype: int64"
      ]
     },
     "execution_count": 52,
     "metadata": {},
     "output_type": "execute_result"
    }
   ],
   "source": [
    "playback.isnull().sum() #缺失6w条视频ID"
   ]
  },
  {
   "cell_type": "code",
   "execution_count": 53,
   "id": "122e4ec6",
   "metadata": {},
   "outputs": [
    {
     "data": {
      "text/plain": [
       "71046030"
      ]
     },
     "execution_count": 53,
     "metadata": {},
     "output_type": "execute_result"
    }
   ],
   "source": [
    "playback.drop_duplicates().shape[0] #有少量重复值，可以忽略不计"
   ]
  },
  {
   "cell_type": "code",
   "execution_count": 54,
   "id": "1d675ca3",
   "metadata": {},
   "outputs": [
    {
     "data": {
      "text/plain": [
       "4998183"
      ]
     },
     "execution_count": 54,
     "metadata": {},
     "output_type": "execute_result"
    }
   ],
   "source": [
    "playback[\"video_id\"].unique().__len__()"
   ]
  },
  {
   "cell_type": "code",
   "execution_count": 55,
   "id": "06d105fe",
   "metadata": {},
   "outputs": [
    {
     "data": {
      "text/plain": [
       "544536"
      ]
     },
     "execution_count": 55,
     "metadata": {},
     "output_type": "execute_result"
    }
   ],
   "source": [
    "playback[\"user_id\"].unique().__len__() #有54w用户观看了视频，相比之下互动人数真是少得可怜"
   ]
  },
  {
   "cell_type": "code",
   "execution_count": 56,
   "id": "6d07bff4",
   "metadata": {},
   "outputs": [
    {
     "data": {
      "text/html": [
       "<div>\n",
       "<style scoped>\n",
       "    .dataframe tbody tr th:only-of-type {\n",
       "        vertical-align: middle;\n",
       "    }\n",
       "\n",
       "    .dataframe tbody tr th {\n",
       "        vertical-align: top;\n",
       "    }\n",
       "\n",
       "    .dataframe thead th {\n",
       "        text-align: right;\n",
       "    }\n",
       "</style>\n",
       "<table border=\"1\" class=\"dataframe\">\n",
       "  <thead>\n",
       "    <tr style=\"text-align: right;\">\n",
       "      <th></th>\n",
       "      <th>video_id</th>\n",
       "    </tr>\n",
       "  </thead>\n",
       "  <tbody>\n",
       "    <tr>\n",
       "      <th>count</th>\n",
       "      <td>544536.000000</td>\n",
       "    </tr>\n",
       "    <tr>\n",
       "      <th>mean</th>\n",
       "      <td>130.359704</td>\n",
       "    </tr>\n",
       "    <tr>\n",
       "      <th>std</th>\n",
       "      <td>653.054375</td>\n",
       "    </tr>\n",
       "    <tr>\n",
       "      <th>min</th>\n",
       "      <td>0.000000</td>\n",
       "    </tr>\n",
       "    <tr>\n",
       "      <th>25%</th>\n",
       "      <td>4.000000</td>\n",
       "    </tr>\n",
       "    <tr>\n",
       "      <th>50%</th>\n",
       "      <td>17.000000</td>\n",
       "    </tr>\n",
       "    <tr>\n",
       "      <th>75%</th>\n",
       "      <td>77.000000</td>\n",
       "    </tr>\n",
       "    <tr>\n",
       "      <th>max</th>\n",
       "      <td>56150.000000</td>\n",
       "    </tr>\n",
       "  </tbody>\n",
       "</table>\n",
       "</div>"
      ],
      "text/plain": [
       "            video_id\n",
       "count  544536.000000\n",
       "mean      130.359704\n",
       "std       653.054375\n",
       "min         0.000000\n",
       "25%         4.000000\n",
       "50%        17.000000\n",
       "75%        77.000000\n",
       "max     56150.000000"
      ]
     },
     "execution_count": 56,
     "metadata": {},
     "output_type": "execute_result"
    }
   ],
   "source": [
    "playback.loc[:,[\"user_id\",\"video_id\"]].groupby(\"user_id\").count().describe() #看过的视频个数，超级长尾数据，明显有异常值"
   ]
  },
  {
   "cell_type": "code",
   "execution_count": 57,
   "id": "6475372b",
   "metadata": {},
   "outputs": [
    {
     "data": {
      "text/html": [
       "<div>\n",
       "<style scoped>\n",
       "    .dataframe tbody tr th:only-of-type {\n",
       "        vertical-align: middle;\n",
       "    }\n",
       "\n",
       "    .dataframe tbody tr th {\n",
       "        vertical-align: top;\n",
       "    }\n",
       "\n",
       "    .dataframe thead th {\n",
       "        text-align: right;\n",
       "    }\n",
       "</style>\n",
       "<table border=\"1\" class=\"dataframe\">\n",
       "  <thead>\n",
       "    <tr style=\"text-align: right;\">\n",
       "      <th></th>\n",
       "      <th>play_duration</th>\n",
       "    </tr>\n",
       "  </thead>\n",
       "  <tbody>\n",
       "    <tr>\n",
       "      <th>count</th>\n",
       "      <td>544536.000000</td>\n",
       "    </tr>\n",
       "    <tr>\n",
       "      <th>mean</th>\n",
       "      <td>881.578446</td>\n",
       "    </tr>\n",
       "    <tr>\n",
       "      <th>std</th>\n",
       "      <td>2237.300825</td>\n",
       "    </tr>\n",
       "    <tr>\n",
       "      <th>min</th>\n",
       "      <td>0.000017</td>\n",
       "    </tr>\n",
       "    <tr>\n",
       "      <th>25%</th>\n",
       "      <td>5.637638</td>\n",
       "    </tr>\n",
       "    <tr>\n",
       "      <th>50%</th>\n",
       "      <td>105.233392</td>\n",
       "    </tr>\n",
       "    <tr>\n",
       "      <th>75%</th>\n",
       "      <td>748.778250</td>\n",
       "    </tr>\n",
       "    <tr>\n",
       "      <th>max</th>\n",
       "      <td>105398.483683</td>\n",
       "    </tr>\n",
       "  </tbody>\n",
       "</table>\n",
       "</div>"
      ],
      "text/plain": [
       "       play_duration\n",
       "count  544536.000000\n",
       "mean      881.578446\n",
       "std      2237.300825\n",
       "min         0.000017\n",
       "25%         5.637638\n",
       "50%       105.233392\n",
       "75%       748.778250\n",
       "max    105398.483683"
      ]
     },
     "execution_count": 57,
     "metadata": {},
     "output_type": "execute_result"
    }
   ],
   "source": [
    "(playback.loc[:,[\"user_id\",\"play_duration\"]].groupby(\"user_id\").sum()/60).describe() #看过的时长，同样超级长尾数据，同样明显存在异常值"
   ]
  },
  {
   "cell_type": "code",
   "execution_count": 58,
   "id": "8a54b3bc",
   "metadata": {},
   "outputs": [
    {
     "data": {
      "text/html": [
       "<div>\n",
       "<style scoped>\n",
       "    .dataframe tbody tr th:only-of-type {\n",
       "        vertical-align: middle;\n",
       "    }\n",
       "\n",
       "    .dataframe tbody tr th {\n",
       "        vertical-align: top;\n",
       "    }\n",
       "\n",
       "    .dataframe thead th {\n",
       "        text-align: right;\n",
       "    }\n",
       "</style>\n",
       "<table border=\"1\" class=\"dataframe\">\n",
       "  <thead>\n",
       "    <tr style=\"text-align: right;\">\n",
       "      <th></th>\n",
       "      <th></th>\n",
       "      <th>play_duration</th>\n",
       "    </tr>\n",
       "    <tr>\n",
       "      <th>user_id</th>\n",
       "      <th>play_date</th>\n",
       "      <th></th>\n",
       "    </tr>\n",
       "  </thead>\n",
       "  <tbody>\n",
       "    <tr>\n",
       "      <th rowspan=\"4\" valign=\"top\">10000000</th>\n",
       "      <th>131</th>\n",
       "      <td>30.885050</td>\n",
       "    </tr>\n",
       "    <tr>\n",
       "      <th>132</th>\n",
       "      <td>10.410033</td>\n",
       "    </tr>\n",
       "    <tr>\n",
       "      <th>164</th>\n",
       "      <td>9.293433</td>\n",
       "    </tr>\n",
       "    <tr>\n",
       "      <th>195</th>\n",
       "      <td>21.559750</td>\n",
       "    </tr>\n",
       "    <tr>\n",
       "      <th>10000001</th>\n",
       "      <th>117</th>\n",
       "      <td>41.927900</td>\n",
       "    </tr>\n",
       "    <tr>\n",
       "      <th>...</th>\n",
       "      <th>...</th>\n",
       "      <td>...</td>\n",
       "    </tr>\n",
       "    <tr>\n",
       "      <th rowspan=\"4\" valign=\"top\">10599997</th>\n",
       "      <th>164</th>\n",
       "      <td>16.450492</td>\n",
       "    </tr>\n",
       "    <tr>\n",
       "      <th>165</th>\n",
       "      <td>22.307025</td>\n",
       "    </tr>\n",
       "    <tr>\n",
       "      <th>166</th>\n",
       "      <td>18.988150</td>\n",
       "    </tr>\n",
       "    <tr>\n",
       "      <th>173</th>\n",
       "      <td>1.088408</td>\n",
       "    </tr>\n",
       "    <tr>\n",
       "      <th>10599999</th>\n",
       "      <th>144</th>\n",
       "      <td>12.672617</td>\n",
       "    </tr>\n",
       "  </tbody>\n",
       "</table>\n",
       "<p>6202463 rows × 1 columns</p>\n",
       "</div>"
      ],
      "text/plain": [
       "                    play_duration\n",
       "user_id  play_date               \n",
       "10000000 131            30.885050\n",
       "         132            10.410033\n",
       "         164             9.293433\n",
       "         195            21.559750\n",
       "10000001 117            41.927900\n",
       "...                           ...\n",
       "10599997 164            16.450492\n",
       "         165            22.307025\n",
       "         166            18.988150\n",
       "         173             1.088408\n",
       "10599999 144            12.672617\n",
       "\n",
       "[6202463 rows x 1 columns]"
      ]
     },
     "execution_count": 58,
     "metadata": {},
     "output_type": "execute_result"
    }
   ],
   "source": [
    "playback.loc[:,[\"user_id\",\"play_duration\",\"play_date\"]].groupby(by=[\"user_id\",\"play_date\"]).mean()/60 #转化为分钟"
   ]
  },
  {
   "cell_type": "code",
   "execution_count": 59,
   "id": "fa7be335",
   "metadata": {},
   "outputs": [],
   "source": [
    "video = pd.read_csv(r\"D:\\Pythonwork\\2022DACase\\UserRetentionPrediction\\data\\video_related_data.csv\"\n",
    "                       ,header=0)\n",
    "#video.columns = [\"视频ID\",\"视频时长\",\"合集ID\",\"视频标签\",\"演出阵容\"]\n",
    "video.columns = [\"video_id\",\"video_duration\",\"group_id\",\"tag_list\",\"cast\"]"
   ]
  },
  {
   "cell_type": "code",
   "execution_count": 60,
   "id": "4fc638a3",
   "metadata": {},
   "outputs": [
    {
     "data": {
      "text/plain": [
       "(4250105, 5)"
      ]
     },
     "execution_count": 60,
     "metadata": {},
     "output_type": "execute_result"
    }
   ],
   "source": [
    "video.shape #包含424w个视频的记录"
   ]
  },
  {
   "cell_type": "code",
   "execution_count": 61,
   "id": "692c42d7",
   "metadata": {},
   "outputs": [
    {
     "data": {
      "text/html": [
       "<div>\n",
       "<style scoped>\n",
       "    .dataframe tbody tr th:only-of-type {\n",
       "        vertical-align: middle;\n",
       "    }\n",
       "\n",
       "    .dataframe tbody tr th {\n",
       "        vertical-align: top;\n",
       "    }\n",
       "\n",
       "    .dataframe thead th {\n",
       "        text-align: right;\n",
       "    }\n",
       "</style>\n",
       "<table border=\"1\" class=\"dataframe\">\n",
       "  <thead>\n",
       "    <tr style=\"text-align: right;\">\n",
       "      <th></th>\n",
       "      <th>video_id</th>\n",
       "      <th>video_duration</th>\n",
       "      <th>group_id</th>\n",
       "      <th>tag_list</th>\n",
       "      <th>cast</th>\n",
       "    </tr>\n",
       "  </thead>\n",
       "  <tbody>\n",
       "    <tr>\n",
       "      <th>0</th>\n",
       "      <td>24403453.0</td>\n",
       "      <td>6.0</td>\n",
       "      <td>NaN</td>\n",
       "      <td>50365080;50338575;50313222;50165986</td>\n",
       "      <td>NaN</td>\n",
       "    </tr>\n",
       "    <tr>\n",
       "      <th>1</th>\n",
       "      <td>22838795.0</td>\n",
       "      <td>7.0</td>\n",
       "      <td>NaN</td>\n",
       "      <td>50001708;50323515;50125414</td>\n",
       "      <td>NaN</td>\n",
       "    </tr>\n",
       "    <tr>\n",
       "      <th>2</th>\n",
       "      <td>24181187.0</td>\n",
       "      <td>5.0</td>\n",
       "      <td>NaN</td>\n",
       "      <td>50181045;50008354;50186586;50097060;50136213;5...</td>\n",
       "      <td>NaN</td>\n",
       "    </tr>\n",
       "    <tr>\n",
       "      <th>3</th>\n",
       "      <td>23549051.0</td>\n",
       "      <td>NaN</td>\n",
       "      <td>NaN</td>\n",
       "      <td>NaN</td>\n",
       "      <td>NaN</td>\n",
       "    </tr>\n",
       "    <tr>\n",
       "      <th>4</th>\n",
       "      <td>20276917.0</td>\n",
       "      <td>8.0</td>\n",
       "      <td>NaN</td>\n",
       "      <td>50286627;50257578;50415463</td>\n",
       "      <td>NaN</td>\n",
       "    </tr>\n",
       "  </tbody>\n",
       "</table>\n",
       "</div>"
      ],
      "text/plain": [
       "     video_id  video_duration  group_id  \\\n",
       "0  24403453.0             6.0       NaN   \n",
       "1  22838795.0             7.0       NaN   \n",
       "2  24181187.0             5.0       NaN   \n",
       "3  23549051.0             NaN       NaN   \n",
       "4  20276917.0             8.0       NaN   \n",
       "\n",
       "                                            tag_list cast  \n",
       "0                50365080;50338575;50313222;50165986  NaN  \n",
       "1                         50001708;50323515;50125414  NaN  \n",
       "2  50181045;50008354;50186586;50097060;50136213;5...  NaN  \n",
       "3                                                NaN  NaN  \n",
       "4                         50286627;50257578;50415463  NaN  "
      ]
     },
     "execution_count": 61,
     "metadata": {},
     "output_type": "execute_result"
    }
   ],
   "source": [
    "video.head()"
   ]
  },
  {
   "cell_type": "code",
   "execution_count": 62,
   "id": "0726166f",
   "metadata": {},
   "outputs": [
    {
     "data": {
      "text/plain": [
       "16.0"
      ]
     },
     "execution_count": 62,
     "metadata": {},
     "output_type": "execute_result"
    }
   ],
   "source": [
    "video[\"video_duration\"].max()"
   ]
  },
  {
   "cell_type": "code",
   "execution_count": 63,
   "id": "fc0ca916",
   "metadata": {},
   "outputs": [
    {
     "data": {
      "text/plain": [
       "1.0"
      ]
     },
     "execution_count": 63,
     "metadata": {},
     "output_type": "execute_result"
    }
   ],
   "source": [
    "video[\"video_duration\"].min()"
   ]
  },
  {
   "cell_type": "code",
   "execution_count": 64,
   "id": "a19ac3ff",
   "metadata": {},
   "outputs": [
    {
     "data": {
      "text/plain": [
       "video_id               66\n",
       "video_duration     364078\n",
       "group_id          2820142\n",
       "tag_list           592337\n",
       "cast              3775461\n",
       "dtype: int64"
      ]
     },
     "execution_count": 64,
     "metadata": {},
     "output_type": "execute_result"
    }
   ],
   "source": [
    "video.isnull().sum() #大量缺失"
   ]
  },
  {
   "cell_type": "code",
   "execution_count": 65,
   "id": "40a5a256",
   "metadata": {},
   "outputs": [
    {
     "data": {
      "text/plain": [
       "4250105"
      ]
     },
     "execution_count": 65,
     "metadata": {},
     "output_type": "execute_result"
    }
   ],
   "source": [
    "video.drop_duplicates().shape[0] #没有任何重复值"
   ]
  },
  {
   "cell_type": "code",
   "execution_count": 66,
   "id": "e5e44b3e",
   "metadata": {},
   "outputs": [],
   "source": [
    "user = pd.read_csv(r\"D:\\Pythonwork\\2022DACase\\UserRetentionPrediction\\data\\user_portrait_data.csv\"\n",
    "                       ,header=0)\n",
    "#user.columns = [\"用户ID\",\"设备类型\",\"设备运存RAM\",\"设备内存ROM\",\"性别\",\"年龄段\",\"教育程度\",\"职业\",\"邮编\"]"
   ]
  },
  {
   "cell_type": "code",
   "execution_count": 67,
   "id": "3875bbf2",
   "metadata": {},
   "outputs": [
    {
     "data": {
      "text/plain": [
       "(596906, 9)"
      ]
     },
     "execution_count": 67,
     "metadata": {},
     "output_type": "execute_result"
    }
   ],
   "source": [
    "user.shape #包含59w用户的画像"
   ]
  },
  {
   "cell_type": "code",
   "execution_count": 68,
   "id": "ec0a4736",
   "metadata": {},
   "outputs": [
    {
     "data": {
      "text/html": [
       "<div>\n",
       "<style scoped>\n",
       "    .dataframe tbody tr th:only-of-type {\n",
       "        vertical-align: middle;\n",
       "    }\n",
       "\n",
       "    .dataframe tbody tr th {\n",
       "        vertical-align: top;\n",
       "    }\n",
       "\n",
       "    .dataframe thead th {\n",
       "        text-align: right;\n",
       "    }\n",
       "</style>\n",
       "<table border=\"1\" class=\"dataframe\">\n",
       "  <thead>\n",
       "    <tr style=\"text-align: right;\">\n",
       "      <th></th>\n",
       "      <th>user_id</th>\n",
       "      <th>device_type</th>\n",
       "      <th>device_ram</th>\n",
       "      <th>device_rom</th>\n",
       "      <th>sex</th>\n",
       "      <th>age</th>\n",
       "      <th>education</th>\n",
       "      <th>occupation_status</th>\n",
       "      <th>territory_code</th>\n",
       "    </tr>\n",
       "  </thead>\n",
       "  <tbody>\n",
       "    <tr>\n",
       "      <th>0</th>\n",
       "      <td>10209854</td>\n",
       "      <td>2.0</td>\n",
       "      <td>5731</td>\n",
       "      <td>109581</td>\n",
       "      <td>1.0</td>\n",
       "      <td>2.0</td>\n",
       "      <td>0.0</td>\n",
       "      <td>1.0</td>\n",
       "      <td>865101.0</td>\n",
       "    </tr>\n",
       "    <tr>\n",
       "      <th>1</th>\n",
       "      <td>10230057</td>\n",
       "      <td>2.0</td>\n",
       "      <td>1877</td>\n",
       "      <td>20888</td>\n",
       "      <td>1.0</td>\n",
       "      <td>4.0</td>\n",
       "      <td>0.0</td>\n",
       "      <td>1.0</td>\n",
       "      <td>864102.0</td>\n",
       "    </tr>\n",
       "    <tr>\n",
       "      <th>2</th>\n",
       "      <td>10194990</td>\n",
       "      <td>2.0</td>\n",
       "      <td>7593</td>\n",
       "      <td>235438</td>\n",
       "      <td>2.0</td>\n",
       "      <td>3.0</td>\n",
       "      <td>1.0</td>\n",
       "      <td>1.0</td>\n",
       "      <td>866540.0</td>\n",
       "    </tr>\n",
       "    <tr>\n",
       "      <th>3</th>\n",
       "      <td>10046058</td>\n",
       "      <td>2.0</td>\n",
       "      <td>NaN</td>\n",
       "      <td>55137</td>\n",
       "      <td>1.0</td>\n",
       "      <td>4.0</td>\n",
       "      <td>0.0</td>\n",
       "      <td>1.0</td>\n",
       "      <td>NaN</td>\n",
       "    </tr>\n",
       "    <tr>\n",
       "      <th>4</th>\n",
       "      <td>10290885</td>\n",
       "      <td>2.0</td>\n",
       "      <td>2816</td>\n",
       "      <td>52431</td>\n",
       "      <td>1.0</td>\n",
       "      <td>4.0</td>\n",
       "      <td>0.0</td>\n",
       "      <td>0.0</td>\n",
       "      <td>NaN</td>\n",
       "    </tr>\n",
       "  </tbody>\n",
       "</table>\n",
       "</div>"
      ],
      "text/plain": [
       "    user_id  device_type device_ram device_rom  sex  age  education  \\\n",
       "0  10209854          2.0       5731     109581  1.0  2.0        0.0   \n",
       "1  10230057          2.0       1877      20888  1.0  4.0        0.0   \n",
       "2  10194990          2.0       7593     235438  2.0  3.0        1.0   \n",
       "3  10046058          2.0        NaN      55137  1.0  4.0        0.0   \n",
       "4  10290885          2.0       2816      52431  1.0  4.0        0.0   \n",
       "\n",
       "   occupation_status  territory_code  \n",
       "0                1.0        865101.0  \n",
       "1                1.0        864102.0  \n",
       "2                1.0        866540.0  \n",
       "3                1.0             NaN  \n",
       "4                0.0             NaN  "
      ]
     },
     "execution_count": 68,
     "metadata": {},
     "output_type": "execute_result"
    }
   ],
   "source": [
    "user.head()"
   ]
  },
  {
   "cell_type": "code",
   "execution_count": 69,
   "id": "eee7835d",
   "metadata": {},
   "outputs": [
    {
     "data": {
      "text/plain": [
       "596905"
      ]
     },
     "execution_count": 69,
     "metadata": {},
     "output_type": "execute_result"
    }
   ],
   "source": [
    "user[\"user_id\"].unique().__len__() #有一个重复用户ID，可以忽略不计"
   ]
  },
  {
   "cell_type": "code",
   "execution_count": 70,
   "id": "33df3b33",
   "metadata": {},
   "outputs": [
    {
     "data": {
      "text/plain": [
       "user_id                  0\n",
       "device_type            339\n",
       "device_ram           37772\n",
       "device_rom           28434\n",
       "sex                   6447\n",
       "age                   7738\n",
       "education            11003\n",
       "occupation_status     7983\n",
       "territory_code       37281\n",
       "dtype: int64"
      ]
     },
     "execution_count": 70,
     "metadata": {},
     "output_type": "execute_result"
    }
   ],
   "source": [
    "user.isnull().sum() #有缺失值但占比不高，可以进行缺失值填补"
   ]
  },
  {
   "cell_type": "code",
   "execution_count": 71,
   "id": "4238ac10",
   "metadata": {},
   "outputs": [
    {
     "data": {
      "text/plain": [
       "596905"
      ]
     },
     "execution_count": 71,
     "metadata": {},
     "output_type": "execute_result"
    }
   ],
   "source": [
    "user.drop_duplicates().shape[0] #没有重复值"
   ]
  },
  {
   "cell_type": "code",
   "execution_count": 72,
   "id": "3fb2a9a2",
   "metadata": {},
   "outputs": [
    {
     "data": {
      "text/html": [
       "<div>\n",
       "<style scoped>\n",
       "    .dataframe tbody tr th:only-of-type {\n",
       "        vertical-align: middle;\n",
       "    }\n",
       "\n",
       "    .dataframe tbody tr th {\n",
       "        vertical-align: top;\n",
       "    }\n",
       "\n",
       "    .dataframe thead th {\n",
       "        text-align: right;\n",
       "    }\n",
       "</style>\n",
       "<table border=\"1\" class=\"dataframe\">\n",
       "  <thead>\n",
       "    <tr style=\"text-align: right;\">\n",
       "      <th></th>\n",
       "      <th>user_id</th>\n",
       "      <th>device_type</th>\n",
       "      <th>device_ram</th>\n",
       "      <th>device_rom</th>\n",
       "      <th>sex</th>\n",
       "      <th>age</th>\n",
       "      <th>education</th>\n",
       "      <th>occupation_status</th>\n",
       "      <th>territory_code</th>\n",
       "    </tr>\n",
       "  </thead>\n",
       "  <tbody>\n",
       "    <tr>\n",
       "      <th>0</th>\n",
       "      <td>10209854</td>\n",
       "      <td>2.0</td>\n",
       "      <td>5731</td>\n",
       "      <td>109581</td>\n",
       "      <td>1.0</td>\n",
       "      <td>2.0</td>\n",
       "      <td>0.0</td>\n",
       "      <td>1.0</td>\n",
       "      <td>865101.0</td>\n",
       "    </tr>\n",
       "    <tr>\n",
       "      <th>1</th>\n",
       "      <td>10230057</td>\n",
       "      <td>2.0</td>\n",
       "      <td>1877</td>\n",
       "      <td>20888</td>\n",
       "      <td>1.0</td>\n",
       "      <td>4.0</td>\n",
       "      <td>0.0</td>\n",
       "      <td>1.0</td>\n",
       "      <td>864102.0</td>\n",
       "    </tr>\n",
       "    <tr>\n",
       "      <th>2</th>\n",
       "      <td>10194990</td>\n",
       "      <td>2.0</td>\n",
       "      <td>7593</td>\n",
       "      <td>235438</td>\n",
       "      <td>2.0</td>\n",
       "      <td>3.0</td>\n",
       "      <td>1.0</td>\n",
       "      <td>1.0</td>\n",
       "      <td>866540.0</td>\n",
       "    </tr>\n",
       "    <tr>\n",
       "      <th>3</th>\n",
       "      <td>10046058</td>\n",
       "      <td>2.0</td>\n",
       "      <td>NaN</td>\n",
       "      <td>55137</td>\n",
       "      <td>1.0</td>\n",
       "      <td>4.0</td>\n",
       "      <td>0.0</td>\n",
       "      <td>1.0</td>\n",
       "      <td>NaN</td>\n",
       "    </tr>\n",
       "    <tr>\n",
       "      <th>4</th>\n",
       "      <td>10290885</td>\n",
       "      <td>2.0</td>\n",
       "      <td>2816</td>\n",
       "      <td>52431</td>\n",
       "      <td>1.0</td>\n",
       "      <td>4.0</td>\n",
       "      <td>0.0</td>\n",
       "      <td>0.0</td>\n",
       "      <td>NaN</td>\n",
       "    </tr>\n",
       "  </tbody>\n",
       "</table>\n",
       "</div>"
      ],
      "text/plain": [
       "    user_id  device_type device_ram device_rom  sex  age  education  \\\n",
       "0  10209854          2.0       5731     109581  1.0  2.0        0.0   \n",
       "1  10230057          2.0       1877      20888  1.0  4.0        0.0   \n",
       "2  10194990          2.0       7593     235438  2.0  3.0        1.0   \n",
       "3  10046058          2.0        NaN      55137  1.0  4.0        0.0   \n",
       "4  10290885          2.0       2816      52431  1.0  4.0        0.0   \n",
       "\n",
       "   occupation_status  territory_code  \n",
       "0                1.0        865101.0  \n",
       "1                1.0        864102.0  \n",
       "2                1.0        866540.0  \n",
       "3                1.0             NaN  \n",
       "4                0.0             NaN  "
      ]
     },
     "execution_count": 72,
     "metadata": {},
     "output_type": "execute_result"
    }
   ],
   "source": [
    "user.head()"
   ]
  },
  {
   "cell_type": "code",
   "execution_count": 73,
   "id": "c165336e",
   "metadata": {},
   "outputs": [
    {
     "name": "stdout",
     "output_type": "stream",
     "text": [
      "<class 'pandas.core.frame.DataFrame'>\n",
      "RangeIndex: 596906 entries, 0 to 596905\n",
      "Data columns (total 9 columns):\n",
      " #   Column             Non-Null Count   Dtype  \n",
      "---  ------             --------------   -----  \n",
      " 0   user_id            596906 non-null  int64  \n",
      " 1   device_type        596567 non-null  float64\n",
      " 2   device_ram         559134 non-null  object \n",
      " 3   device_rom         568472 non-null  object \n",
      " 4   sex                590459 non-null  float64\n",
      " 5   age                589168 non-null  float64\n",
      " 6   education          585903 non-null  float64\n",
      " 7   occupation_status  588923 non-null  float64\n",
      " 8   territory_code     559625 non-null  float64\n",
      "dtypes: float64(6), int64(1), object(2)\n",
      "memory usage: 41.0+ MB\n"
     ]
    }
   ],
   "source": [
    "user.info() #查看数据类型，查看数据分布"
   ]
  },
  {
   "cell_type": "code",
   "execution_count": 74,
   "id": "fa9b79c8",
   "metadata": {},
   "outputs": [
    {
     "data": {
      "text/plain": [
       "3.0    254250\n",
       "4.0    201286\n",
       "2.0     80789\n",
       "5.0     37283\n",
       "1.0     15560\n",
       "Name: age, dtype: int64"
      ]
     },
     "execution_count": 74,
     "metadata": {},
     "output_type": "execute_result"
    }
   ],
   "source": [
    "user[\"age\"].value_counts()"
   ]
  },
  {
   "cell_type": "code",
   "execution_count": 75,
   "id": "149eb4c5",
   "metadata": {},
   "outputs": [],
   "source": [
    "#对所有列使用众数进行填补\n",
    "for column in user.columns:\n",
    "    user[column] = user[column].fillna(user[column].value_counts().index[0])"
   ]
  },
  {
   "cell_type": "code",
   "execution_count": 76,
   "id": "5e9c46d6",
   "metadata": {},
   "outputs": [
    {
     "data": {
      "text/plain": [
       "user_id              0\n",
       "device_type          0\n",
       "device_ram           0\n",
       "device_rom           0\n",
       "sex                  0\n",
       "age                  0\n",
       "education            0\n",
       "occupation_status    0\n",
       "territory_code       0\n",
       "dtype: int64"
      ]
     },
     "execution_count": 76,
     "metadata": {},
     "output_type": "execute_result"
    }
   ],
   "source": [
    "user.isnull().sum()"
   ]
  },
  {
   "cell_type": "code",
   "execution_count": 77,
   "id": "6004a84e",
   "metadata": {},
   "outputs": [
    {
     "name": "stdout",
     "output_type": "stream",
     "text": [
      "<class 'pandas.core.frame.DataFrame'>\n",
      "RangeIndex: 596906 entries, 0 to 596905\n",
      "Data columns (total 9 columns):\n",
      " #   Column             Non-Null Count   Dtype  \n",
      "---  ------             --------------   -----  \n",
      " 0   user_id            596906 non-null  int64  \n",
      " 1   device_type        596906 non-null  float64\n",
      " 2   device_ram         596906 non-null  object \n",
      " 3   device_rom         596906 non-null  object \n",
      " 4   sex                596906 non-null  float64\n",
      " 5   age                596906 non-null  float64\n",
      " 6   education          596906 non-null  float64\n",
      " 7   occupation_status  596906 non-null  float64\n",
      " 8   territory_code     596906 non-null  float64\n",
      "dtypes: float64(6), int64(1), object(2)\n",
      "memory usage: 41.0+ MB\n"
     ]
    }
   ],
   "source": [
    "user.info()"
   ]
  },
  {
   "cell_type": "code",
   "execution_count": null,
   "id": "c295833e",
   "metadata": {
    "tags": []
   },
   "outputs": [],
   "source": [
    "#直接令device_ram和device_rom转变为浮点数，则会报错。\n",
    "user[\"device_ram\"].astype(\"float64\")"
   ]
  },
  {
   "cell_type": "code",
   "execution_count": null,
   "id": "58645d36",
   "metadata": {},
   "outputs": [],
   "source": [
    "user[\"device_rom\"].astype(\"float64\")"
   ]
  },
  {
   "cell_type": "code",
   "execution_count": 79,
   "id": "d42c84a3",
   "metadata": {},
   "outputs": [],
   "source": [
    "#如何找出所有含分号的样本？可以使用正则表达式，也可以先将所有值转换为字符串后，再提取出字符串长度大于正常长度的样本\n",
    "user[\"device_ram\"] = user[\"device_ram\"].astype(str)\n",
    "user[\"device_rom\"] = user[\"device_rom\"].astype(str)"
   ]
  },
  {
   "cell_type": "code",
   "execution_count": 80,
   "id": "6961f60a",
   "metadata": {},
   "outputs": [
    {
     "data": {
      "text/plain": [
       "5289       7625;3595\n",
       "5732       7547;7567\n",
       "7640       7396;7394\n",
       "8921       3656;5664\n",
       "12574      7705;7690\n",
       "             ...    \n",
       "584623    5734;11276\n",
       "585043    11388;3711\n",
       "587763     5666;5621\n",
       "591167     5666;5634\n",
       "592656     5987;5988\n",
       "Name: device_ram, Length: 194, dtype: object"
      ]
     },
     "execution_count": 80,
     "metadata": {},
     "output_type": "execute_result"
    }
   ],
   "source": [
    "user.loc[user[\"device_ram\"].apply(lambda x : len(x) > 5),\"device_ram\"]"
   ]
  },
  {
   "cell_type": "code",
   "execution_count": 81,
   "id": "98f51ed8",
   "metadata": {},
   "outputs": [
    {
     "data": {
      "text/plain": [
       "2766           51872;52472\n",
       "5289          55034;111304\n",
       "7797         228635;228835\n",
       "8921         110757;110069\n",
       "16212          52170;52370\n",
       "                ...       \n",
       "587763       111289;227939\n",
       "589841             1023946\n",
       "591167       110022;111225\n",
       "591547          3760;10363\n",
       "593964    2671;2354;255989\n",
       "Name: device_rom, Length: 289, dtype: object"
      ]
     },
     "execution_count": 81,
     "metadata": {},
     "output_type": "execute_result"
    }
   ],
   "source": [
    "user.loc[user[\"device_rom\"].apply(lambda x : len(x) > 6),\"device_rom\"]"
   ]
  },
  {
   "cell_type": "code",
   "execution_count": 82,
   "id": "bde49914",
   "metadata": {},
   "outputs": [],
   "source": [
    "user[\"device_rom\"] = user[\"device_rom\"].apply(lambda x:x.split(\";\")[-1]).astype(\"float64\")\n",
    "user[\"device_ram\"] = user[\"device_ram\"].apply(lambda x:x.split(\";\")[-1]).astype(\"float64\")"
   ]
  },
  {
   "cell_type": "code",
   "execution_count": 83,
   "id": "dc49c3bf",
   "metadata": {},
   "outputs": [
    {
     "name": "stdout",
     "output_type": "stream",
     "text": [
      "<class 'pandas.core.frame.DataFrame'>\n",
      "RangeIndex: 596906 entries, 0 to 596905\n",
      "Data columns (total 9 columns):\n",
      " #   Column             Non-Null Count   Dtype  \n",
      "---  ------             --------------   -----  \n",
      " 0   user_id            596906 non-null  int64  \n",
      " 1   device_type        596906 non-null  float64\n",
      " 2   device_ram         596906 non-null  float64\n",
      " 3   device_rom         596906 non-null  float64\n",
      " 4   sex                596906 non-null  float64\n",
      " 5   age                596906 non-null  float64\n",
      " 6   education          596906 non-null  float64\n",
      " 7   occupation_status  596906 non-null  float64\n",
      " 8   territory_code     596906 non-null  float64\n",
      "dtypes: float64(8), int64(1)\n",
      "memory usage: 41.0 MB\n"
     ]
    }
   ],
   "source": [
    "user.info()"
   ]
  },
  {
   "cell_type": "code",
   "execution_count": 84,
   "id": "cfb06a53",
   "metadata": {},
   "outputs": [],
   "source": [
    "user.to_csv(r\"D:\\Pythonwork\\2022DACase\\UserRetentionPrediction\\data\\user_portrait_data_1.csv\",index=False)"
   ]
  },
  {
   "cell_type": "code",
   "execution_count": 90,
   "id": "bfe0710e",
   "metadata": {},
   "outputs": [
    {
     "name": "stdout",
     "output_type": "stream",
     "text": [
      "测试数据 覆盖时间周期为 161 to 222\n",
      "登录数据 覆盖时间周期为 100 to 222\n",
      "互动数据 覆盖时间周期为 172 to 222\n",
      "播放数据 覆盖时间周期为 100 to 222\n"
     ]
    }
   ],
   "source": [
    "for name,column,data in zip([\"测试数据\",\"登录数据\",\"互动数据\",\"播放数据\"]\n",
    "                            ,[\"predict_date\",\"launch_date\",\"inter_date\",\"play_date\"]\n",
    "                            ,[test,launch,inter,playback]):\n",
    "    max_ = data[column].max()\n",
    "    min_ = data[column].min()\n",
    "    print(name,\"覆盖时间周期为\",min_,\"to\",max_)"
   ]
  },
  {
   "cell_type": "code",
   "execution_count": 510,
   "id": "0dff4bc8",
   "metadata": {},
   "outputs": [
    {
     "data": {
      "text/html": [
       "<div>\n",
       "<style scoped>\n",
       "    .dataframe tbody tr th:only-of-type {\n",
       "        vertical-align: middle;\n",
       "    }\n",
       "\n",
       "    .dataframe tbody tr th {\n",
       "        vertical-align: top;\n",
       "    }\n",
       "\n",
       "    .dataframe thead th {\n",
       "        text-align: right;\n",
       "    }\n",
       "</style>\n",
       "<table border=\"1\" class=\"dataframe\">\n",
       "  <thead>\n",
       "    <tr style=\"text-align: right;\">\n",
       "      <th></th>\n",
       "      <th>user_id</th>\n",
       "      <th>predict_date</th>\n",
       "    </tr>\n",
       "  </thead>\n",
       "  <tbody>\n",
       "    <tr>\n",
       "      <th>0</th>\n",
       "      <td>10007813</td>\n",
       "      <td>205</td>\n",
       "    </tr>\n",
       "    <tr>\n",
       "      <th>1</th>\n",
       "      <td>10052988</td>\n",
       "      <td>210</td>\n",
       "    </tr>\n",
       "    <tr>\n",
       "      <th>2</th>\n",
       "      <td>10279068</td>\n",
       "      <td>200</td>\n",
       "    </tr>\n",
       "    <tr>\n",
       "      <th>3</th>\n",
       "      <td>10546696</td>\n",
       "      <td>216</td>\n",
       "    </tr>\n",
       "    <tr>\n",
       "      <th>4</th>\n",
       "      <td>10406659</td>\n",
       "      <td>183</td>\n",
       "    </tr>\n",
       "  </tbody>\n",
       "</table>\n",
       "</div>"
      ],
      "text/plain": [
       "    user_id  predict_date\n",
       "0  10007813           205\n",
       "1  10052988           210\n",
       "2  10279068           200\n",
       "3  10546696           216\n",
       "4  10406659           183"
      ]
     },
     "execution_count": 510,
     "metadata": {},
     "output_type": "execute_result"
    }
   ],
   "source": [
    "test.head()"
   ]
  },
  {
   "cell_type": "code",
   "execution_count": 512,
   "id": "f381c7b7",
   "metadata": {},
   "outputs": [
    {
     "data": {
      "text/plain": [
       "196    358\n",
       "200    355\n",
       "194    354\n",
       "202    344\n",
       "203    342\n",
       "      ... \n",
       "171    146\n",
       "220    145\n",
       "221    144\n",
       "216    143\n",
       "213    143\n",
       "Name: predict_date, Length: 62, dtype: int64"
      ]
     },
     "execution_count": 512,
     "metadata": {},
     "output_type": "execute_result"
    }
   ],
   "source": [
    "test[\"predict_date\"].value_counts()"
   ]
  },
  {
   "cell_type": "markdown",
   "id": "0ecd1b72",
   "metadata": {},
   "source": [
    "![](https://skojiangdoc.oss-cn-beijing.aliyuncs.com/2021MachineLearning/2022Case/08.1.png)"
   ]
  },
  {
   "cell_type": "code",
   "execution_count": 11,
   "id": "708f0430",
   "metadata": {},
   "outputs": [],
   "source": [
    "import numpy as np\n",
    "import pandas as pd\n",
    "import matplotlib.pyplot as plt\n",
    "%matplotlib inline"
   ]
  },
  {
   "cell_type": "code",
   "execution_count": 14,
   "id": "a4a95641",
   "metadata": {},
   "outputs": [],
   "source": [
    "df=pd.read_csv(r'D:\\Pythonwork\\2022DACase\\UserRententionPrediction\\data\\perrin-freres-monthly-champagne.csv')"
   ]
  },
  {
   "cell_type": "code",
   "execution_count": 15,
   "id": "fd10a9b7",
   "metadata": {},
   "outputs": [
    {
     "data": {
      "text/html": [
       "<div>\n",
       "<style scoped>\n",
       "    .dataframe tbody tr th:only-of-type {\n",
       "        vertical-align: middle;\n",
       "    }\n",
       "\n",
       "    .dataframe tbody tr th {\n",
       "        vertical-align: top;\n",
       "    }\n",
       "\n",
       "    .dataframe thead th {\n",
       "        text-align: right;\n",
       "    }\n",
       "</style>\n",
       "<table border=\"1\" class=\"dataframe\">\n",
       "  <thead>\n",
       "    <tr style=\"text-align: right;\">\n",
       "      <th></th>\n",
       "      <th>Month</th>\n",
       "      <th>Perrin Freres monthly champagne sales millions ?64-?72</th>\n",
       "    </tr>\n",
       "  </thead>\n",
       "  <tbody>\n",
       "    <tr>\n",
       "      <th>0</th>\n",
       "      <td>1964-01</td>\n",
       "      <td>2815.0</td>\n",
       "    </tr>\n",
       "    <tr>\n",
       "      <th>1</th>\n",
       "      <td>1964-02</td>\n",
       "      <td>2672.0</td>\n",
       "    </tr>\n",
       "    <tr>\n",
       "      <th>2</th>\n",
       "      <td>1964-03</td>\n",
       "      <td>2755.0</td>\n",
       "    </tr>\n",
       "    <tr>\n",
       "      <th>3</th>\n",
       "      <td>1964-04</td>\n",
       "      <td>2721.0</td>\n",
       "    </tr>\n",
       "    <tr>\n",
       "      <th>4</th>\n",
       "      <td>1964-05</td>\n",
       "      <td>2946.0</td>\n",
       "    </tr>\n",
       "  </tbody>\n",
       "</table>\n",
       "</div>"
      ],
      "text/plain": [
       "     Month  Perrin Freres monthly champagne sales millions ?64-?72\n",
       "0  1964-01                                             2815.0     \n",
       "1  1964-02                                             2672.0     \n",
       "2  1964-03                                             2755.0     \n",
       "3  1964-04                                             2721.0     \n",
       "4  1964-05                                             2946.0     "
      ]
     },
     "execution_count": 15,
     "metadata": {},
     "output_type": "execute_result"
    }
   ],
   "source": [
    "df.head() #香槟销售额随时间变化的数据"
   ]
  },
  {
   "cell_type": "markdown",
   "id": "2900df68",
   "metadata": {},
   "source": [
    "- 简单数据探索与清洗"
   ]
  },
  {
   "cell_type": "code",
   "execution_count": 16,
   "id": "b51e6398",
   "metadata": {},
   "outputs": [
    {
     "data": {
      "text/plain": [
       "dtype('O')"
      ]
     },
     "execution_count": 16,
     "metadata": {},
     "output_type": "execute_result"
    }
   ],
   "source": [
    "df[\"Month\"].dtype"
   ]
  },
  {
   "cell_type": "code",
   "execution_count": 17,
   "id": "420631ec",
   "metadata": {},
   "outputs": [
    {
     "data": {
      "text/plain": [
       "dtype('float64')"
      ]
     },
     "execution_count": 17,
     "metadata": {},
     "output_type": "execute_result"
    }
   ],
   "source": [
    "df.iloc[:,-1].dtype"
   ]
  },
  {
   "cell_type": "code",
   "execution_count": 18,
   "id": "6abf4703",
   "metadata": {
    "tags": []
   },
   "outputs": [],
   "source": [
    "#确定列名，检验缺失值、填补/删除缺失值等等\n",
    "df.columns=[\"Month\",\"Sales\"]\n",
    "df.drop(106,axis=0,inplace=True)\n",
    "df.drop(105,axis=0,inplace=True)\n",
    "\n",
    "#转化时间字符串为DataTime格式\n",
    "df['Month']=pd.to_datetime(df['Month'])\n",
    "\n",
    "#将时间设置为索引\n",
    "df.set_index('Month',inplace=True)"
   ]
  },
  {
   "cell_type": "code",
   "execution_count": 19,
   "id": "7015c642",
   "metadata": {},
   "outputs": [
    {
     "data": {
      "text/html": [
       "<div>\n",
       "<style scoped>\n",
       "    .dataframe tbody tr th:only-of-type {\n",
       "        vertical-align: middle;\n",
       "    }\n",
       "\n",
       "    .dataframe tbody tr th {\n",
       "        vertical-align: top;\n",
       "    }\n",
       "\n",
       "    .dataframe thead th {\n",
       "        text-align: right;\n",
       "    }\n",
       "</style>\n",
       "<table border=\"1\" class=\"dataframe\">\n",
       "  <thead>\n",
       "    <tr style=\"text-align: right;\">\n",
       "      <th></th>\n",
       "      <th>Sales</th>\n",
       "    </tr>\n",
       "    <tr>\n",
       "      <th>Month</th>\n",
       "      <th></th>\n",
       "    </tr>\n",
       "  </thead>\n",
       "  <tbody>\n",
       "    <tr>\n",
       "      <th>1964-01-01</th>\n",
       "      <td>2815.0</td>\n",
       "    </tr>\n",
       "    <tr>\n",
       "      <th>1964-02-01</th>\n",
       "      <td>2672.0</td>\n",
       "    </tr>\n",
       "    <tr>\n",
       "      <th>1964-03-01</th>\n",
       "      <td>2755.0</td>\n",
       "    </tr>\n",
       "    <tr>\n",
       "      <th>1964-04-01</th>\n",
       "      <td>2721.0</td>\n",
       "    </tr>\n",
       "    <tr>\n",
       "      <th>1964-05-01</th>\n",
       "      <td>2946.0</td>\n",
       "    </tr>\n",
       "  </tbody>\n",
       "</table>\n",
       "</div>"
      ],
      "text/plain": [
       "             Sales\n",
       "Month             \n",
       "1964-01-01  2815.0\n",
       "1964-02-01  2672.0\n",
       "1964-03-01  2755.0\n",
       "1964-04-01  2721.0\n",
       "1964-05-01  2946.0"
      ]
     },
     "execution_count": 19,
     "metadata": {},
     "output_type": "execute_result"
    }
   ],
   "source": [
    "df.head()"
   ]
  },
  {
   "cell_type": "code",
   "execution_count": 31,
   "id": "412e7ae4",
   "metadata": {},
   "outputs": [
    {
     "data": {
      "image/png": "[encoded data removed]",
      "text/plain": [
       "<Figure size 720x360 with 1 Axes>"
      ]
     },
     "metadata": {
      "needs_background": "light"
     },
     "output_type": "display_data"
    }
   ],
   "source": [
    "#可视化\n",
    "df.plot(figsize=(10,5),grid=True);"
   ]
  },
  {
   "cell_type": "code",
   "execution_count": 32,
   "id": "5c627b63",
   "metadata": {},
   "outputs": [],
   "source": [
    "from statsmodels.tsa.stattools import adfuller"
   ]
  },
  {
   "cell_type": "code",
   "execution_count": 33,
   "id": "62e2b02b",
   "metadata": {},
   "outputs": [],
   "source": [
    "result=adfuller(df[\"Sales\"]) #这就可以完成一次检验"
   ]
  },
  {
   "cell_type": "code",
   "execution_count": 34,
   "id": "9620f0b5",
   "metadata": {},
   "outputs": [
    {
     "data": {
      "text/plain": [
       "(-1.8335930563276195,\n",
       " 0.3639157716602467,\n",
       " 11,\n",
       " 93,\n",
       " {'1%': -3.502704609582561,\n",
       "  '5%': -2.8931578098779522,\n",
       "  '10%': -2.583636712914788},\n",
       " 1478.4633060594724)"
      ]
     },
     "execution_count": 34,
     "metadata": {},
     "output_type": "execute_result"
    }
   ],
   "source": [
    "result #直接返回一系列结果"
   ]
  },
  {
   "cell_type": "code",
   "execution_count": 35,
   "id": "c937e2ac",
   "metadata": {},
   "outputs": [],
   "source": [
    "def adfuller_test(sales):\n",
    "    #将唯一的标签：销售额放入检验\n",
    "    result=adfuller(sales)\n",
    "    \n",
    "    #让statsmodel的DF单位根检验为我们返回检验值 & p值 & 添加了多少滞后 & 使用的样本量\n",
    "    labels = ['ADF Test Statistic','p-value']\n",
    "    \n",
    "    #打包标签和结果\n",
    "    for value,label in zip(result,labels):\n",
    "        print(label+' : '+str(value) )\n",
    "    \n",
    "    #如果p值小于等于0.05，则说明我们可以拒绝原假设，认为数据是平稳的。如果p值大于0.05，则说明我们需要接受原假设，数据不平稳。\n",
    "    if result[1] <= 0.05:\n",
    "        print(\"拒绝原假设，数据具有平稳性\")\n",
    "    else:\n",
    "        print(\"无法拒绝原假设，数据不平稳\")\n",
    "        \n",
    "    return result[1]"
   ]
  },
  {
   "cell_type": "code",
   "execution_count": 36,
   "id": "42f597a4",
   "metadata": {},
   "outputs": [
    {
     "name": "stdout",
     "output_type": "stream",
     "text": [
      "ADF Test Statistic : -1.8335930563276195\n",
      "p-value : 0.3639157716602467\n",
      "无法拒绝原假设，数据不平稳\n"
     ]
    }
   ],
   "source": [
    "pvalue = adfuller_test(df['Sales'])"
   ]
  },
  {
   "cell_type": "code",
   "execution_count": 37,
   "id": "28f94324",
   "metadata": {},
   "outputs": [
    {
     "data": {
      "text/plain": [
       "0.3639157716602467"
      ]
     },
     "execution_count": 37,
     "metadata": {},
     "output_type": "execute_result"
    }
   ],
   "source": [
    "pvalue"
   ]
  },
  {
   "cell_type": "code",
   "execution_count": 38,
   "id": "3b540281",
   "metadata": {},
   "outputs": [
    {
     "data": {
      "text/html": [
       "<div>\n",
       "<style scoped>\n",
       "    .dataframe tbody tr th:only-of-type {\n",
       "        vertical-align: middle;\n",
       "    }\n",
       "\n",
       "    .dataframe tbody tr th {\n",
       "        vertical-align: top;\n",
       "    }\n",
       "\n",
       "    .dataframe thead th {\n",
       "        text-align: right;\n",
       "    }\n",
       "</style>\n",
       "<table border=\"1\" class=\"dataframe\">\n",
       "  <thead>\n",
       "    <tr style=\"text-align: right;\">\n",
       "      <th></th>\n",
       "      <th>Sales</th>\n",
       "    </tr>\n",
       "    <tr>\n",
       "      <th>Month</th>\n",
       "      <th></th>\n",
       "    </tr>\n",
       "  </thead>\n",
       "  <tbody>\n",
       "    <tr>\n",
       "      <th>1964-01-01</th>\n",
       "      <td>2815.0</td>\n",
       "    </tr>\n",
       "    <tr>\n",
       "      <th>1964-02-01</th>\n",
       "      <td>2672.0</td>\n",
       "    </tr>\n",
       "    <tr>\n",
       "      <th>1964-03-01</th>\n",
       "      <td>2755.0</td>\n",
       "    </tr>\n",
       "    <tr>\n",
       "      <th>1964-04-01</th>\n",
       "      <td>2721.0</td>\n",
       "    </tr>\n",
       "    <tr>\n",
       "      <th>1964-05-01</th>\n",
       "      <td>2946.0</td>\n",
       "    </tr>\n",
       "  </tbody>\n",
       "</table>\n",
       "</div>"
      ],
      "text/plain": [
       "             Sales\n",
       "Month             \n",
       "1964-01-01  2815.0\n",
       "1964-02-01  2672.0\n",
       "1964-03-01  2755.0\n",
       "1964-04-01  2721.0\n",
       "1964-05-01  2946.0"
      ]
     },
     "execution_count": 38,
     "metadata": {},
     "output_type": "execute_result"
    }
   ],
   "source": [
    "df.head()"
   ]
  },
  {
   "cell_type": "code",
   "execution_count": 39,
   "id": "e9aa2048",
   "metadata": {},
   "outputs": [
    {
     "data": {
      "text/plain": [
       "Month\n",
       "1964-01-01       NaN\n",
       "1964-02-01    -143.0\n",
       "1964-03-01      83.0\n",
       "1964-04-01     -34.0\n",
       "1964-05-01     225.0\n",
       "               ...  \n",
       "1972-05-01    -170.0\n",
       "1972-06-01     694.0\n",
       "1972-07-01   -1014.0\n",
       "1972-08-01   -2885.0\n",
       "1972-09-01    4464.0\n",
       "Name: Sales, Length: 105, dtype: float64"
      ]
     },
     "execution_count": 39,
     "metadata": {},
     "output_type": "execute_result"
    }
   ],
   "source": [
    "#使用shift函数构造差分，shift(1)函数相当于滞后1（1步差分）\n",
    "df['Sales'] - df['Sales'].shift(1)"
   ]
  },
  {
   "cell_type": "code",
   "execution_count": 40,
   "id": "8d7ffe51",
   "metadata": {},
   "outputs": [
    {
     "data": {
      "text/plain": [
       "Month\n",
       "1964-02-01    -143.0\n",
       "1964-03-01      83.0\n",
       "1964-04-01     -34.0\n",
       "1964-05-01     225.0\n",
       "1964-06-01      90.0\n",
       "               ...  \n",
       "1972-05-01    -170.0\n",
       "1972-06-01     694.0\n",
       "1972-07-01   -1014.0\n",
       "1972-08-01   -2885.0\n",
       "1972-09-01    4464.0\n",
       "Name: Sales, Length: 104, dtype: float64"
      ]
     },
     "execution_count": 40,
     "metadata": {},
     "output_type": "execute_result"
    }
   ],
   "source": [
    "df[\"Sales\"].diff().dropna() #一阶差分可以直接通过diff()命令完成"
   ]
  },
  {
   "cell_type": "code",
   "execution_count": 41,
   "id": "1316826a",
   "metadata": {},
   "outputs": [
    {
     "data": {
      "text/plain": [
       "Month\n",
       "1964-01-01       NaN\n",
       "1964-02-01       NaN\n",
       "1964-03-01     -60.0\n",
       "1964-04-01      49.0\n",
       "1964-05-01     191.0\n",
       "               ...  \n",
       "1972-05-01      41.0\n",
       "1972-06-01     524.0\n",
       "1972-07-01    -320.0\n",
       "1972-08-01   -3899.0\n",
       "1972-09-01    1579.0\n",
       "Name: Sales, Length: 105, dtype: float64"
      ]
     },
     "execution_count": 41,
     "metadata": {},
     "output_type": "execute_result"
    }
   ],
   "source": [
    "#注意区分2阶差分和2步差分\n",
    "#2步差分\n",
    "df['Sales'] - df['Sales'].shift(2)"
   ]
  },
  {
   "cell_type": "code",
   "execution_count": 42,
   "id": "44c647b9",
   "metadata": {},
   "outputs": [
    {
     "data": {
      "text/plain": [
       "Month\n",
       "1964-03-01     226.0\n",
       "1964-04-01    -117.0\n",
       "1964-05-01     259.0\n",
       "1964-06-01    -135.0\n",
       "1964-07-01    -844.0\n",
       "               ...  \n",
       "1972-05-01    -381.0\n",
       "1972-06-01     864.0\n",
       "1972-07-01   -1708.0\n",
       "1972-08-01   -1871.0\n",
       "1972-09-01    7349.0\n",
       "Name: Sales, Length: 103, dtype: float64"
      ]
     },
     "execution_count": 42,
     "metadata": {},
     "output_type": "execute_result"
    }
   ],
   "source": [
    "#2阶差分\n",
    "df[\"Sales\"].diff().diff().dropna()"
   ]
  },
  {
   "cell_type": "code",
   "execution_count": 43,
   "id": "17a82514",
   "metadata": {
    "tags": []
   },
   "outputs": [
    {
     "name": "stdout",
     "output_type": "stream",
     "text": [
      "1步差分\n",
      "ADF Test Statistic : -7.189896448051006\n",
      "p-value : 2.51962044738698e-10\n",
      "拒绝原假设，数据具有平稳性\n",
      "差分后数据的标准差为2650.968186669989\n",
      "\n",
      "\n",
      "2步差分\n",
      "ADF Test Statistic : -7.135995302286716\n",
      "p-value : 3.4199891594729983e-10\n",
      "拒绝原假设，数据具有平稳性\n",
      "差分后数据的标准差为3567.6351723537286\n",
      "\n",
      "\n",
      "3步差分\n",
      "ADF Test Statistic : -7.285630595925722\n",
      "p-value : 1.4614244887641837e-10\n",
      "拒绝原假设，数据具有平稳性\n",
      "差分后数据的标准差为3927.279876517501\n",
      "\n",
      "\n",
      "4步差分\n",
      "ADF Test Statistic : -7.253149049898573\n",
      "p-value : 1.758579949850846e-10\n",
      "拒绝原假设，数据具有平稳性\n",
      "差分后数据的标准差为4090.0957191830116\n",
      "\n",
      "\n",
      "5步差分\n",
      "ADF Test Statistic : -2.8571173948549804\n",
      "p-value : 0.050566743535901404\n",
      "无法拒绝原假设，数据不平稳\n",
      "差分后数据的标准差为3703.1920631348094\n",
      "\n",
      "\n",
      "6步差分\n",
      "ADF Test Statistic : -7.278597607548264\n",
      "p-value : 1.5212208957659128e-10\n",
      "拒绝原假设，数据具有平稳性\n",
      "差分后数据的标准差为3540.5571256000353\n",
      "\n",
      "\n",
      "7步差分\n",
      "ADF Test Statistic : -1.74747216860766\n",
      "p-value : 0.40683412640557615\n",
      "无法拒绝原假设，数据不平稳\n",
      "差分后数据的标准差为3726.756506409909\n",
      "\n",
      "\n",
      "8步差分\n",
      "ADF Test Statistic : -2.0559478573458687\n",
      "p-value : 0.26259291600017703\n",
      "无法拒绝原假设，数据不平稳\n",
      "差分后数据的标准差为4203.561065940937\n",
      "\n",
      "\n",
      "9步差分\n",
      "ADF Test Statistic : -1.6682171435071937\n",
      "p-value : 0.44755783870903904\n",
      "无法拒绝原假设，数据不平稳\n",
      "差分后数据的标准差为4041.9327997204673\n",
      "\n",
      "\n",
      "10步差分\n",
      "ADF Test Statistic : -1.6821939340098784\n",
      "p-value : 0.44030925760785683\n",
      "无法拒绝原假设，数据不平稳\n",
      "差分后数据的标准差为3624.687899851875\n",
      "\n",
      "\n",
      "11步差分\n",
      "ADF Test Statistic : -1.8189275809847043\n",
      "p-value : 0.37110598573991177\n",
      "无法拒绝原假设，数据不平稳\n",
      "差分后数据的标准差为2715.110310076176\n",
      "\n",
      "\n",
      "12步差分\n",
      "ADF Test Statistic : -7.626619157213166\n",
      "p-value : 2.0605796968136632e-11\n",
      "拒绝原假设，数据具有平稳性\n",
      "差分后数据的标准差为760.6936383068079\n",
      "\n",
      "\n",
      "24步差分\n",
      "ADF Test Statistic : -1.8607723212111829\n",
      "p-value : 0.35073396610651575\n",
      "无法拒绝原假设，数据不平稳\n",
      "差分后数据的标准差为2685.9057474278457\n",
      "\n",
      "\n",
      "36步差分\n",
      "ADF Test Statistic : -1.142645748518425\n",
      "p-value : 0.6977692692837064\n",
      "无法拒绝原假设，数据不平稳\n",
      "差分后数据的标准差为3626.466460517067\n",
      "\n",
      "\n"
     ]
    }
   ],
   "source": [
    "#可以通过循环，查看究竟多少步差分能够让这一序列满足单位根检验\n",
    "#如果许多差分都能够满足单位根检验，我们通常选择ADF值最小、或差分后数据方差最小的步数\n",
    "\n",
    "columns = [\"D1\",\"D2\",\"D3\",\"D4\",\"D5\",\"D6\",\"D7\",\"D8\",\"D9\",\"D10\",\"D11\",\"D12\",\"D24\",\"D36\"]\n",
    "pvalues = []\n",
    "stds = []\n",
    "\n",
    "for idx,degree in enumerate([*range(1,13),24,36]):\n",
    "    #打印差分的步数\n",
    "    print(\"{}步差分\".format(degree))\n",
    "    \n",
    "    #计算差分列\n",
    "    df[columns[idx]] = df[\"Sales\"] - df[\"Sales\"].shift(idx+1)\n",
    "    \n",
    "    #进行ADF检验，提取P值，并计算差分列的标准差\n",
    "    pvalue = adfuller_test(df[columns[idx]].dropna())\n",
    "    std_ = df[columns[idx]].std()\n",
    "    \n",
    "    #保存P值和标准差\n",
    "    pvalues.append(pvalue)\n",
    "    stds.append(std_)\n",
    "    \n",
    "    #对结果进行打印\n",
    "    print(\"差分后数据的标准差为{}\".format(std_))\n",
    "    print(\"\\n\")"
   ]
  },
  {
   "cell_type": "code",
   "execution_count": 44,
   "id": "7917c562",
   "metadata": {},
   "outputs": [
    {
     "data": {
      "image/png": "[encoded data removed]",
      "text/plain": [
       "<Figure size 432x288 with 1 Axes>"
      ]
     },
     "metadata": {
      "needs_background": "light"
     },
     "output_type": "display_data"
    }
   ],
   "source": [
    "#哪些步数下数据是平稳的？\n",
    "plt.plot(columns,pvalues)\n",
    "plt.hlines(0.05,0,14,colors=\"red\",linestyles=\"dotted\");"
   ]
  },
  {
   "cell_type": "code",
   "execution_count": 45,
   "id": "2e6fea5c",
   "metadata": {},
   "outputs": [
    {
     "data": {
      "image/png": "[encoded data removed]",
      "text/plain": [
       "<Figure size 432x288 with 1 Axes>"
      ]
     },
     "metadata": {
      "needs_background": "light"
     },
     "output_type": "display_data"
    }
   ],
   "source": [
    "#最小的标准差对应的步数是？\n",
    "plt.plot(columns,stds);"
   ]
  },
  {
   "cell_type": "code",
   "execution_count": 46,
   "id": "48f796fc",
   "metadata": {},
   "outputs": [
    {
     "data": {
      "image/png": "[encoded data removed]",
      "text/plain": [
       "<Figure size 432x288 with 1 Axes>"
      ]
     },
     "metadata": {
      "needs_background": "light"
     },
     "output_type": "display_data"
    }
   ],
   "source": [
    "df[['D6',\"D12\"]].plot();"
   ]
  },
  {
   "cell_type": "code",
   "execution_count": 47,
   "id": "c71949a7",
   "metadata": {},
   "outputs": [
    {
     "data": {
      "image/png": "[encoded data removed]",
      "text/plain": [
       "<Figure size 432x288 with 1 Axes>"
      ]
     },
     "metadata": {
      "needs_background": "light"
     },
     "output_type": "display_data"
    }
   ],
   "source": [
    "df['D12'].plot();"
   ]
  },
  {
   "cell_type": "code",
   "execution_count": 48,
   "id": "d1644596",
   "metadata": {},
   "outputs": [],
   "source": [
    "from statsmodels.tsa.arima_model import ARIMA\n",
    "import statsmodels.api as sm\n",
    "from statsmodels.graphics.tsaplots import plot_acf,plot_pacf"
   ]
  },
  {
   "cell_type": "code",
   "execution_count": 49,
   "id": "e46bf7d4",
   "metadata": {},
   "outputs": [
    {
     "data": {
      "image/png": "[encoded data removed]",
      "text/plain": [
       "<Figure size 864x576 with 2 Axes>"
      ]
     },
     "metadata": {
      "needs_background": "light"
     },
     "output_type": "display_data"
    }
   ],
   "source": [
    "fig = plt.figure(figsize=(12,8))\n",
    "ax1 = fig.add_subplot(211)\n",
    "fig = sm.graphics.tsa.plot_acf(df['D12'].dropna(),lags=40,ax=ax1)\n",
    "ax2 = fig.add_subplot(212)\n",
    "fig = sm.graphics.tsa.plot_pacf(df['D12'].dropna(),lags=40,ax=ax2)"
   ]
  },
  {
   "cell_type": "code",
   "execution_count": 50,
   "id": "072057f8",
   "metadata": {},
   "outputs": [
    {
     "name": "stdout",
     "output_type": "stream",
     "text": [
      "0阶差分的标准差为2553.5026011831437\n",
      "1阶差分的标准差为2650.968186669989\n",
      "2阶差分的标准差为3907.4512785194675\n",
      "3阶差分的标准差为6577.656456299289\n"
     ]
    },
    {
     "data": {
      "image/png": "[encoded data removed]",
      "text/plain": [
       "<Figure size 576x1008 with 4 Axes>"
      ]
     },
     "metadata": {
      "needs_background": "light"
     },
     "output_type": "display_data"
    }
   ],
   "source": [
    "from statsmodels.graphics.tsaplots import plot_acf\n",
    "\n",
    "diff = [df[\"Sales\"],df[\"Sales\"].diff().dropna()\n",
    "        ,df[\"Sales\"].diff().diff().dropna()\n",
    "        ,df[\"Sales\"].diff().diff().diff().dropna()\n",
    "       ]\n",
    "\n",
    "titles = [\"d=0\",\"d=1\",\"d=2\",\"d=3\"]\n",
    "\n",
    "fig, (ax1, ax2, ax3, ax4) = plt.subplots(4,1,figsize=(8,14))\n",
    "\n",
    "for idx, ts, fig, title in zip(range(4),diff,[ax1,ax2,ax3,ax4],titles):\n",
    "    print(\"{}阶差分的标准差为{}\".format(idx,ts.std()))\n",
    "    plot_acf(ts, ax=fig, title=title)"
   ]
  },
  {
   "cell_type": "code",
   "execution_count": 51,
   "id": "67b52e46",
   "metadata": {},
   "outputs": [
    {
     "name": "stdout",
     "output_type": "stream",
     "text": [
      "0.13.5\n"
     ]
    }
   ],
   "source": [
    "import statsmodels\n",
    "print(statsmodels.__version__)"
   ]
  },
  {
   "cell_type": "code",
   "execution_count": 52,
   "id": "c2594014",
   "metadata": {},
   "outputs": [],
   "source": [
    "from statsmodels.tsa.arima.model import ARIMA\n",
    "#在0.12及以上版本的statsmodel中，ARIMA一个类可以实现AR、MA、ARMA、ARIMA和SARIMA模型\n",
    "from pandas.tseries.offsets import DateOffset\n",
    "#statsmodel库正处于更新期，因此会出现各种各样奇奇怪怪的警告……\n",
    "import warnings\n",
    "warnings.filterwarnings(\"ignore\")"
   ]
  },
  {
   "cell_type": "code",
   "execution_count": 53,
   "id": "26bb7cc1",
   "metadata": {},
   "outputs": [
    {
     "data": {
      "text/html": [
       "<div>\n",
       "<style scoped>\n",
       "    .dataframe tbody tr th:only-of-type {\n",
       "        vertical-align: middle;\n",
       "    }\n",
       "\n",
       "    .dataframe tbody tr th {\n",
       "        vertical-align: top;\n",
       "    }\n",
       "\n",
       "    .dataframe thead th {\n",
       "        text-align: right;\n",
       "    }\n",
       "</style>\n",
       "<table border=\"1\" class=\"dataframe\">\n",
       "  <thead>\n",
       "    <tr style=\"text-align: right;\">\n",
       "      <th></th>\n",
       "      <th>Sales</th>\n",
       "      <th>D1</th>\n",
       "      <th>D2</th>\n",
       "      <th>D3</th>\n",
       "      <th>D4</th>\n",
       "      <th>D5</th>\n",
       "      <th>D6</th>\n",
       "      <th>D7</th>\n",
       "      <th>D8</th>\n",
       "      <th>D9</th>\n",
       "      <th>D10</th>\n",
       "      <th>D11</th>\n",
       "      <th>D12</th>\n",
       "      <th>D24</th>\n",
       "      <th>D36</th>\n",
       "    </tr>\n",
       "    <tr>\n",
       "      <th>Month</th>\n",
       "      <th></th>\n",
       "      <th></th>\n",
       "      <th></th>\n",
       "      <th></th>\n",
       "      <th></th>\n",
       "      <th></th>\n",
       "      <th></th>\n",
       "      <th></th>\n",
       "      <th></th>\n",
       "      <th></th>\n",
       "      <th></th>\n",
       "      <th></th>\n",
       "      <th></th>\n",
       "      <th></th>\n",
       "      <th></th>\n",
       "    </tr>\n",
       "  </thead>\n",
       "  <tbody>\n",
       "    <tr>\n",
       "      <th>1964-01-01</th>\n",
       "      <td>2815.0</td>\n",
       "      <td>NaN</td>\n",
       "      <td>NaN</td>\n",
       "      <td>NaN</td>\n",
       "      <td>NaN</td>\n",
       "      <td>NaN</td>\n",
       "      <td>NaN</td>\n",
       "      <td>NaN</td>\n",
       "      <td>NaN</td>\n",
       "      <td>NaN</td>\n",
       "      <td>NaN</td>\n",
       "      <td>NaN</td>\n",
       "      <td>NaN</td>\n",
       "      <td>NaN</td>\n",
       "      <td>NaN</td>\n",
       "    </tr>\n",
       "    <tr>\n",
       "      <th>1964-02-01</th>\n",
       "      <td>2672.0</td>\n",
       "      <td>-143.0</td>\n",
       "      <td>NaN</td>\n",
       "      <td>NaN</td>\n",
       "      <td>NaN</td>\n",
       "      <td>NaN</td>\n",
       "      <td>NaN</td>\n",
       "      <td>NaN</td>\n",
       "      <td>NaN</td>\n",
       "      <td>NaN</td>\n",
       "      <td>NaN</td>\n",
       "      <td>NaN</td>\n",
       "      <td>NaN</td>\n",
       "      <td>NaN</td>\n",
       "      <td>NaN</td>\n",
       "    </tr>\n",
       "    <tr>\n",
       "      <th>1964-03-01</th>\n",
       "      <td>2755.0</td>\n",
       "      <td>83.0</td>\n",
       "      <td>-60.0</td>\n",
       "      <td>NaN</td>\n",
       "      <td>NaN</td>\n",
       "      <td>NaN</td>\n",
       "      <td>NaN</td>\n",
       "      <td>NaN</td>\n",
       "      <td>NaN</td>\n",
       "      <td>NaN</td>\n",
       "      <td>NaN</td>\n",
       "      <td>NaN</td>\n",
       "      <td>NaN</td>\n",
       "      <td>NaN</td>\n",
       "      <td>NaN</td>\n",
       "    </tr>\n",
       "    <tr>\n",
       "      <th>1964-04-01</th>\n",
       "      <td>2721.0</td>\n",
       "      <td>-34.0</td>\n",
       "      <td>49.0</td>\n",
       "      <td>-94.0</td>\n",
       "      <td>NaN</td>\n",
       "      <td>NaN</td>\n",
       "      <td>NaN</td>\n",
       "      <td>NaN</td>\n",
       "      <td>NaN</td>\n",
       "      <td>NaN</td>\n",
       "      <td>NaN</td>\n",
       "      <td>NaN</td>\n",
       "      <td>NaN</td>\n",
       "      <td>NaN</td>\n",
       "      <td>NaN</td>\n",
       "    </tr>\n",
       "    <tr>\n",
       "      <th>1964-05-01</th>\n",
       "      <td>2946.0</td>\n",
       "      <td>225.0</td>\n",
       "      <td>191.0</td>\n",
       "      <td>274.0</td>\n",
       "      <td>131.0</td>\n",
       "      <td>NaN</td>\n",
       "      <td>NaN</td>\n",
       "      <td>NaN</td>\n",
       "      <td>NaN</td>\n",
       "      <td>NaN</td>\n",
       "      <td>NaN</td>\n",
       "      <td>NaN</td>\n",
       "      <td>NaN</td>\n",
       "      <td>NaN</td>\n",
       "      <td>NaN</td>\n",
       "    </tr>\n",
       "  </tbody>\n",
       "</table>\n",
       "</div>"
      ],
      "text/plain": [
       "             Sales     D1     D2     D3     D4  D5  D6  D7  D8  D9  D10  D11  \\\n",
       "Month                                                                          \n",
       "1964-01-01  2815.0    NaN    NaN    NaN    NaN NaN NaN NaN NaN NaN  NaN  NaN   \n",
       "1964-02-01  2672.0 -143.0    NaN    NaN    NaN NaN NaN NaN NaN NaN  NaN  NaN   \n",
       "1964-03-01  2755.0   83.0  -60.0    NaN    NaN NaN NaN NaN NaN NaN  NaN  NaN   \n",
       "1964-04-01  2721.0  -34.0   49.0  -94.0    NaN NaN NaN NaN NaN NaN  NaN  NaN   \n",
       "1964-05-01  2946.0  225.0  191.0  274.0  131.0 NaN NaN NaN NaN NaN  NaN  NaN   \n",
       "\n",
       "            D12  D24  D36  \n",
       "Month                      \n",
       "1964-01-01  NaN  NaN  NaN  \n",
       "1964-02-01  NaN  NaN  NaN  \n",
       "1964-03-01  NaN  NaN  NaN  \n",
       "1964-04-01  NaN  NaN  NaN  \n",
       "1964-05-01  NaN  NaN  NaN  "
      ]
     },
     "execution_count": 53,
     "metadata": {},
     "output_type": "execute_result"
    }
   ],
   "source": [
    "df.head()"
   ]
  },
  {
   "cell_type": "code",
   "execution_count": 73,
   "id": "863db0a3",
   "metadata": {},
   "outputs": [
    {
     "data": {
      "text/plain": [
       "'MS'"
      ]
     },
     "execution_count": 73,
     "metadata": {},
     "output_type": "execute_result"
    }
   ],
   "source": [
    "df.index.inferred_freq #当前时序数据的频率为月份"
   ]
  },
  {
   "cell_type": "code",
   "execution_count": 74,
   "id": "176fab8f",
   "metadata": {},
   "outputs": [],
   "source": [
    "df.index = pd.DatetimeIndex(df.index.values,\n",
    "                            freq=df.index.inferred_freq)"
   ]
  },
  {
   "cell_type": "markdown",
   "id": "bec2082c",
   "metadata": {},
   "source": [
    "由于数据具有较强的周期性，因此我们考虑同时建立d=0的ARIMA和d=1的SARIMA模型。"
   ]
  },
  {
   "cell_type": "markdown",
   "id": "3ec4599e",
   "metadata": {},
   "source": [
    "> 先建一个模型试试看"
   ]
  },
  {
   "cell_type": "code",
   "execution_count": 75,
   "id": "de44bea8",
   "metadata": {},
   "outputs": [
    {
     "data": {
      "image/png": "[encoded data removed]",
      "text/plain": [
       "<Figure size 864x288 with 1 Axes>"
      ]
     },
     "metadata": {
      "needs_background": "light"
     },
     "output_type": "display_data"
    }
   ],
   "source": [
    "#对每个备选模型，我们进行训练、打印训练结果，并绘制预测图像\n",
    "arima_0=ARIMA(endog = df['Sales'],order=(1,0,1))\n",
    "arima_0=arima_0.fit()\n",
    "df['arima']=arima_0.predict(start=90,end=103,dynamic=True)\n",
    "df[['Sales','arima']].plot(figsize=(12,4));"
   ]
  },
  {
   "cell_type": "code",
   "execution_count": 76,
   "id": "8c2233e7",
   "metadata": {},
   "outputs": [
    {
     "name": "stdout",
     "output_type": "stream",
     "text": [
      "                               SARIMAX Results                                \n",
      "==============================================================================\n",
      "Dep. Variable:                  Sales   No. Observations:                  105\n",
      "Model:                 ARIMA(1, 0, 1)   Log Likelihood                -955.880\n",
      "Date:                Mon, 07 Nov 2022   AIC                           1919.760\n",
      "Time:                        00:38:08   BIC                           1930.375\n",
      "Sample:                    01-01-1964   HQIC                          1924.061\n",
      "                         - 09-01-1972                                         \n",
      "Covariance Type:                  opg                                         \n",
      "==============================================================================\n",
      "                 coef    std err          z      P>|z|      [0.025      0.975]\n",
      "------------------------------------------------------------------------------\n",
      "const       4761.1524    437.563     10.881      0.000    3903.544    5618.760\n",
      "ar.L1         -0.1845      0.130     -1.420      0.156      -0.439       0.070\n",
      "ma.L1          0.7883      0.107      7.382      0.000       0.579       0.998\n",
      "sigma2      5.046e+06      8e+05      6.306      0.000    3.48e+06    6.61e+06\n",
      "===================================================================================\n",
      "Ljung-Box (L1) (Q):                   0.09   Jarque-Bera (JB):                10.08\n",
      "Prob(Q):                              0.76   Prob(JB):                         0.01\n",
      "Heteroskedasticity (H):               3.44   Skew:                             0.73\n",
      "Prob(H) (two-sided):                  0.00   Kurtosis:                         3.39\n",
      "===================================================================================\n",
      "\n",
      "Warnings:\n",
      "[1] Covariance matrix calculated using the outer product of gradients (complex-step).\n"
     ]
    }
   ],
   "source": [
    "print(arima_0.summary(alpha=0.05))\n",
    "#alpha - 人为规定的显著性水平，一般都使用0.05或者0.01"
   ]
  },
  {
   "cell_type": "code",
   "execution_count": 77,
   "id": "a297455c",
   "metadata": {},
   "outputs": [
    {
     "data": {
      "text/plain": [
       "1964-01-01   -1946.152444\n",
       "1964-02-01   -1334.461564\n",
       "1964-03-01   -1492.756776\n",
       "1964-04-01   -1331.169605\n",
       "1964-05-01   -1193.671956\n",
       "                 ...     \n",
       "1972-05-01    -790.077042\n",
       "1972-06-01    1147.266451\n",
       "1972-07-01   -1265.917337\n",
       "1972-08-01   -2435.669426\n",
       "1972-09-01    2418.085584\n",
       "Freq: MS, Length: 105, dtype: float64"
      ]
     },
     "execution_count": 77,
     "metadata": {},
     "output_type": "execute_result"
    }
   ],
   "source": [
    "#对已经建好的模型，我们可以使用如下的属性调出该模型的残差r\n",
    "arima_0.resid"
   ]
  },
  {
   "cell_type": "code",
   "execution_count": 78,
   "id": "8e04da0e",
   "metadata": {},
   "outputs": [],
   "source": [
    "#备选模型\n",
    "arimas = [ARIMA(endog = df['Sales'],order=(1,0,1))\n",
    "         ,ARIMA(endog = df['Sales'],order=(1,0,2))\n",
    "         ,ARIMA(endog = df['Sales'],order=(2,0,1))\n",
    "         ,ARIMA(endog = df['Sales'],order=(2,0,2))\n",
    "         ,ARIMA(endog = df['Sales'],order=(1,0,3))\n",
    "         ,ARIMA(endog = df['Sales'],order=(3,0,1))\n",
    "         ,ARIMA(endog = df['Sales'],order=(3,0,2))\n",
    "         ,ARIMA(endog = df['Sales'],order=(2,0,3))\n",
    "         ,ARIMA(endog = df['Sales'],order=(3,0,3))\n",
    "         ]\n",
    "sarimas = [ARIMA(endog = df['Sales'],seasonal_order=(1,1,1,12))\n",
    "          ,ARIMA(endog = df['Sales'],seasonal_order=(1,1,2,12))\n",
    "          ,ARIMA(endog = df['Sales'],seasonal_order=(2,1,1,12))\n",
    "          ,ARIMA(endog = df['Sales'],seasonal_order=(2,1,2,12))\n",
    "          ,ARIMA(endog = df['Sales'],seasonal_order=(1,1,3,12))\n",
    "          ,ARIMA(endog = df['Sales'],seasonal_order=(3,1,1,12))\n",
    "          ,ARIMA(endog = df['Sales'],seasonal_order=(3,1,2,12))\n",
    "          ,ARIMA(endog = df['Sales'],seasonal_order=(2,1,3,12))\n",
    "          ,ARIMA(endog = df['Sales'],seasonal_order=(3,1,3,12))\n",
    "          ]"
   ]
  },
  {
   "cell_type": "code",
   "execution_count": 79,
   "id": "3aa4154e",
   "metadata": {},
   "outputs": [],
   "source": [
    "def plot_summary(models,summary=True,model_name=[]):\n",
    "    \"\"\"绘制图像并打印summary的函数\"\"\"\n",
    "    for idx,model in enumerate(models):\n",
    "        m = model.fit()\n",
    "        if summary:\n",
    "            print(\"\\n\")\n",
    "            print(model_name[idx])\n",
    "            print(m.summary(alpha=0.01))\n",
    "        else:\n",
    "            df[\"model\"] = m.predict(start=90,end=103,dynamic=True)\n",
    "            df[['Sales','model']].plot(figsize=(12,2),title=\"Model {}\".format(idx))"
   ]
  },
  {
   "cell_type": "code",
   "execution_count": null,
   "id": "6374fcea",
   "metadata": {},
   "outputs": [],
   "source": [
    "plot_summary(arimas,False) #先进行图像的绘制，从预测结果中选出效果可能比较好的参数组合"
   ]
  },
  {
   "cell_type": "code",
   "execution_count": null,
   "id": "14947146",
   "metadata": {},
   "outputs": [],
   "source": [
    "plot_summary(sarimas,False) #先进行图像的绘制，从预测结果中选出效果可能比较好的参数组合"
   ]
  },
  {
   "cell_type": "code",
   "execution_count": 82,
   "id": "d797882b",
   "metadata": {},
   "outputs": [
    {
     "name": "stdout",
     "output_type": "stream",
     "text": [
      "\n",
      "\n",
      "SARIMA01\n",
      "                                  SARIMAX Results                                  \n",
      "===================================================================================\n",
      "Dep. Variable:                       Sales   No. Observations:                  105\n",
      "Model:             ARIMA(1, 1, [1, 2], 12)   Log Likelihood                -754.700\n",
      "Date:                     Mon, 07 Nov 2022   AIC                           1517.400\n",
      "Time:                             00:39:04   BIC                           1527.530\n",
      "Sample:                         01-01-1964   HQIC                          1521.490\n",
      "                              - 09-01-1972                                         \n",
      "Covariance Type:                       opg                                         \n",
      "==============================================================================\n",
      "                 coef    std err          z      P>|z|      [0.005      0.995]\n",
      "------------------------------------------------------------------------------\n",
      "ar.S.L12       0.9999      0.001    722.272      0.000       0.996       1.004\n",
      "ma.S.L12      -1.2211      0.065    -18.750      0.000      -1.389      -1.053\n",
      "ma.S.L24       0.2267      0.012     19.401      0.000       0.197       0.257\n",
      "sigma2      3.346e+05   2.13e-07   1.57e+12      0.000    3.35e+05    3.35e+05\n",
      "===================================================================================\n",
      "Ljung-Box (L1) (Q):                   7.95   Jarque-Bera (JB):                 8.97\n",
      "Prob(Q):                              0.00   Prob(JB):                         0.01\n",
      "Heteroskedasticity (H):               2.31   Skew:                            -0.51\n",
      "Prob(H) (two-sided):                  0.02   Kurtosis:                         4.14\n",
      "===================================================================================\n",
      "\n",
      "Warnings:\n",
      "[1] Covariance matrix calculated using the outer product of gradients (complex-step).\n",
      "[2] Covariance matrix is singular or near-singular, with condition number 5.48e+27. Standard errors may be unstable.\n",
      "\n",
      "\n",
      "SARIMA02\n",
      "                                SARIMAX Results                                 \n",
      "================================================================================\n",
      "Dep. Variable:                    Sales   No. Observations:                  105\n",
      "Model:             ARIMA(2, 1, [1], 12)   Log Likelihood                -748.863\n",
      "Date:                  Mon, 07 Nov 2022   AIC                           1505.725\n",
      "Time:                          00:39:05   BIC                           1515.856\n",
      "Sample:                      01-01-1964   HQIC                          1509.816\n",
      "                           - 09-01-1972                                         \n",
      "Covariance Type:                    opg                                         \n",
      "==============================================================================\n",
      "                 coef    std err          z      P>|z|      [0.005      0.995]\n",
      "------------------------------------------------------------------------------\n",
      "ar.S.L12       0.6280      0.304      2.067      0.039      -0.155       1.411\n",
      "ar.S.L24       0.2032      0.145      1.403      0.161      -0.170       0.576\n",
      "ma.S.L12      -0.6536      0.303     -2.158      0.031      -1.434       0.127\n",
      "sigma2      6.321e+05   8.62e+04      7.331      0.000     4.1e+05    8.54e+05\n",
      "===================================================================================\n",
      "Ljung-Box (L1) (Q):                   5.35   Jarque-Bera (JB):                 6.96\n",
      "Prob(Q):                              0.02   Prob(JB):                         0.03\n",
      "Heteroskedasticity (H):               2.24   Skew:                            -0.29\n",
      "Prob(H) (two-sided):                  0.03   Kurtosis:                         4.21\n",
      "===================================================================================\n",
      "\n",
      "Warnings:\n",
      "[1] Covariance matrix calculated using the outer product of gradients (complex-step).\n",
      "\n",
      "\n",
      "SARIMA03\n",
      "                                  SARIMAX Results                                  \n",
      "===================================================================================\n",
      "Dep. Variable:                       Sales   No. Observations:                  105\n",
      "Model:             ARIMA(2, 1, [1, 2], 12)   Log Likelihood                -777.105\n",
      "Date:                     Mon, 07 Nov 2022   AIC                           1564.210\n",
      "Time:                             00:39:09   BIC                           1576.873\n",
      "Sample:                         01-01-1964   HQIC                          1569.323\n",
      "                              - 09-01-1972                                         \n",
      "Covariance Type:                       opg                                         \n",
      "==============================================================================\n",
      "                 coef    std err          z      P>|z|      [0.005      0.995]\n",
      "------------------------------------------------------------------------------\n",
      "ar.S.L12       0.0018   8.19e-05     21.392      0.000       0.002       0.002\n",
      "ar.S.L24       0.9982    7.8e-05   1.28e+04      0.000       0.998       0.998\n",
      "ma.S.L12      -0.0231      0.000   -196.782      0.000      -0.023      -0.023\n",
      "ma.S.L24      -0.9725      0.000  -2002.197      0.000      -0.974      -0.971\n",
      "sigma2      2.066e+05   1.56e-09   1.32e+14      0.000    2.07e+05    2.07e+05\n",
      "===================================================================================\n",
      "Ljung-Box (L1) (Q):                   6.35   Jarque-Bera (JB):                11.30\n",
      "Prob(Q):                              0.01   Prob(JB):                         0.00\n",
      "Heteroskedasticity (H):               2.81   Skew:                            -0.49\n",
      "Prob(H) (two-sided):                  0.01   Kurtosis:                         4.40\n",
      "===================================================================================\n",
      "\n",
      "Warnings:\n",
      "[1] Covariance matrix calculated using the outer product of gradients (complex-step).\n",
      "[2] Covariance matrix is singular or near-singular, with condition number 1.12e+27. Standard errors may be unstable.\n",
      "\n",
      "\n",
      "SARIMA05\n",
      "                                SARIMAX Results                                 \n",
      "================================================================================\n",
      "Dep. Variable:                    Sales   No. Observations:                  105\n",
      "Model:             ARIMA(3, 1, [1], 12)   Log Likelihood                -748.521\n",
      "Date:                  Mon, 07 Nov 2022   AIC                           1507.042\n",
      "Time:                          00:39:11   BIC                           1519.705\n",
      "Sample:                      01-01-1964   HQIC                          1512.155\n",
      "                           - 09-01-1972                                         \n",
      "Covariance Type:                    opg                                         \n",
      "==============================================================================\n",
      "                 coef    std err          z      P>|z|      [0.005      0.995]\n",
      "------------------------------------------------------------------------------\n",
      "ar.S.L12       0.4978      0.432      1.152      0.250      -0.616       1.611\n",
      "ar.S.L24       0.1899      0.127      1.501      0.133      -0.136       0.516\n",
      "ar.S.L36       0.0886      0.165      0.538      0.590      -0.335       0.513\n",
      "ma.S.L12      -0.5404      0.411     -1.316      0.188      -1.598       0.518\n",
      "sigma2      5.819e+05   7.55e+04      7.706      0.000    3.87e+05    7.76e+05\n",
      "===================================================================================\n",
      "Ljung-Box (L1) (Q):                   5.46   Jarque-Bera (JB):                 6.61\n",
      "Prob(Q):                              0.02   Prob(JB):                         0.04\n",
      "Heteroskedasticity (H):               2.27   Skew:                            -0.30\n",
      "Prob(H) (two-sided):                  0.03   Kurtosis:                         4.16\n",
      "===================================================================================\n",
      "\n",
      "Warnings:\n",
      "[1] Covariance matrix calculated using the outer product of gradients (complex-step).\n"
     ]
    }
   ],
   "source": [
    "#打印较好的参数组合的summary\n",
    "plot_summary([sarimas[1],sarimas[2],sarimas[3],sarimas[5]]\n",
    "             ,model_name=[\"SARIMA01\",\"SARIMA02\",\"SARIMA03\",\"SARIMA05\"])"
   ]
  },
  {
   "cell_type": "markdown",
   "id": "a48520b0",
   "metadata": {},
   "source": [
    "模型编号|模型|AIC|系数单变量检验<br>（alpha=0.01）|残差相关性检验<br>（alpha=0.01）|残差异方差检验<br>（alpha=0.01）|残差正态性检验<br>（alpha=0.01）|\n",
    ":-:|:-:|:-:|:-:|:-:|:-:|:-:|\n",
    "01|(1,1,2,12)|1517.400|✔|不通过|✔|✔|\n",
    "02|(2,1,1,12)|1505.725|不通过|✔|✔|✔|\n",
    "03|(2,1,2,12)|1564.210|✔|✔|✔|不通过|\n",
    "05|(3,1,1,12)|1507.042|不通过|✔|✔|✔|"
   ]
  },
  {
   "cell_type": "code",
   "execution_count": 83,
   "id": "35d8cb64",
   "metadata": {},
   "outputs": [],
   "source": [
    "updates = [ARIMA(df[\"Sales\"],seasonal_order=(1,1,1,12)) #00号模型，不过在最初画图的时候没有被我们选出来\n",
    "         ,ARIMA(df[\"Sales\"],seasonal_order=(2,0,1,12)) #取消高阶差分\n",
    "         ,ARIMA(df[\"Sales\"],seasonal_order=(2,1,1,4)) #降低多步差分的步数\n",
    "        ]"
   ]
  },
  {
   "cell_type": "code",
   "execution_count": 196,
   "id": "e43575d9",
   "metadata": {},
   "outputs": [
    {
     "data": {
      "image/png": "[encoded data removed]",
      "text/plain": [
       "<Figure size 864x144 with 1 Axes>"
      ]
     },
     "metadata": {
      "needs_background": "light"
     },
     "output_type": "display_data"
    },
    {
     "data": {
      "image/png": "[encoded data removed]",
      "text/plain": [
       "<Figure size 864x144 with 1 Axes>"
      ]
     },
     "metadata": {
      "needs_background": "light"
     },
     "output_type": "display_data"
    },
    {
     "data": {
      "image/png": "[encoded data removed]",
      "text/plain": [
       "<Figure size 864x144 with 1 Axes>"
      ]
     },
     "metadata": {
      "needs_background": "light"
     },
     "output_type": "display_data"
    }
   ],
   "source": [
    "plot_summary(updates,False) #先进行图像的绘制，从预测结果中选出效果可能比较好的参数组合"
   ]
  },
  {
   "cell_type": "code",
   "execution_count": 197,
   "id": "f091b839",
   "metadata": {},
   "outputs": [
    {
     "name": "stdout",
     "output_type": "stream",
     "text": [
      "\n",
      "\n",
      "降低p的阶数\n",
      "                                SARIMAX Results                                 \n",
      "================================================================================\n",
      "Dep. Variable:                    Sales   No. Observations:                  105\n",
      "Model:             ARIMA(1, 1, [1], 12)   Log Likelihood                -750.716\n",
      "Date:                  Fri, 04 Nov 2022   AIC                           1507.432\n",
      "Time:                          22:44:41   BIC                           1515.030\n",
      "Sample:                      01-01-1964   HQIC                          1510.500\n",
      "                           - 09-01-1972                                         \n",
      "Covariance Type:                    opg                                         \n",
      "==============================================================================\n",
      "                 coef    std err          z      P>|z|      [0.005      0.995]\n",
      "------------------------------------------------------------------------------\n",
      "ar.S.L12       0.9804      0.127      7.709      0.000       0.653       1.308\n",
      "ma.S.L12      -0.9228      0.281     -3.288      0.001      -1.646      -0.200\n",
      "sigma2      5.969e+05   1.06e+05      5.625      0.000    3.24e+05     8.7e+05\n",
      "===================================================================================\n",
      "Ljung-Box (L1) (Q):                   4.22   Jarque-Bera (JB):                 8.04\n",
      "Prob(Q):                              0.04   Prob(JB):                         0.02\n",
      "Heteroskedasticity (H):               2.29   Skew:                            -0.27\n",
      "Prob(H) (two-sided):                  0.02   Kurtosis:                         4.33\n",
      "===================================================================================\n",
      "\n",
      "Warnings:\n",
      "[1] Covariance matrix calculated using the outer product of gradients (complex-step).\n",
      "\n",
      "\n",
      "降低差分阶数\n",
      "                                SARIMAX Results                                 \n",
      "================================================================================\n",
      "Dep. Variable:                    Sales   No. Observations:                  105\n",
      "Model:             ARIMA(2, 0, [1], 12)   Log Likelihood                -863.134\n",
      "Date:                  Fri, 04 Nov 2022   AIC                           1736.269\n",
      "Time:                          22:44:42   BIC                           1749.539\n",
      "Sample:                      01-01-1964   HQIC                          1741.646\n",
      "                           - 09-01-1972                                         \n",
      "Covariance Type:                    opg                                         \n",
      "==============================================================================\n",
      "                 coef    std err          z      P>|z|      [0.005      0.995]\n",
      "------------------------------------------------------------------------------\n",
      "const       4759.7849    865.591      5.499      0.000    2530.171    6989.399\n",
      "ar.S.L12      -0.0444      0.050     -0.885      0.376      -0.174       0.085\n",
      "ar.S.L24       0.9528      0.026     36.663      0.000       0.886       1.020\n",
      "ma.S.L12       0.9814      0.198      4.946      0.000       0.470       1.492\n",
      "sigma2      5.778e+05      0.002   2.75e+08      0.000    5.78e+05    5.78e+05\n",
      "===================================================================================\n",
      "Ljung-Box (L1) (Q):                  11.83   Jarque-Bera (JB):                 7.38\n",
      "Prob(Q):                              0.00   Prob(JB):                         0.03\n",
      "Heteroskedasticity (H):               2.24   Skew:                             0.28\n",
      "Prob(H) (two-sided):                  0.02   Kurtosis:                         4.17\n",
      "===================================================================================\n",
      "\n",
      "Warnings:\n",
      "[1] Covariance matrix calculated using the outer product of gradients (complex-step).\n",
      "[2] Covariance matrix is singular or near-singular, with condition number 1.65e+27. Standard errors may be unstable.\n",
      "\n",
      "\n",
      "降低差分步数\n",
      "                                SARIMAX Results                                \n",
      "===============================================================================\n",
      "Dep. Variable:                   Sales   No. Observations:                  105\n",
      "Model:             ARIMA(2, 1, [1], 4)   Log Likelihood                -855.998\n",
      "Date:                 Fri, 04 Nov 2022   AIC                           1719.996\n",
      "Time:                         22:44:42   BIC                           1730.457\n",
      "Sample:                     01-01-1964   HQIC                          1724.231\n",
      "                          - 09-01-1972                                         \n",
      "Covariance Type:                   opg                                         \n",
      "==============================================================================\n",
      "                 coef    std err          z      P>|z|      [0.005      0.995]\n",
      "------------------------------------------------------------------------------\n",
      "ar.S.L4       -0.9877      0.040    -24.678      0.000      -1.091      -0.885\n",
      "ar.S.L8       -0.9678      0.021    -46.140      0.000      -1.022      -0.914\n",
      "ma.S.L4        0.1253      0.161      0.777      0.437      -0.290       0.540\n",
      "sigma2      8.886e+05   9.36e+04      9.489      0.000    6.47e+05    1.13e+06\n",
      "===================================================================================\n",
      "Ljung-Box (L1) (Q):                  15.85   Jarque-Bera (JB):               139.28\n",
      "Prob(Q):                              0.00   Prob(JB):                         0.00\n",
      "Heteroskedasticity (H):               0.43   Skew:                             1.46\n",
      "Prob(H) (two-sided):                  0.02   Kurtosis:                         7.96\n",
      "===================================================================================\n",
      "\n",
      "Warnings:\n",
      "[1] Covariance matrix calculated using the outer product of gradients (complex-step).\n"
     ]
    }
   ],
   "source": [
    "plot_summary(updates,True,[\"降低p的阶数\",\"降低差分阶数\",\"降低差分步数\"])"
   ]
  },
  {
   "cell_type": "markdown",
   "id": "14980eab",
   "metadata": {},
   "source": [
    "模型编号|模型|AIC|系数单变量检验<br>（alpha=0.01）|残差相关性检验<br>（alpha=0.01）|残差异方差检验<br>（alpha=0.01）|残差正态性检验<br>（alpha=0.01）|\n",
    ":-:|:-:|:-:|:-:|:-:|:-:|:-:|\n",
    "原始模型|(2,1,1,12)|1505.725|不通过|✔|✔|✔|\n",
    "降低AR的阶数|(1,1,1,12)|1507.432|✔|✔|✔|✔|\n",
    "降低差分阶数|(2,0,1,12)|1736.269|不通过|不通过|✔|✔|\n",
    "降低差分步数|(2,1,1,4)|1719.996|不通过|不通过|✔|不通过|"
   ]
  },
  {
   "cell_type": "markdown",
   "id": "dee78824-b2a3-4cf8-bbf4-1ce41328e834",
   "metadata": {},
   "source": [
    "### VARMA"
   ]
  },
  {
   "cell_type": "code",
   "execution_count": 2,
   "id": "e35ecedc-7858-4a02-8d0a-fe7ce8cbd88c",
   "metadata": {},
   "outputs": [],
   "source": [
    "import numpy as np\n",
    "import pandas as pd\n",
    "import statsmodels.api as sm\n",
    "import matplotlib.pyplot as plt"
   ]
  },
  {
   "cell_type": "code",
   "execution_count": 3,
   "id": "eac149a0-c7f0-4f31-b878-ff170fa24730",
   "metadata": {},
   "outputs": [],
   "source": [
    "dta = sm.datasets.webuse('lutkepohl2', 'https://www.stata-press.com/data/r12/')"
   ]
  },
  {
   "cell_type": "code",
   "execution_count": 4,
   "id": "82ac08b4-2adc-4a0b-a56d-7d86891a46ef",
   "metadata": {},
   "outputs": [
    {
     "data": {
      "text/html": [
       "<div>\n",
       "<style scoped>\n",
       "    .dataframe tbody tr th:only-of-type {\n",
       "        vertical-align: middle;\n",
       "    }\n",
       "\n",
       "    .dataframe tbody tr th {\n",
       "        vertical-align: top;\n",
       "    }\n",
       "\n",
       "    .dataframe thead th {\n",
       "        text-align: right;\n",
       "    }\n",
       "</style>\n",
       "<table border=\"1\" class=\"dataframe\">\n",
       "  <thead>\n",
       "    <tr style=\"text-align: right;\">\n",
       "      <th></th>\n",
       "      <th>inv</th>\n",
       "      <th>inc</th>\n",
       "      <th>consump</th>\n",
       "      <th>qtr</th>\n",
       "      <th>ln_inv</th>\n",
       "      <th>dln_inv</th>\n",
       "      <th>ln_inc</th>\n",
       "      <th>dln_inc</th>\n",
       "      <th>ln_consump</th>\n",
       "      <th>dln_consump</th>\n",
       "    </tr>\n",
       "  </thead>\n",
       "  <tbody>\n",
       "    <tr>\n",
       "      <th>0</th>\n",
       "      <td>180</td>\n",
       "      <td>451</td>\n",
       "      <td>415</td>\n",
       "      <td>1960-01-01</td>\n",
       "      <td>5.192957</td>\n",
       "      <td>NaN</td>\n",
       "      <td>6.111467</td>\n",
       "      <td>NaN</td>\n",
       "      <td>6.028278</td>\n",
       "      <td>NaN</td>\n",
       "    </tr>\n",
       "    <tr>\n",
       "      <th>1</th>\n",
       "      <td>179</td>\n",
       "      <td>465</td>\n",
       "      <td>421</td>\n",
       "      <td>1960-04-01</td>\n",
       "      <td>5.187386</td>\n",
       "      <td>-0.005571</td>\n",
       "      <td>6.142037</td>\n",
       "      <td>0.030570</td>\n",
       "      <td>6.042633</td>\n",
       "      <td>0.014355</td>\n",
       "    </tr>\n",
       "    <tr>\n",
       "      <th>2</th>\n",
       "      <td>185</td>\n",
       "      <td>485</td>\n",
       "      <td>434</td>\n",
       "      <td>1960-07-01</td>\n",
       "      <td>5.220356</td>\n",
       "      <td>0.032970</td>\n",
       "      <td>6.184149</td>\n",
       "      <td>0.042111</td>\n",
       "      <td>6.073044</td>\n",
       "      <td>0.030411</td>\n",
       "    </tr>\n",
       "    <tr>\n",
       "      <th>3</th>\n",
       "      <td>192</td>\n",
       "      <td>493</td>\n",
       "      <td>448</td>\n",
       "      <td>1960-10-01</td>\n",
       "      <td>5.257495</td>\n",
       "      <td>0.037139</td>\n",
       "      <td>6.200509</td>\n",
       "      <td>0.016360</td>\n",
       "      <td>6.104793</td>\n",
       "      <td>0.031749</td>\n",
       "    </tr>\n",
       "    <tr>\n",
       "      <th>4</th>\n",
       "      <td>211</td>\n",
       "      <td>509</td>\n",
       "      <td>459</td>\n",
       "      <td>1961-01-01</td>\n",
       "      <td>5.351858</td>\n",
       "      <td>0.094363</td>\n",
       "      <td>6.232448</td>\n",
       "      <td>0.031939</td>\n",
       "      <td>6.129050</td>\n",
       "      <td>0.024257</td>\n",
       "    </tr>\n",
       "  </tbody>\n",
       "</table>\n",
       "</div>"
      ],
      "text/plain": [
       "   inv  inc  consump        qtr    ln_inv   dln_inv    ln_inc   dln_inc  \\\n",
       "0  180  451      415 1960-01-01  5.192957       NaN  6.111467       NaN   \n",
       "1  179  465      421 1960-04-01  5.187386 -0.005571  6.142037  0.030570   \n",
       "2  185  485      434 1960-07-01  5.220356  0.032970  6.184149  0.042111   \n",
       "3  192  493      448 1960-10-01  5.257495  0.037139  6.200509  0.016360   \n",
       "4  211  509      459 1961-01-01  5.351858  0.094363  6.232448  0.031939   \n",
       "\n",
       "   ln_consump  dln_consump  \n",
       "0    6.028278          NaN  \n",
       "1    6.042633     0.014355  \n",
       "2    6.073044     0.030411  \n",
       "3    6.104793     0.031749  \n",
       "4    6.129050     0.024257  "
      ]
     },
     "execution_count": 4,
     "metadata": {},
     "output_type": "execute_result"
    }
   ],
   "source": [
    "dta.head()"
   ]
  },
  {
   "cell_type": "code",
   "execution_count": 5,
   "id": "ff4fe2b3-07c0-4497-88d2-b7cdd523d402",
   "metadata": {},
   "outputs": [],
   "source": [
    "dta.index = dta.qtr #将时间窗口作为索引\n",
    "dta.index.freq = dta.index.inferred_freq #让statsmodel认知时间的频率"
   ]
  },
  {
   "cell_type": "code",
   "execution_count": 6,
   "id": "b5effd1d-5aec-4307-8099-e6132e8e1675",
   "metadata": {},
   "outputs": [
    {
     "data": {
      "text/html": [
       "<div>\n",
       "<style scoped>\n",
       "    .dataframe tbody tr th:only-of-type {\n",
       "        vertical-align: middle;\n",
       "    }\n",
       "\n",
       "    .dataframe tbody tr th {\n",
       "        vertical-align: top;\n",
       "    }\n",
       "\n",
       "    .dataframe thead th {\n",
       "        text-align: right;\n",
       "    }\n",
       "</style>\n",
       "<table border=\"1\" class=\"dataframe\">\n",
       "  <thead>\n",
       "    <tr style=\"text-align: right;\">\n",
       "      <th></th>\n",
       "      <th>inv</th>\n",
       "      <th>inc</th>\n",
       "      <th>consump</th>\n",
       "      <th>qtr</th>\n",
       "      <th>ln_inv</th>\n",
       "      <th>dln_inv</th>\n",
       "      <th>ln_inc</th>\n",
       "      <th>dln_inc</th>\n",
       "      <th>ln_consump</th>\n",
       "      <th>dln_consump</th>\n",
       "    </tr>\n",
       "    <tr>\n",
       "      <th>qtr</th>\n",
       "      <th></th>\n",
       "      <th></th>\n",
       "      <th></th>\n",
       "      <th></th>\n",
       "      <th></th>\n",
       "      <th></th>\n",
       "      <th></th>\n",
       "      <th></th>\n",
       "      <th></th>\n",
       "      <th></th>\n",
       "    </tr>\n",
       "  </thead>\n",
       "  <tbody>\n",
       "    <tr>\n",
       "      <th>1960-01-01</th>\n",
       "      <td>180</td>\n",
       "      <td>451</td>\n",
       "      <td>415</td>\n",
       "      <td>1960-01-01</td>\n",
       "      <td>5.192957</td>\n",
       "      <td>NaN</td>\n",
       "      <td>6.111467</td>\n",
       "      <td>NaN</td>\n",
       "      <td>6.028278</td>\n",
       "      <td>NaN</td>\n",
       "    </tr>\n",
       "    <tr>\n",
       "      <th>1960-04-01</th>\n",
       "      <td>179</td>\n",
       "      <td>465</td>\n",
       "      <td>421</td>\n",
       "      <td>1960-04-01</td>\n",
       "      <td>5.187386</td>\n",
       "      <td>-0.005571</td>\n",
       "      <td>6.142037</td>\n",
       "      <td>0.030570</td>\n",
       "      <td>6.042633</td>\n",
       "      <td>0.014355</td>\n",
       "    </tr>\n",
       "    <tr>\n",
       "      <th>1960-07-01</th>\n",
       "      <td>185</td>\n",
       "      <td>485</td>\n",
       "      <td>434</td>\n",
       "      <td>1960-07-01</td>\n",
       "      <td>5.220356</td>\n",
       "      <td>0.032970</td>\n",
       "      <td>6.184149</td>\n",
       "      <td>0.042111</td>\n",
       "      <td>6.073044</td>\n",
       "      <td>0.030411</td>\n",
       "    </tr>\n",
       "    <tr>\n",
       "      <th>1960-10-01</th>\n",
       "      <td>192</td>\n",
       "      <td>493</td>\n",
       "      <td>448</td>\n",
       "      <td>1960-10-01</td>\n",
       "      <td>5.257495</td>\n",
       "      <td>0.037139</td>\n",
       "      <td>6.200509</td>\n",
       "      <td>0.016360</td>\n",
       "      <td>6.104793</td>\n",
       "      <td>0.031749</td>\n",
       "    </tr>\n",
       "    <tr>\n",
       "      <th>1961-01-01</th>\n",
       "      <td>211</td>\n",
       "      <td>509</td>\n",
       "      <td>459</td>\n",
       "      <td>1961-01-01</td>\n",
       "      <td>5.351858</td>\n",
       "      <td>0.094363</td>\n",
       "      <td>6.232448</td>\n",
       "      <td>0.031939</td>\n",
       "      <td>6.129050</td>\n",
       "      <td>0.024257</td>\n",
       "    </tr>\n",
       "  </tbody>\n",
       "</table>\n",
       "</div>"
      ],
      "text/plain": [
       "            inv  inc  consump        qtr    ln_inv   dln_inv    ln_inc  \\\n",
       "qtr                                                                      \n",
       "1960-01-01  180  451      415 1960-01-01  5.192957       NaN  6.111467   \n",
       "1960-04-01  179  465      421 1960-04-01  5.187386 -0.005571  6.142037   \n",
       "1960-07-01  185  485      434 1960-07-01  5.220356  0.032970  6.184149   \n",
       "1960-10-01  192  493      448 1960-10-01  5.257495  0.037139  6.200509   \n",
       "1961-01-01  211  509      459 1961-01-01  5.351858  0.094363  6.232448   \n",
       "\n",
       "             dln_inc  ln_consump  dln_consump  \n",
       "qtr                                            \n",
       "1960-01-01       NaN    6.028278          NaN  \n",
       "1960-04-01  0.030570    6.042633     0.014355  \n",
       "1960-07-01  0.042111    6.073044     0.030411  \n",
       "1960-10-01  0.016360    6.104793     0.031749  \n",
       "1961-01-01  0.031939    6.129050     0.024257  "
      ]
     },
     "execution_count": 6,
     "metadata": {},
     "output_type": "execute_result"
    }
   ],
   "source": [
    "dta.head()"
   ]
  },
  {
   "cell_type": "code",
   "execution_count": 7,
   "id": "398b5065-35b9-4ace-bef4-ba5771e49a22",
   "metadata": {},
   "outputs": [],
   "source": [
    "#从中取出一段时间 + 三列作为例子\n",
    "endog = dta.loc['1960-04-01':'1978-10-01', ['dln_inv', 'dln_inc', 'dln_consump']]"
   ]
  },
  {
   "cell_type": "code",
   "execution_count": 8,
   "id": "87d6bde8-2ffd-42cd-a980-9676c6e89059",
   "metadata": {},
   "outputs": [
    {
     "data": {
      "text/html": [
       "<div>\n",
       "<style scoped>\n",
       "    .dataframe tbody tr th:only-of-type {\n",
       "        vertical-align: middle;\n",
       "    }\n",
       "\n",
       "    .dataframe tbody tr th {\n",
       "        vertical-align: top;\n",
       "    }\n",
       "\n",
       "    .dataframe thead th {\n",
       "        text-align: right;\n",
       "    }\n",
       "</style>\n",
       "<table border=\"1\" class=\"dataframe\">\n",
       "  <thead>\n",
       "    <tr style=\"text-align: right;\">\n",
       "      <th></th>\n",
       "      <th>dln_inv</th>\n",
       "      <th>dln_inc</th>\n",
       "      <th>dln_consump</th>\n",
       "    </tr>\n",
       "    <tr>\n",
       "      <th>qtr</th>\n",
       "      <th></th>\n",
       "      <th></th>\n",
       "      <th></th>\n",
       "    </tr>\n",
       "  </thead>\n",
       "  <tbody>\n",
       "    <tr>\n",
       "      <th>1960-04-01</th>\n",
       "      <td>-0.005571</td>\n",
       "      <td>0.030570</td>\n",
       "      <td>0.014355</td>\n",
       "    </tr>\n",
       "    <tr>\n",
       "      <th>1960-07-01</th>\n",
       "      <td>0.032970</td>\n",
       "      <td>0.042111</td>\n",
       "      <td>0.030411</td>\n",
       "    </tr>\n",
       "    <tr>\n",
       "      <th>1960-10-01</th>\n",
       "      <td>0.037139</td>\n",
       "      <td>0.016360</td>\n",
       "      <td>0.031749</td>\n",
       "    </tr>\n",
       "    <tr>\n",
       "      <th>1961-01-01</th>\n",
       "      <td>0.094363</td>\n",
       "      <td>0.031939</td>\n",
       "      <td>0.024257</td>\n",
       "    </tr>\n",
       "    <tr>\n",
       "      <th>1961-04-01</th>\n",
       "      <td>-0.043591</td>\n",
       "      <td>0.021381</td>\n",
       "      <td>-0.002181</td>\n",
       "    </tr>\n",
       "    <tr>\n",
       "      <th>...</th>\n",
       "      <td>...</td>\n",
       "      <td>...</td>\n",
       "      <td>...</td>\n",
       "    </tr>\n",
       "    <tr>\n",
       "      <th>1977-10-01</th>\n",
       "      <td>0.026188</td>\n",
       "      <td>0.021032</td>\n",
       "      <td>0.017272</td>\n",
       "    </tr>\n",
       "    <tr>\n",
       "      <th>1978-01-01</th>\n",
       "      <td>0.025520</td>\n",
       "      <td>0.010843</td>\n",
       "      <td>0.012479</td>\n",
       "    </tr>\n",
       "    <tr>\n",
       "      <th>1978-04-01</th>\n",
       "      <td>0.035580</td>\n",
       "      <td>0.014599</td>\n",
       "      <td>0.018431</td>\n",
       "    </tr>\n",
       "    <tr>\n",
       "      <th>1978-07-01</th>\n",
       "      <td>0.025508</td>\n",
       "      <td>0.024339</td>\n",
       "      <td>0.013194</td>\n",
       "    </tr>\n",
       "    <tr>\n",
       "      <th>1978-10-01</th>\n",
       "      <td>0.036367</td>\n",
       "      <td>0.005173</td>\n",
       "      <td>0.005990</td>\n",
       "    </tr>\n",
       "  </tbody>\n",
       "</table>\n",
       "<p>75 rows × 3 columns</p>\n",
       "</div>"
      ],
      "text/plain": [
       "             dln_inv   dln_inc  dln_consump\n",
       "qtr                                        \n",
       "1960-04-01 -0.005571  0.030570     0.014355\n",
       "1960-07-01  0.032970  0.042111     0.030411\n",
       "1960-10-01  0.037139  0.016360     0.031749\n",
       "1961-01-01  0.094363  0.031939     0.024257\n",
       "1961-04-01 -0.043591  0.021381    -0.002181\n",
       "...              ...       ...          ...\n",
       "1977-10-01  0.026188  0.021032     0.017272\n",
       "1978-01-01  0.025520  0.010843     0.012479\n",
       "1978-04-01  0.035580  0.014599     0.018431\n",
       "1978-07-01  0.025508  0.024339     0.013194\n",
       "1978-10-01  0.036367  0.005173     0.005990\n",
       "\n",
       "[75 rows x 3 columns]"
      ]
     },
     "execution_count": 8,
     "metadata": {},
     "output_type": "execute_result"
    }
   ],
   "source": [
    "#观察多变量时序数据的结构\n",
    "#同样的时间，根据不同的变量，有不同的数值\n",
    "#必须将数据整理成如下结构，才能够输入到statsmodel的VARMA中\n",
    "endog"
   ]
  },
  {
   "cell_type": "code",
   "execution_count": 9,
   "id": "85d9ff03-4e28-4733-9a4a-975c8dca051c",
   "metadata": {},
   "outputs": [
    {
     "name": "stdout",
     "output_type": "stream",
     "text": [
      "                                     Statespace Model Results                                    \n",
      "=================================================================================================\n",
      "Dep. Variable:     ['dln_inv', 'dln_inc', 'dln_consump']   No. Observations:                   75\n",
      "Model:                                            VAR(2)   Log Likelihood                 621.917\n",
      "                                             + intercept   AIC                          -1189.835\n",
      "Date:                                   Wed, 15 Feb 2023   BIC                          -1127.263\n",
      "Time:                                           19:43:25   HQIC                         -1164.851\n",
      "Sample:                                       04-01-1960                                         \n",
      "                                            - 10-01-1978                                         \n",
      "Covariance Type:                                     opg                                         \n",
      "===================================================================================\n",
      "Ljung-Box (L1) (Q):       0.02, 0.01, 0.19   Jarque-Bera (JB):    11.54, 8.00, 1.54\n",
      "Prob(Q):                  0.89, 0.92, 0.66   Prob(JB):             0.00, 0.02, 0.46\n",
      "Heteroskedasticity (H):   0.48, 1.21, 0.74   Skew:               0.14, -0.39, -0.33\n",
      "Prob(H) (two-sided):      0.07, 0.64, 0.45   Kurtosis:             4.90, 4.40, 3.22\n",
      "                           Results for equation dln_inv                           \n",
      "==================================================================================\n",
      "                     coef    std err          z      P>|z|      [0.025      0.975]\n",
      "----------------------------------------------------------------------------------\n",
      "intercept         -0.0163      0.019     -0.874      0.382      -0.053       0.020\n",
      "L1.dln_inv        -0.3207      0.128     -2.498      0.012      -0.572      -0.069\n",
      "L1.dln_inc         0.1513      0.911      0.166      0.868      -1.635       1.938\n",
      "L1.dln_consump     0.9514      1.022      0.931      0.352      -1.051       2.954\n",
      "L2.dln_inv        -0.1616      0.196     -0.825      0.409      -0.545       0.222\n",
      "L2.dln_inc         0.1201      0.673      0.179      0.858      -1.198       1.438\n",
      "L2.dln_consump     0.9248      0.929      0.995      0.320      -0.897       2.746\n",
      "                           Results for equation dln_inc                           \n",
      "==================================================================================\n",
      "                     coef    std err          z      P>|z|      [0.025      0.975]\n",
      "----------------------------------------------------------------------------------\n",
      "intercept          0.0161      0.006      2.509      0.012       0.004       0.029\n",
      "L1.dln_inv         0.0448      0.047      0.950      0.342      -0.048       0.137\n",
      "L1.dln_inc        -0.1497      0.181     -0.825      0.409      -0.505       0.206\n",
      "L1.dln_consump     0.2894      0.245      1.182      0.237      -0.190       0.769\n",
      "L2.dln_inv         0.0515      0.060      0.861      0.389      -0.066       0.169\n",
      "L2.dln_inc         0.0194      0.207      0.094      0.925      -0.386       0.425\n",
      "L2.dln_consump    -0.0134      0.215     -0.062      0.950      -0.435       0.408\n",
      "                         Results for equation dln_consump                         \n",
      "==================================================================================\n",
      "                     coef    std err          z      P>|z|      [0.025      0.975]\n",
      "----------------------------------------------------------------------------------\n",
      "intercept          0.0132      0.006      2.071      0.038       0.001       0.026\n",
      "L1.dln_inv        -0.0027      0.044     -0.061      0.952      -0.089       0.083\n",
      "L1.dln_inc         0.2211      0.152      1.451      0.147      -0.078       0.520\n",
      "L1.dln_consump    -0.2653      0.183     -1.447      0.148      -0.624       0.094\n",
      "L2.dln_inv         0.0339      0.049      0.686      0.493      -0.063       0.131\n",
      "L2.dln_inc         0.3498      0.180      1.944      0.052      -0.003       0.703\n",
      "L2.dln_consump    -0.0210      0.174     -0.121      0.904      -0.361       0.319\n",
      "                                    Error covariance matrix                                     \n",
      "================================================================================================\n",
      "                                   coef    std err          z      P>|z|      [0.025      0.975]\n",
      "------------------------------------------------------------------------------------------------\n",
      "sqrt.var.dln_inv                 0.0435      0.004      9.853      0.000       0.035       0.052\n",
      "sqrt.cov.dln_inv.dln_inc         0.0015      0.002      0.662      0.508      -0.003       0.006\n",
      "sqrt.var.dln_inc                 0.0112      0.001      9.449      0.000       0.009       0.014\n",
      "sqrt.cov.dln_inv.dln_consump     0.0026      0.002      1.532      0.125      -0.001       0.006\n",
      "sqrt.cov.dln_inc.dln_consump     0.0046      0.001      4.490      0.000       0.003       0.007\n",
      "sqrt.var.dln_consump             0.0072      0.001      7.950      0.000       0.005       0.009\n",
      "================================================================================================\n",
      "\n",
      "Warnings:\n",
      "[1] Covariance matrix calculated using the outer product of gradients (complex-step).\n"
     ]
    }
   ],
   "source": [
    "#建立一个VAR(2)模型，变量数此时为3\n",
    "mod = sm.tsa.VARMAX(endog #建模数据 - 必须是多变量\n",
    "                    , order=(2,0) #p,q\n",
    "                   )\n",
    "res = mod.fit(maxiter=1000, disp=False) #为什么会需要迭代？\n",
    "print(res.summary())"
   ]
  },
  {
   "cell_type": "code",
   "execution_count": 10,
   "id": "2219a835-c876-4f12-baa3-60a1dcb3582e",
   "metadata": {},
   "outputs": [
    {
     "data": {
      "text/html": [
       "<div>\n",
       "<style scoped>\n",
       "    .dataframe tbody tr th:only-of-type {\n",
       "        vertical-align: middle;\n",
       "    }\n",
       "\n",
       "    .dataframe tbody tr th {\n",
       "        vertical-align: top;\n",
       "    }\n",
       "\n",
       "    .dataframe thead th {\n",
       "        text-align: right;\n",
       "    }\n",
       "</style>\n",
       "<table border=\"1\" class=\"dataframe\">\n",
       "  <thead>\n",
       "    <tr style=\"text-align: right;\">\n",
       "      <th></th>\n",
       "      <th>dln_inv</th>\n",
       "      <th>dln_inc</th>\n",
       "      <th>dln_consump</th>\n",
       "    </tr>\n",
       "    <tr>\n",
       "      <th>qtr</th>\n",
       "      <th></th>\n",
       "      <th></th>\n",
       "      <th></th>\n",
       "    </tr>\n",
       "  </thead>\n",
       "  <tbody>\n",
       "    <tr>\n",
       "      <th>1960-04-01</th>\n",
       "      <td>-0.005571</td>\n",
       "      <td>0.030570</td>\n",
       "      <td>0.014355</td>\n",
       "    </tr>\n",
       "    <tr>\n",
       "      <th>1960-07-01</th>\n",
       "      <td>0.032970</td>\n",
       "      <td>0.042111</td>\n",
       "      <td>0.030411</td>\n",
       "    </tr>\n",
       "    <tr>\n",
       "      <th>1960-10-01</th>\n",
       "      <td>0.037139</td>\n",
       "      <td>0.016360</td>\n",
       "      <td>0.031749</td>\n",
       "    </tr>\n",
       "    <tr>\n",
       "      <th>1961-01-01</th>\n",
       "      <td>0.094363</td>\n",
       "      <td>0.031939</td>\n",
       "      <td>0.024257</td>\n",
       "    </tr>\n",
       "    <tr>\n",
       "      <th>1961-04-01</th>\n",
       "      <td>-0.043591</td>\n",
       "      <td>0.021381</td>\n",
       "      <td>-0.002181</td>\n",
       "    </tr>\n",
       "  </tbody>\n",
       "</table>\n",
       "</div>"
      ],
      "text/plain": [
       "             dln_inv   dln_inc  dln_consump\n",
       "qtr                                        \n",
       "1960-04-01 -0.005571  0.030570     0.014355\n",
       "1960-07-01  0.032970  0.042111     0.030411\n",
       "1960-10-01  0.037139  0.016360     0.031749\n",
       "1961-01-01  0.094363  0.031939     0.024257\n",
       "1961-04-01 -0.043591  0.021381    -0.002181"
      ]
     },
     "execution_count": 10,
     "metadata": {},
     "output_type": "execute_result"
    }
   ],
   "source": [
    "endog.head()"
   ]
  },
  {
   "cell_type": "code",
   "execution_count": 12,
   "id": "523c0a4a-2003-4b54-b8f1-f55a3fa0ca6b",
   "metadata": {},
   "outputs": [
    {
     "name": "stdout",
     "output_type": "stream",
     "text": [
      "                             Statespace Model Results                             \n",
      "==================================================================================\n",
      "Dep. Variable:     ['dln_inv', 'dln_inc']   No. Observations:                   75\n",
      "Model:                            VARX(2)   Log Likelihood                 366.961\n",
      "                              + intercept   AIC                           -703.922\n",
      "Date:                    Wed, 15 Feb 2023   BIC                           -669.160\n",
      "Time:                            19:47:44   HQIC                          -690.042\n",
      "Sample:                        04-01-1960                                         \n",
      "                             - 10-01-1978                                         \n",
      "Covariance Type:                      opg                                         \n",
      "===================================================================================\n",
      "Ljung-Box (L1) (Q):             0.13, 2.47   Jarque-Bera (JB):          12.23, 1.06\n",
      "Prob(Q):                        0.72, 0.12   Prob(JB):                   0.00, 0.59\n",
      "Heteroskedasticity (H):         0.45, 0.54   Skew:                      0.23, -0.29\n",
      "Prob(H) (two-sided):            0.05, 0.13   Kurtosis:                   4.92, 3.02\n",
      "                            Results for equation dln_inv                            \n",
      "====================================================================================\n",
      "                       coef    std err          z      P>|z|      [0.025      0.975]\n",
      "------------------------------------------------------------------------------------\n",
      "intercept           -0.0112      0.015     -0.739      0.460      -0.041       0.018\n",
      "L1.dln_inv          -0.2397      0.099     -2.418      0.016      -0.434      -0.045\n",
      "L1.dln_inc           0.4765      0.570      0.836      0.403      -0.641       1.594\n",
      "L2.dln_inv          -0.1744      0.148     -1.182      0.237      -0.464       0.115\n",
      "L2.dln_inc           0.2342      0.489      0.478      0.632      -0.725       1.193\n",
      "beta.dln_consump     1.1015      0.690      1.597      0.110      -0.250       2.453\n",
      "                            Results for equation dln_inc                            \n",
      "====================================================================================\n",
      "                       coef    std err          z      P>|z|      [0.025      0.975]\n",
      "------------------------------------------------------------------------------------\n",
      "intercept            0.0116      0.004      2.741      0.006       0.003       0.020\n",
      "L1.dln_inv           0.0615      0.035      1.760      0.078      -0.007       0.130\n",
      "L1.dln_inc          -0.0979      0.126     -0.777      0.437      -0.345       0.149\n",
      "L2.dln_inv           0.0200      0.034      0.585      0.559      -0.047       0.087\n",
      "L2.dln_inc          -0.1257      0.135     -0.932      0.351      -0.390       0.139\n",
      "beta.dln_consump     0.6114      0.110      5.579      0.000       0.397       0.826\n",
      "                                  Error covariance matrix                                   \n",
      "============================================================================================\n",
      "                               coef    std err          z      P>|z|      [0.025      0.975]\n",
      "--------------------------------------------------------------------------------------------\n",
      "sqrt.var.dln_inv             0.0432      0.004     12.294      0.000       0.036       0.050\n",
      "sqrt.cov.dln_inv.dln_inc     0.0004      0.002      0.204      0.838      -0.004       0.004\n",
      "sqrt.var.dln_inc             0.0101      0.001      9.975      0.000       0.008       0.012\n",
      "============================================================================================\n",
      "\n",
      "Warnings:\n",
      "[1] Covariance matrix calculated using the outer product of gradients (complex-step).\n"
     ]
    }
   ],
   "source": [
    "#建立带外生变量的VAR模型，此时变量数为2\n",
    "exog = endog['dln_consump']\n",
    "mod = sm.tsa.VARMAX(endog[['dln_inv', 'dln_inc']], order=(2,0),exog=exog)\n",
    "res = mod.fit(maxiter=1000, disp=False)\n",
    "print(res.summary())"
   ]
  },
  {
   "cell_type": "code",
   "execution_count": 15,
   "id": "6bad6f78-bb41-47cc-aeab-a274a74c1692",
   "metadata": {},
   "outputs": [
    {
     "data": {
      "image/png": "[encoded data removed]",
      "text/plain": [
       "<Figure size 936x216 with 1 Axes>"
      ]
     },
     "metadata": {
      "needs_background": "light"
     },
     "output_type": "display_data"
    }
   ],
   "source": [
    "ax = res.impulse_responses(10, orthogonalized=True, impulse=[1, 0]).plot(figsize=(13,3))\n",
    "ax.set(xlabel='t', title='Responses to a shock to `dln_inv`');"
   ]
  },
  {
   "cell_type": "code",
   "execution_count": 1,
   "id": "1ffcfa3b",
   "metadata": {
    "collapsed": true,
    "jupyter": {
     "outputs_hidden": true
    },
    "tags": []
   },
   "outputs": [
    {
     "name": "stdout",
     "output_type": "stream",
     "text": [
      "Requirement already satisfied: pmdarima in c:\\programdata\\anaconda3\\lib\\site-packages (2.0.1)\n",
      "Requirement already satisfied: pandas>=0.19 in c:\\programdata\\anaconda3\\lib\\site-packages (from pmdarima) (1.1.3)\n",
      "Requirement already satisfied: statsmodels>=0.13.2 in c:\\programdata\\anaconda3\\lib\\site-packages (from pmdarima) (0.13.5)\n",
      "Requirement already satisfied: setuptools!=50.0.0,>=38.6.0 in c:\\programdata\\anaconda3\\lib\\site-packages (from pmdarima) (50.3.1.post20201107)\n",
      "Requirement already satisfied: Cython!=0.29.18,!=0.29.31,>=0.29 in c:\\programdata\\anaconda3\\lib\\site-packages (from pmdarima) (0.29.21)\n",
      "Requirement already satisfied: scipy>=1.3.2 in c:\\programdata\\anaconda3\\lib\\site-packages (from pmdarima) (1.5.2)\n",
      "Requirement already satisfied: numpy>=1.21 in c:\\programdata\\anaconda3\\lib\\site-packages (from pmdarima) (1.23.4)\n",
      "Requirement already satisfied: scikit-learn>=0.22 in c:\\programdata\\anaconda3\\lib\\site-packages (from pmdarima) (1.0.1)\n",
      "Requirement already satisfied: urllib3 in c:\\programdata\\anaconda3\\lib\\site-packages (from pmdarima) (1.25.11)\n",
      "Requirement already satisfied: joblib>=0.11 in c:\\programdata\\anaconda3\\lib\\site-packages (from pmdarima) (0.17.0)\n",
      "Requirement already satisfied: python-dateutil>=2.7.3 in c:\\programdata\\anaconda3\\lib\\site-packages (from pandas>=0.19->pmdarima) (2.8.1)\n",
      "Requirement already satisfied: pytz>=2017.2 in c:\\programdata\\anaconda3\\lib\\site-packages (from pandas>=0.19->pmdarima) (2020.1)\n",
      "Requirement already satisfied: threadpoolctl>=2.0.0 in c:\\programdata\\anaconda3\\lib\\site-packages (from scikit-learn>=0.22->pmdarima) (2.1.0)\n",
      "Requirement already satisfied: patsy>=0.5.2 in c:\\programdata\\anaconda3\\lib\\site-packages (from statsmodels>=0.13.2->pmdarima) (0.5.3)\n",
      "Requirement already satisfied: packaging>=21.3 in c:\\programdata\\anaconda3\\lib\\site-packages (from statsmodels>=0.13.2->pmdarima) (21.3)\n",
      "Requirement already satisfied: pyparsing!=3.0.5,>=2.0.2 in c:\\programdata\\anaconda3\\lib\\site-packages (from packaging>=21.3->statsmodels>=0.13.2->pmdarima) (2.4.7)\n",
      "Requirement already satisfied: six in c:\\programdata\\anaconda3\\lib\\site-packages (from patsy>=0.5.2->statsmodels>=0.13.2->pmdarima) (1.15.0)\n"
     ]
    }
   ],
   "source": [
    "#!pip install pmdarima"
   ]
  },
  {
   "cell_type": "code",
   "execution_count": 13,
   "id": "c662f8aa",
   "metadata": {},
   "outputs": [],
   "source": [
    "import warnings\n",
    "warnings.filterwarnings(\"ignore\")\n",
    "import pmdarima as pm\n",
    "from pmdarima import model_selection\n",
    "import numpy as np\n",
    "import pandas as pd\n",
    "import matplotlib.pyplot as plt\n",
    "from sklearn.metrics import mean_squared_error"
   ]
  },
  {
   "cell_type": "code",
   "execution_count": 14,
   "id": "90011403",
   "metadata": {},
   "outputs": [],
   "source": [
    "data = pm.datasets.load_wineind()"
   ]
  },
  {
   "cell_type": "code",
   "execution_count": 15,
   "id": "d92b57a2",
   "metadata": {},
   "outputs": [
    {
     "data": {
      "text/plain": [
       "array([15136., 16733., 20016., 17708., 18019., 19227., 22893., 23739.,\n",
       "       21133., 22591., 26786., 29740., 15028., 17977., 20008., 21354.,\n",
       "       19498., 22125., 25817., 28779., 20960., 22254., 27392., 29945.,\n",
       "       16933., 17892., 20533., 23569., 22417., 22084., 26580., 27454.,\n",
       "       24081., 23451., 28991., 31386., 16896., 20045., 23471., 21747.,\n",
       "       25621., 23859., 25500., 30998., 24475., 23145., 29701., 34365.,\n",
       "       17556., 22077., 25702., 22214., 26886., 23191., 27831., 35406.,\n",
       "       23195., 25110., 30009., 36242., 18450., 21845., 26488., 22394.,\n",
       "       28057., 25451., 24872., 33424., 24052., 28449., 33533., 37351.,\n",
       "       19969., 21701., 26249., 24493., 24603., 26485., 30723., 34569.,\n",
       "       26689., 26157., 32064., 38870., 21337., 19419., 23166., 28286.,\n",
       "       24570., 24001., 33151., 24878., 26804., 28967., 33311., 40226.,\n",
       "       20504., 23060., 23562., 27562., 23940., 24584., 34303., 25517.,\n",
       "       23494., 29095., 32903., 34379., 16991., 21109., 23740., 25552.,\n",
       "       21752., 20294., 29009., 25500., 24166., 26960., 31222., 38641.,\n",
       "       14672., 17543., 25453., 32683., 22449., 22316., 27595., 25451.,\n",
       "       25421., 25288., 32568., 35110., 16052., 22146., 21198., 19543.,\n",
       "       22084., 23816., 29961., 26773., 26635., 26972., 30207., 38687.,\n",
       "       16974., 21697., 24179., 23757., 25013., 24019., 30345., 24488.,\n",
       "       25156., 25650., 30923., 37240., 17466., 19463., 24352., 26805.,\n",
       "       25236., 24735., 29356., 31234., 22724., 28496., 32857., 37198.,\n",
       "       13652., 22784., 23565., 26323., 23779., 27549., 29660., 23356.])"
      ]
     },
     "execution_count": 15,
     "metadata": {},
     "output_type": "execute_result"
    }
   ],
   "source": [
    "data"
   ]
  },
  {
   "cell_type": "code",
   "execution_count": 16,
   "id": "ce829bcf",
   "metadata": {},
   "outputs": [
    {
     "data": {
      "text/plain": [
       "176"
      ]
     },
     "execution_count": 16,
     "metadata": {},
     "output_type": "execute_result"
    }
   ],
   "source": [
    "len(data)"
   ]
  },
  {
   "cell_type": "code",
   "execution_count": 17,
   "id": "d4132879",
   "metadata": {},
   "outputs": [
    {
     "data": {
      "image/png": "[encoded data removed]",
      "text/plain": [
       "<Figure size 1152x360 with 1 Axes>"
      ]
     },
     "metadata": {
      "needs_background": "light"
     },
     "output_type": "display_data"
    }
   ],
   "source": [
    "fig = plt.figure(figsize=(16,5))\n",
    "plt.plot(range(data.shape[0]),data)\n",
    "plt.grid();"
   ]
  },
  {
   "cell_type": "code",
   "execution_count": 25,
   "id": "4b894875",
   "metadata": {},
   "outputs": [],
   "source": [
    "#使用pm分割数据，遵循时序规则，不会打乱时间顺序\n",
    "train, test = model_selection.train_test_split(data, train_size=152)"
   ]
  },
  {
   "cell_type": "code",
   "execution_count": 27,
   "id": "994db372",
   "metadata": {},
   "outputs": [
    {
     "name": "stdout",
     "output_type": "stream",
     "text": [
      "Performing stepwise search to minimize aic\n",
      " ARIMA(2,1,2)(1,0,1)[12] intercept   : AIC=2955.247, Time=0.11 sec\n",
      " ARIMA(0,1,0)(0,0,0)[12] intercept   : AIC=3090.160, Time=0.01 sec\n",
      " ARIMA(1,1,0)(1,0,0)[12] intercept   : AIC=2993.480, Time=0.05 sec\n",
      " ARIMA(0,1,1)(0,0,1)[12] intercept   : AIC=2985.395, Time=0.05 sec\n",
      " ARIMA(0,1,0)(0,0,0)[12]             : AIC=3088.177, Time=0.01 sec\n",
      " ARIMA(2,1,2)(0,0,1)[12] intercept   : AIC=2978.426, Time=0.09 sec\n",
      " ARIMA(2,1,2)(1,0,0)[12] intercept   : AIC=2954.744, Time=0.10 sec\n",
      " ARIMA(2,1,2)(0,0,0)[12] intercept   : AIC=3025.510, Time=0.04 sec\n",
      " ARIMA(2,1,2)(2,0,0)[12] intercept   : AIC=2954.236, Time=0.37 sec\n",
      " ARIMA(2,1,2)(2,0,1)[12] intercept   : AIC=2958.264, Time=0.44 sec\n",
      " ARIMA(1,1,2)(2,0,0)[12] intercept   : AIC=2964.588, Time=0.36 sec\n",
      " ARIMA(2,1,1)(2,0,0)[12] intercept   : AIC=2950.034, Time=0.47 sec\n",
      " ARIMA(2,1,1)(1,0,0)[12] intercept   : AIC=2950.338, Time=0.12 sec\n",
      " ARIMA(2,1,1)(2,0,1)[12] intercept   : AIC=2953.291, Time=0.42 sec\n",
      " ARIMA(2,1,1)(1,0,1)[12] intercept   : AIC=2951.569, Time=0.10 sec\n",
      " ARIMA(1,1,1)(2,0,0)[12] intercept   : AIC=2958.953, Time=0.31 sec\n",
      " ARIMA(2,1,0)(2,0,0)[12] intercept   : AIC=2966.286, Time=0.33 sec\n",
      " ARIMA(3,1,1)(2,0,0)[12] intercept   : AIC=2951.433, Time=0.44 sec\n",
      " ARIMA(1,1,0)(2,0,0)[12] intercept   : AIC=2993.310, Time=0.34 sec\n",
      " ARIMA(3,1,0)(2,0,0)[12] intercept   : AIC=2952.990, Time=0.43 sec\n",
      " ARIMA(3,1,2)(2,0,0)[12] intercept   : AIC=2953.842, Time=0.51 sec\n",
      " ARIMA(2,1,1)(2,0,0)[12]             : AIC=2946.471, Time=0.40 sec\n",
      " ARIMA(2,1,1)(1,0,0)[12]             : AIC=2947.171, Time=0.10 sec\n",
      " ARIMA(2,1,1)(2,0,1)[12]             : AIC=2948.216, Time=0.34 sec\n",
      " ARIMA(2,1,1)(1,0,1)[12]             : AIC=2946.151, Time=0.08 sec\n",
      " ARIMA(2,1,1)(0,0,1)[12]             : AIC=2971.736, Time=0.08 sec\n",
      " ARIMA(2,1,1)(1,0,2)[12]             : AIC=2948.085, Time=0.36 sec\n",
      " ARIMA(2,1,1)(0,0,0)[12]             : AIC=3019.258, Time=0.03 sec\n",
      " ARIMA(2,1,1)(0,0,2)[12]             : AIC=2959.185, Time=0.31 sec\n",
      " ARIMA(2,1,1)(2,0,2)[12]             : AIC=2950.098, Time=0.45 sec\n",
      " ARIMA(1,1,1)(1,0,1)[12]             : AIC=2953.184, Time=0.07 sec\n",
      " ARIMA(2,1,0)(1,0,1)[12]             : AIC=2964.069, Time=0.07 sec\n",
      " ARIMA(3,1,1)(1,0,1)[12]             : AIC=2949.076, Time=0.10 sec\n",
      " ARIMA(2,1,2)(1,0,1)[12]             : AIC=2951.826, Time=0.10 sec\n",
      " ARIMA(1,1,0)(1,0,1)[12]             : AIC=2991.086, Time=0.06 sec\n",
      " ARIMA(1,1,2)(1,0,1)[12]             : AIC=2960.917, Time=0.09 sec\n",
      " ARIMA(3,1,0)(1,0,1)[12]             : AIC=2950.719, Time=0.07 sec\n",
      " ARIMA(3,1,2)(1,0,1)[12]             : AIC=2952.019, Time=0.09 sec\n",
      "\n",
      "Best model:  ARIMA(2,1,1)(1,0,1)[12]          \n",
      "Total fit time: 7.956 seconds\n"
     ]
    }
   ],
   "source": [
    "#5秒之内自动化建模，只支持SARIMAX混合模型，不支持VARMAX系列模型\n",
    "arima = pm.auto_arima(train, trace=True, #训练数据，是否打印训练过程？\n",
    "                      error_action='ignore', suppress_warnings=True, #无视警告和错误\n",
    "                      maxiter=5, #允许的最大迭代次数\n",
    "                      seasonal=True, m=12 #是否使用季节性因子？如果使用的话，多步预测的步数是多少？\n",
    "                     )"
   ]
  },
  {
   "cell_type": "code",
   "execution_count": 33,
   "id": "f7a30499-3c87-46e9-b3f8-a340f235ad9d",
   "metadata": {},
   "outputs": [
    {
     "data": {
      "text/html": [
       "<div>\n",
       "<style scoped>\n",
       "    .dataframe tbody tr th:only-of-type {\n",
       "        vertical-align: middle;\n",
       "    }\n",
       "\n",
       "    .dataframe tbody tr th {\n",
       "        vertical-align: top;\n",
       "    }\n",
       "\n",
       "    .dataframe thead th {\n",
       "        text-align: right;\n",
       "    }\n",
       "</style>\n",
       "<table border=\"1\" class=\"dataframe\">\n",
       "  <thead>\n",
       "    <tr style=\"text-align: right;\">\n",
       "      <th></th>\n",
       "      <th>dln_inv</th>\n",
       "      <th>dln_inc</th>\n",
       "      <th>dln_consump</th>\n",
       "    </tr>\n",
       "    <tr>\n",
       "      <th>qtr</th>\n",
       "      <th></th>\n",
       "      <th></th>\n",
       "      <th></th>\n",
       "    </tr>\n",
       "  </thead>\n",
       "  <tbody>\n",
       "    <tr>\n",
       "      <th>1960-04-01</th>\n",
       "      <td>-0.005571</td>\n",
       "      <td>0.030570</td>\n",
       "      <td>0.014355</td>\n",
       "    </tr>\n",
       "    <tr>\n",
       "      <th>1960-07-01</th>\n",
       "      <td>0.032970</td>\n",
       "      <td>0.042111</td>\n",
       "      <td>0.030411</td>\n",
       "    </tr>\n",
       "    <tr>\n",
       "      <th>1960-10-01</th>\n",
       "      <td>0.037139</td>\n",
       "      <td>0.016360</td>\n",
       "      <td>0.031749</td>\n",
       "    </tr>\n",
       "    <tr>\n",
       "      <th>1961-01-01</th>\n",
       "      <td>0.094363</td>\n",
       "      <td>0.031939</td>\n",
       "      <td>0.024257</td>\n",
       "    </tr>\n",
       "    <tr>\n",
       "      <th>1961-04-01</th>\n",
       "      <td>-0.043591</td>\n",
       "      <td>0.021381</td>\n",
       "      <td>-0.002181</td>\n",
       "    </tr>\n",
       "  </tbody>\n",
       "</table>\n",
       "</div>"
      ],
      "text/plain": [
       "             dln_inv   dln_inc  dln_consump\n",
       "qtr                                        \n",
       "1960-04-01 -0.005571  0.030570     0.014355\n",
       "1960-07-01  0.032970  0.042111     0.030411\n",
       "1960-10-01  0.037139  0.016360     0.031749\n",
       "1961-01-01  0.094363  0.031939     0.024257\n",
       "1961-04-01 -0.043591  0.021381    -0.002181"
      ]
     },
     "execution_count": 33,
     "metadata": {},
     "output_type": "execute_result"
    }
   ],
   "source": [
    "endog.head()"
   ]
  },
  {
   "cell_type": "code",
   "execution_count": null,
   "id": "cf3ddb00-6324-465f-a039-86057a30870c",
   "metadata": {},
   "outputs": [],
   "source": [
    "train_m, test_m = model_selection.train_test_split(endog, train_size=50)\n",
    "varma = pm.auto_arima(train_m)"
   ]
  },
  {
   "cell_type": "code",
   "execution_count": null,
   "id": "4560ea2a",
   "metadata": {},
   "outputs": [],
   "source": [
    "#预测 - n_periods向未来预测，无法对训练的时间进行预测\n",
    "preds = arima.predict(n_periods=test.shape[0])"
   ]
  },
  {
   "cell_type": "code",
   "execution_count": null,
   "id": "ce883250",
   "metadata": {},
   "outputs": [
    {
     "data": {
      "text/plain": [
       "array([25809.09822027, 27111.50500611, 30145.84346715, 35069.09860267,\n",
       "       19044.09098919, 22734.07766136, 24370.14476344, 24468.4989244 ,\n",
       "       24661.71940304, 24465.6250753 , 29285.02123954, 25607.32326197,\n",
       "       26131.79439226, 26937.20321329, 29632.82588046, 33904.51565498,\n",
       "       20207.31393733, 23342.10936251, 24741.41755828, 24828.6385991 ,\n",
       "       24993.22466868, 24825.14042152, 28939.23990247, 25799.92370898])"
      ]
     },
     "execution_count": 29,
     "metadata": {},
     "output_type": "execute_result"
    }
   ],
   "source": [
    "preds #按照测试集的日期进行预测"
   ]
  },
  {
   "cell_type": "code",
   "execution_count": 31,
   "id": "e1eec2a9-c1d4-4c7a-b14c-037746c3e56b",
   "metadata": {},
   "outputs": [
    {
     "data": {
      "image/png": "[encoded data removed]",
      "text/plain": [
       "<Figure size 1152x360 with 1 Axes>"
      ]
     },
     "metadata": {
      "needs_background": "light"
     },
     "output_type": "display_data"
    }
   ],
   "source": [
    "fig = plt.figure(figsize=(16,5))\n",
    "plt.plot(range(test.shape[0]),test)\n",
    "plt.plot(range(test.shape[0]),preds)\n",
    "plt.grid();"
   ]
  },
  {
   "cell_type": "code",
   "execution_count": 10,
   "id": "4bacbf71",
   "metadata": {},
   "outputs": [
    {
     "data": {
      "text/plain": [
       "2550.882609342123"
      ]
     },
     "execution_count": 10,
     "metadata": {},
     "output_type": "execute_result"
    }
   ],
   "source": [
    "#评估指标 - 可共用sklearn的评估指标，也可调用特定的时序指标AIC\n",
    "np.sqrt(mean_squared_error(test, preds))"
   ]
  },
  {
   "cell_type": "code",
   "execution_count": 11,
   "id": "ce8f32c2",
   "metadata": {},
   "outputs": [
    {
     "data": {
      "text/plain": [
       "2946.15065862177"
      ]
     },
     "execution_count": 11,
     "metadata": {},
     "output_type": "execute_result"
    }
   ],
   "source": [
    "arima.aic()"
   ]
  },
  {
   "cell_type": "code",
   "execution_count": 12,
   "id": "00e02975",
   "metadata": {},
   "outputs": [
    {
     "data": {
      "text/html": [
       "<table class=\"simpletable\">\n",
       "<caption>SARIMAX Results</caption>\n",
       "<tr>\n",
       "  <th>Dep. Variable:</th>                  <td>y</td>               <th>  No. Observations:  </th>    <td>152</td>   \n",
       "</tr>\n",
       "<tr>\n",
       "  <th>Model:</th>           <td>SARIMAX(2, 1, 1)x(1, 0, 1, 12)</td> <th>  Log Likelihood     </th> <td>-1467.075</td>\n",
       "</tr>\n",
       "<tr>\n",
       "  <th>Date:</th>                   <td>Sat, 03 Dec 2022</td>        <th>  AIC                </th> <td>2946.151</td> \n",
       "</tr>\n",
       "<tr>\n",
       "  <th>Time:</th>                       <td>10:15:42</td>            <th>  BIC                </th> <td>2964.254</td> \n",
       "</tr>\n",
       "<tr>\n",
       "  <th>Sample:</th>                         <td>0</td>               <th>  HQIC               </th> <td>2953.505</td> \n",
       "</tr>\n",
       "<tr>\n",
       "  <th></th>                             <td> - 152</td>             <th>                     </th>     <td> </td>    \n",
       "</tr>\n",
       "<tr>\n",
       "  <th>Covariance Type:</th>               <td>opg</td>              <th>                     </th>     <td> </td>    \n",
       "</tr>\n",
       "</table>\n",
       "<table class=\"simpletable\">\n",
       "<tr>\n",
       "      <td></td>        <th>coef</th>     <th>std err</th>      <th>z</th>      <th>P>|z|</th>  <th>[0.025</th>    <th>0.975]</th>  \n",
       "</tr>\n",
       "<tr>\n",
       "  <th>ar.L1</th>    <td>    0.0592</td> <td>    0.220</td> <td>    0.269</td> <td> 0.788</td> <td>   -0.372</td> <td>    0.490</td>\n",
       "</tr>\n",
       "<tr>\n",
       "  <th>ar.L2</th>    <td>   -0.2047</td> <td>    0.258</td> <td>   -0.794</td> <td> 0.427</td> <td>   -0.710</td> <td>    0.300</td>\n",
       "</tr>\n",
       "<tr>\n",
       "  <th>ma.L1</th>    <td>   -0.8384</td> <td>    0.066</td> <td>  -12.794</td> <td> 0.000</td> <td>   -0.967</td> <td>   -0.710</td>\n",
       "</tr>\n",
       "<tr>\n",
       "  <th>ar.S.L12</th> <td>    0.8536</td> <td>    0.136</td> <td>    6.274</td> <td> 0.000</td> <td>    0.587</td> <td>    1.120</td>\n",
       "</tr>\n",
       "<tr>\n",
       "  <th>ma.S.L12</th> <td>   -0.3838</td> <td>    0.256</td> <td>   -1.497</td> <td> 0.135</td> <td>   -0.886</td> <td>    0.119</td>\n",
       "</tr>\n",
       "<tr>\n",
       "  <th>sigma2</th>   <td> 2.836e+07</td> <td> 4.02e-09</td> <td> 7.06e+15</td> <td> 0.000</td> <td> 2.84e+07</td> <td> 2.84e+07</td>\n",
       "</tr>\n",
       "</table>\n",
       "<table class=\"simpletable\">\n",
       "<tr>\n",
       "  <th>Ljung-Box (L1) (Q):</th>     <td>0.01</td> <th>  Jarque-Bera (JB):  </th> <td>157.39</td>\n",
       "</tr>\n",
       "<tr>\n",
       "  <th>Prob(Q):</th>                <td>0.92</td> <th>  Prob(JB):          </th>  <td>0.00</td> \n",
       "</tr>\n",
       "<tr>\n",
       "  <th>Heteroskedasticity (H):</th> <td>0.48</td> <th>  Skew:              </th>  <td>0.82</td> \n",
       "</tr>\n",
       "<tr>\n",
       "  <th>Prob(H) (two-sided):</th>    <td>0.01</td> <th>  Kurtosis:          </th>  <td>7.72</td> \n",
       "</tr>\n",
       "</table><br/><br/>Warnings:<br/>[1] Covariance matrix calculated using the outer product of gradients (complex-step).<br/>[2] Covariance matrix is singular or near-singular, with condition number 1.47e+31. Standard errors may be unstable."
      ],
      "text/plain": [
       "<class 'statsmodels.iolib.summary.Summary'>\n",
       "\"\"\"\n",
       "                                     SARIMAX Results                                      \n",
       "==========================================================================================\n",
       "Dep. Variable:                                  y   No. Observations:                  152\n",
       "Model:             SARIMAX(2, 1, 1)x(1, 0, 1, 12)   Log Likelihood               -1467.075\n",
       "Date:                            Sat, 03 Dec 2022   AIC                           2946.151\n",
       "Time:                                    10:15:42   BIC                           2964.254\n",
       "Sample:                                         0   HQIC                          2953.505\n",
       "                                            - 152                                         \n",
       "Covariance Type:                              opg                                         \n",
       "==============================================================================\n",
       "                 coef    std err          z      P>|z|      [0.025      0.975]\n",
       "------------------------------------------------------------------------------\n",
       "ar.L1          0.0592      0.220      0.269      0.788      -0.372       0.490\n",
       "ar.L2         -0.2047      0.258     -0.794      0.427      -0.710       0.300\n",
       "ma.L1         -0.8384      0.066    -12.794      0.000      -0.967      -0.710\n",
       "ar.S.L12       0.8536      0.136      6.274      0.000       0.587       1.120\n",
       "ma.S.L12      -0.3838      0.256     -1.497      0.135      -0.886       0.119\n",
       "sigma2      2.836e+07   4.02e-09   7.06e+15      0.000    2.84e+07    2.84e+07\n",
       "===================================================================================\n",
       "Ljung-Box (L1) (Q):                   0.01   Jarque-Bera (JB):               157.39\n",
       "Prob(Q):                              0.92   Prob(JB):                         0.00\n",
       "Heteroskedasticity (H):               0.48   Skew:                             0.82\n",
       "Prob(H) (two-sided):                  0.01   Kurtosis:                         7.72\n",
       "===================================================================================\n",
       "\n",
       "Warnings:\n",
       "[1] Covariance matrix calculated using the outer product of gradients (complex-step).\n",
       "[2] Covariance matrix is singular or near-singular, with condition number 1.47e+31. Standard errors may be unstable.\n",
       "\"\"\""
      ]
     },
     "execution_count": 12,
     "metadata": {},
     "output_type": "execute_result"
    }
   ],
   "source": [
    "arima.summary()"
   ]
  },
  {
   "cell_type": "code",
   "execution_count": 40,
   "id": "8bf80c21",
   "metadata": {},
   "outputs": [],
   "source": [
    "model = pm.ARIMA(order=(2,1,1),seasonal_order=(1,0,1,12), max_iter=500)"
   ]
  },
  {
   "cell_type": "code",
   "execution_count": 41,
   "id": "fe19dce3",
   "metadata": {},
   "outputs": [
    {
     "data": {
      "text/plain": [
       "ARIMA(order=(2, 1, 1), seasonal_order=(1, 0, 1, 12))"
      ]
     },
     "execution_count": 41,
     "metadata": {},
     "output_type": "execute_result"
    }
   ],
   "source": [
    "model.fit(train)"
   ]
  },
  {
   "cell_type": "code",
   "execution_count": 42,
   "id": "0d0081b5",
   "metadata": {},
   "outputs": [
    {
     "data": {
      "text/plain": [
       "3081.3401428137163"
      ]
     },
     "execution_count": 42,
     "metadata": {},
     "output_type": "execute_result"
    }
   ],
   "source": [
    "np.sqrt(mean_squared_error(test, model.predict(n_periods = test.shape[0]))) #RMSE明显高于auto_arima的结果"
   ]
  },
  {
   "cell_type": "code",
   "execution_count": 39,
   "id": "b54b4412-8c6b-4a68-ae0c-e7e164072156",
   "metadata": {},
   "outputs": [
    {
     "data": {
      "image/png": "[encoded data removed]",
      "text/plain": [
       "<Figure size 1152x360 with 1 Axes>"
      ]
     },
     "metadata": {
      "needs_background": "light"
     },
     "output_type": "display_data"
    }
   ],
   "source": [
    "fig = plt.figure(figsize=(16,5))\n",
    "plt.plot(range(test.shape[0]),test)\n",
    "plt.plot(range(test.shape[0]),model.predict(n_periods = test.shape[0]))\n",
    "plt.grid();"
   ]
  },
  {
   "cell_type": "code",
   "execution_count": 43,
   "id": "a6074916",
   "metadata": {},
   "outputs": [
    {
     "data": {
      "text/plain": [
       "2936.648256262213"
      ]
     },
     "execution_count": 43,
     "metadata": {},
     "output_type": "execute_result"
    }
   ],
   "source": [
    "model.aic() #AIC却低于auto_arima的结果，所以AIC并不能作为唯一标准的评估指标"
   ]
  },
  {
   "cell_type": "markdown",
   "id": "5656457f",
   "metadata": {},
   "source": [
    "> **滚动交叉验证（RollingForecastCV）**"
   ]
  },
  {
   "cell_type": "markdown",
   "id": "cf7c725c",
   "metadata": {},
   "source": [
    "> cv = KFold(n_splits=5,shuffle=True,random_state=1412)<br>\n",
    "> results = cross_validate(reg,Xtrain,Ytrain,cv=cv)"
   ]
  },
  {
   "cell_type": "markdown",
   "id": "2a779249",
   "metadata": {},
   "source": [
    "![](https://robjhyndman.com/files/cv1-1.png)"
   ]
  },
  {
   "cell_type": "markdown",
   "id": "d510b024",
   "metadata": {},
   "source": [
    "*class*`pmdarima.model_selection.RollingForecastCV(h=1, step=1, initial=None)`\n",
    "> **h**：验证集中的样本数量，可以输入[1, n_samples]的整数。<br><br>\n",
    "> **step**：训练集中每次增加的样本数量，必须为大于等于1的正整数。<br><br>\n",
    "> **initial**：第一次交叉验证时的训练集样本量，如果不填写则按1/3处理。"
   ]
  },
  {
   "cell_type": "code",
   "execution_count": 44,
   "id": "070b00c6",
   "metadata": {},
   "outputs": [],
   "source": [
    "#使用pm自带的数据集进行尝试\n",
    "data = pm.datasets.load_wineind()\n",
    "cv = model_selection.RollingForecastCV(h=1, step=1, initial = 10)\n",
    "cv_generator = cv.split(data)"
   ]
  },
  {
   "cell_type": "code",
   "execution_count": 45,
   "id": "0f119f64",
   "metadata": {},
   "outputs": [
    {
     "data": {
      "text/plain": [
       "(176,)"
      ]
     },
     "execution_count": 45,
     "metadata": {},
     "output_type": "execute_result"
    }
   ],
   "source": [
    "data.shape"
   ]
  },
  {
   "cell_type": "code",
   "execution_count": 46,
   "id": "d4a0e0de",
   "metadata": {},
   "outputs": [
    {
     "data": {
      "text/plain": [
       "(array([0, 1, 2, 3, 4, 5, 6, 7, 8, 9]), array([10]))"
      ]
     },
     "execution_count": 46,
     "metadata": {},
     "output_type": "execute_result"
    }
   ],
   "source": [
    "next(cv_generator) #根据Initial初始训练集有10个样本，验证集遵循参数h的设置，只包含一个样本"
   ]
  },
  {
   "cell_type": "code",
   "execution_count": 47,
   "id": "5965da63",
   "metadata": {},
   "outputs": [
    {
     "data": {
      "text/plain": [
       "(array([ 0,  1,  2,  3,  4,  5,  6,  7,  8,  9, 10]), array([11]))"
      ]
     },
     "execution_count": 47,
     "metadata": {},
     "output_type": "execute_result"
    }
   ],
   "source": [
    "next(cv_generator) #根据step的设置，训练集每次增加1个样本，验证集继续包含一个样本"
   ]
  },
  {
   "cell_type": "code",
   "execution_count": 49,
   "id": "b4c9d869",
   "metadata": {},
   "outputs": [],
   "source": [
    "cv = model_selection.RollingForecastCV(h=5, step=10, initial = 10)\n",
    "cv_generator = cv.split(data)"
   ]
  },
  {
   "cell_type": "code",
   "execution_count": 50,
   "id": "78650039",
   "metadata": {},
   "outputs": [
    {
     "data": {
      "text/plain": [
       "(array([0, 1, 2, 3, 4, 5, 6, 7, 8, 9]), array([10, 11, 12, 13, 14]))"
      ]
     },
     "execution_count": 50,
     "metadata": {},
     "output_type": "execute_result"
    }
   ],
   "source": [
    "next(cv_generator) #验证集包含10个样本"
   ]
  },
  {
   "cell_type": "code",
   "execution_count": 51,
   "id": "5d831612",
   "metadata": {},
   "outputs": [
    {
     "data": {
      "text/plain": [
       "(array([ 0,  1,  2,  3,  4,  5,  6,  7,  8,  9, 10, 11, 12, 13, 14, 15, 16,\n",
       "        17, 18, 19]),\n",
       " array([20, 21, 22, 23, 24]))"
      ]
     },
     "execution_count": 51,
     "metadata": {},
     "output_type": "execute_result"
    }
   ],
   "source": [
    "next(cv_generator) #训练集增加了5个样本，而测试集则从训练集的最后一个样本编号开始取10个样本"
   ]
  },
  {
   "cell_type": "code",
   "execution_count": 50,
   "id": "1e27ddf1",
   "metadata": {},
   "outputs": [],
   "source": [
    "#沿用之前的数据和模型\n",
    "model = pm.ARIMA(order=(2,1,1),seasonal_order=(1,0,1,12),max_iter=500)"
   ]
  },
  {
   "cell_type": "code",
   "execution_count": 51,
   "id": "3defa8d9",
   "metadata": {},
   "outputs": [
    {
     "name": "stdout",
     "output_type": "stream",
     "text": [
      "[CV] fold=0 ..........................................................\n",
      "[CV] fold=1 ..........................................................\n",
      "[CV] fold=2 ..........................................................\n",
      "[CV] fold=3 ..........................................................\n",
      "[CV] fold=4 ..........................................................\n",
      "[CV] fold=5 ..........................................................\n",
      "[CV] fold=6 ..........................................................\n",
      "[CV] fold=7 ..........................................................\n",
      "[CV] fold=8 ..........................................................\n",
      "[CV] fold=9 ..........................................................\n"
     ]
    }
   ],
   "source": [
    "cv = model_selection.RollingForecastCV(h=24, step=12, initial=36) #简单粗暴\n",
    "predictions = model_selection.cross_validate(model, data, cv=cv\n",
    "                                             , scoring = \"mean_squared_error\"\n",
    "                                             , verbose = 2\n",
    "                                             , error_score = \"raise\")"
   ]
  },
  {
   "cell_type": "code",
   "execution_count": 52,
   "id": "891f7df5",
   "metadata": {},
   "outputs": [
    {
     "data": {
      "text/plain": [
       "{'test_score': array([1.35362829e+08, 1.08110482e+08, 2.18350836e+07, 1.93216319e+07,\n",
       "        9.06745175e+07, 1.42626956e+07, 1.32016435e+07, 1.31176511e+07,\n",
       "        3.57008819e+07, 5.07654646e+06]),\n",
       " 'fit_time': array([0.11542749, 0.05658126, 0.24898481, 0.2451055 , 0.25712872,\n",
       "        0.27400494, 0.29775929, 0.3317287 , 0.32977796, 0.37073326]),\n",
       " 'score_time': array([0.00299215, 0.00299311, 0.00299191, 0.00398993, 0.00298977,\n",
       "        0.00299382, 0.00299215, 0.00299191, 0.00299191, 0.00299215])}"
      ]
     },
     "execution_count": 52,
     "metadata": {},
     "output_type": "execute_result"
    }
   ],
   "source": [
    "predictions #此时返回的分数是MSE"
   ]
  },
  {
   "cell_type": "code",
   "execution_count": 53,
   "id": "6c14923b",
   "metadata": {},
   "outputs": [
    {
     "data": {
      "text/plain": [
       "array([11634.55323759, 10397.61907038,  4672.80254671,  4395.63782179,\n",
       "        9522.31681336,  3776.59841541,  3633.40659805,  3621.82980393,\n",
       "        5975.02149785,  2253.11927405])"
      ]
     },
     "execution_count": 53,
     "metadata": {},
     "output_type": "execute_result"
    }
   ],
   "source": [
    "np.sqrt(predictions[\"test_score\"])"
   ]
  },
  {
   "cell_type": "markdown",
   "id": "5e1d47f1",
   "metadata": {},
   "source": [
    "- 滑窗交叉验证（SildingWindowForecastCV）"
   ]
  },
  {
   "cell_type": "markdown",
   "id": "56e3915f",
   "metadata": {},
   "source": [
    "\n",
    "\n",
    "![](https://miro.medium.com/max/1400/1*HN084lMD15SWjH6epVeSAg.gif)"
   ]
  },
  {
   "cell_type": "markdown",
   "id": "6905d812",
   "metadata": {},
   "source": [
    "*class*`pmdarima.model_selection.SlidingWindowForecastCV(h=1, step=1, window_size=None)`\n",
    "> **h**：验证集中的样本数量，可以输入[1, n_samples]的整数。<br><br>\n",
    "> **step**：每次向未来滑窗的样本数量，必须为大于等于1的正整数。<br><br>\n",
    "> **window_size**：滑窗的尺寸大小，如果填写None则按照样本量整除5得到的数来决定。"
   ]
  },
  {
   "cell_type": "code",
   "execution_count": 83,
   "id": "9ff62056",
   "metadata": {},
   "outputs": [],
   "source": [
    "#使用pm自带的数据集进行尝试\n",
    "cv = model_selection.SlidingWindowForecastCV(h=1, step=1, window_size = 10)\n",
    "cv_generator = cv.split(data)"
   ]
  },
  {
   "cell_type": "code",
   "execution_count": 84,
   "id": "1673405b",
   "metadata": {},
   "outputs": [
    {
     "data": {
      "text/plain": [
       "(array([0, 1, 2, 3, 4, 5, 6, 7, 8, 9]), array([10]))"
      ]
     },
     "execution_count": 84,
     "metadata": {},
     "output_type": "execute_result"
    }
   ],
   "source": [
    "next(cv_generator) #首次进行交叉验证时的数据分割状况"
   ]
  },
  {
   "cell_type": "code",
   "execution_count": 85,
   "id": "3f4f3a70",
   "metadata": {},
   "outputs": [
    {
     "data": {
      "text/plain": [
       "(array([ 1,  2,  3,  4,  5,  6,  7,  8,  9, 10]), array([11]))"
      ]
     },
     "execution_count": 85,
     "metadata": {},
     "output_type": "execute_result"
    }
   ],
   "source": [
    "next(cv_generator) #第二次交叉验证时的数据分割状况"
   ]
  },
  {
   "cell_type": "code",
   "execution_count": 90,
   "id": "110006a6",
   "metadata": {},
   "outputs": [],
   "source": [
    "cv = model_selection.SlidingWindowForecastCV(h=5, step=10, window_size = 10)\n",
    "cv_generator = cv.split(data)"
   ]
  },
  {
   "cell_type": "code",
   "execution_count": 91,
   "id": "c26dc98b",
   "metadata": {},
   "outputs": [
    {
     "data": {
      "text/plain": [
       "(array([0, 1, 2, 3, 4, 5, 6, 7, 8, 9]), array([10, 11, 12, 13, 14]))"
      ]
     },
     "execution_count": 91,
     "metadata": {},
     "output_type": "execute_result"
    }
   ],
   "source": [
    "next(cv_generator)"
   ]
  },
  {
   "cell_type": "code",
   "execution_count": 92,
   "id": "7d82bceb",
   "metadata": {},
   "outputs": [
    {
     "data": {
      "text/plain": [
       "(array([10, 11, 12, 13, 14, 15, 16, 17, 18, 19]), array([20, 21, 22, 23, 24]))"
      ]
     },
     "execution_count": 92,
     "metadata": {},
     "output_type": "execute_result"
    }
   ],
   "source": [
    "next(cv_generator)"
   ]
  },
  {
   "cell_type": "code",
   "execution_count": 61,
   "id": "3347d106",
   "metadata": {},
   "outputs": [],
   "source": [
    "#沿用之前的数据和模型\n",
    "model = pm.ARIMA(order=(2,1,1),seasonal_order=(1,0,1,12),max_iter=500)"
   ]
  },
  {
   "cell_type": "code",
   "execution_count": 65,
   "id": "a4d384b4-304d-4b09-a151-8d703aedf594",
   "metadata": {},
   "outputs": [
    {
     "data": {
      "text/plain": [
       "176"
      ]
     },
     "execution_count": 65,
     "metadata": {},
     "output_type": "execute_result"
    }
   ],
   "source": [
    "len(data)"
   ]
  },
  {
   "cell_type": "code",
   "execution_count": 77,
   "id": "91ca51f0",
   "metadata": {},
   "outputs": [
    {
     "name": "stdout",
     "output_type": "stream",
     "text": [
      "[CV] fold=0 ..........................................................\n",
      "[CV] fold=1 ..........................................................\n",
      "[CV] fold=2 ..........................................................\n",
      "[CV] fold=3 ..........................................................\n",
      "[CV] fold=4 ..........................................................\n",
      "[CV] fold=5 ..........................................................\n",
      "[CV] fold=6 ..........................................................\n",
      "[CV] fold=7 ..........................................................\n",
      "[CV] fold=8 ..........................................................\n",
      "[CV] fold=9 ..........................................................\n"
     ]
    }
   ],
   "source": [
    "cv = model_selection.SlidingWindowForecastCV(h=24, step=12, window_size=36) #简单粗暴\n",
    "predictions = model_selection.cross_validate(model, data, cv=cv\n",
    "                                             , scoring = \"mean_squared_error\"\n",
    "                                             , verbose = 2\n",
    "                                             , error_score = \"raise\")"
   ]
  },
  {
   "cell_type": "code",
   "execution_count": 78,
   "id": "8397772b",
   "metadata": {},
   "outputs": [
    {
     "data": {
      "text/plain": [
       "{'test_score': array([1.35362847e+08, 1.20867167e+08, 1.48347243e+08, 2.49879706e+08,\n",
       "        2.32217899e+08, 4.01511152e+08, 1.92061264e+08, 2.51755311e+08,\n",
       "        1.50798724e+08, 1.92747682e+08]),\n",
       " 'fit_time': array([0.15061998, 0.09329152, 0.09452987, 0.0640142 , 0.06852245,\n",
       "        0.08252764, 0.11053348, 0.1960628 , 0.08552909, 0.13313174]),\n",
       " 'score_time': array([0.00500083, 0.00400162, 0.00400114, 0.00300074, 0.00300026,\n",
       "        0.0030005 , 0.0030005 , 0.0040009 , 0.00300097, 0.00400114])}"
      ]
     },
     "execution_count": 78,
     "metadata": {},
     "output_type": "execute_result"
    }
   ],
   "source": [
    "predictions #此时返回的分数是MSE"
   ]
  },
  {
   "cell_type": "code",
   "execution_count": 79,
   "id": "a12015b2",
   "metadata": {},
   "outputs": [
    {
     "data": {
      "text/plain": [
       "array([11634.55400113, 10993.96047191, 12179.78831408, 15807.58382521,\n",
       "       15238.69740534, 20037.7431982 , 13858.61697326, 15866.79900091,\n",
       "       12280.01317219, 13883.35991075])"
      ]
     },
     "execution_count": 79,
     "metadata": {},
     "output_type": "execute_result"
    }
   ],
   "source": [
    "np.sqrt(predictions[\"test_score\"])"
   ]
  },
  {
   "cell_type": "code",
   "execution_count": 101,
   "id": "0646769a",
   "metadata": {},
   "outputs": [
    {
     "name": "stdout",
     "output_type": "stream",
     "text": [
      "[CV] fold=0 ..........................................................\n",
      "[CV] fold=1 ..........................................................\n",
      "[CV] fold=2 ..........................................................\n",
      "[CV] fold=3 ..........................................................\n",
      "[CV] fold=4 ..........................................................\n",
      "[CV] fold=5 ..........................................................\n",
      "[CV] fold=6 ..........................................................\n",
      "[CV] fold=7 ..........................................................\n",
      "[CV] fold=8 ..........................................................\n",
      "[CV] fold=9 ..........................................................\n",
      "[CV] fold=10 .........................................................\n",
      "[CV] fold=11 .........................................................\n",
      "[CV] fold=12 .........................................................\n",
      "[CV] fold=13 .........................................................\n",
      "[CV] fold=14 .........................................................\n",
      "[CV] fold=15 .........................................................\n",
      "[CV] fold=16 .........................................................\n",
      "[CV] fold=17 .........................................................\n",
      "[CV] fold=18 .........................................................\n",
      "[CV] fold=19 .........................................................\n",
      "[CV] fold=20 .........................................................\n"
     ]
    }
   ],
   "source": [
    "cv = model_selection.SlidingWindowForecastCV(h=24, step=1, window_size=132)\n",
    "predictions = model_selection.cross_validate(model, data, cv=cv\n",
    "                                             , scoring = \"mean_squared_error\"\n",
    "                                             , verbose = 2\n",
    "                                             , error_score = \"raise\")"
   ]
  },
  {
   "cell_type": "code",
   "execution_count": 102,
   "id": "c2933435",
   "metadata": {},
   "outputs": [
    {
     "data": {
      "text/plain": [
       "array([5975.54363899, 8134.88326278, 6374.21838162, 8864.35458939,\n",
       "       4864.82173893, 4506.74512298, 1685.79303951, 2117.69191857,\n",
       "       4350.35942616, 1797.75428519, 7480.31170696, 2401.96193296,\n",
       "       3493.53477981, 9042.33743958, 9282.56918209, 2075.69121351,\n",
       "       2114.72656858, 8974.65265242, 9769.55599603, 2087.17546223,\n",
       "       6427.50477832])"
      ]
     },
     "execution_count": 102,
     "metadata": {},
     "output_type": "execute_result"
    }
   ],
   "source": [
    "np.sqrt(predictions[\"test_score\"])"
   ]
  },
  {
   "cell_type": "code",
   "execution_count": 108,
   "id": "20511570",
   "metadata": {},
   "outputs": [],
   "source": [
    "#借用pmdarima的单变量数据做实例\n",
    "from pmdarima.datasets import load_wineind\n",
    "data1 = pd.DataFrame(load_wineind())"
   ]
  },
  {
   "cell_type": "code",
   "execution_count": 109,
   "id": "6211be3e",
   "metadata": {},
   "outputs": [
    {
     "data": {
      "text/html": [
       "<div>\n",
       "<style scoped>\n",
       "    .dataframe tbody tr th:only-of-type {\n",
       "        vertical-align: middle;\n",
       "    }\n",
       "\n",
       "    .dataframe tbody tr th {\n",
       "        vertical-align: top;\n",
       "    }\n",
       "\n",
       "    .dataframe thead th {\n",
       "        text-align: right;\n",
       "    }\n",
       "</style>\n",
       "<table border=\"1\" class=\"dataframe\">\n",
       "  <thead>\n",
       "    <tr style=\"text-align: right;\">\n",
       "      <th></th>\n",
       "      <th>0</th>\n",
       "    </tr>\n",
       "  </thead>\n",
       "  <tbody>\n",
       "    <tr>\n",
       "      <th>0</th>\n",
       "      <td>15136.0</td>\n",
       "    </tr>\n",
       "    <tr>\n",
       "      <th>1</th>\n",
       "      <td>16733.0</td>\n",
       "    </tr>\n",
       "    <tr>\n",
       "      <th>2</th>\n",
       "      <td>20016.0</td>\n",
       "    </tr>\n",
       "    <tr>\n",
       "      <th>3</th>\n",
       "      <td>17708.0</td>\n",
       "    </tr>\n",
       "    <tr>\n",
       "      <th>4</th>\n",
       "      <td>18019.0</td>\n",
       "    </tr>\n",
       "    <tr>\n",
       "      <th>...</th>\n",
       "      <td>...</td>\n",
       "    </tr>\n",
       "    <tr>\n",
       "      <th>171</th>\n",
       "      <td>26323.0</td>\n",
       "    </tr>\n",
       "    <tr>\n",
       "      <th>172</th>\n",
       "      <td>23779.0</td>\n",
       "    </tr>\n",
       "    <tr>\n",
       "      <th>173</th>\n",
       "      <td>27549.0</td>\n",
       "    </tr>\n",
       "    <tr>\n",
       "      <th>174</th>\n",
       "      <td>29660.0</td>\n",
       "    </tr>\n",
       "    <tr>\n",
       "      <th>175</th>\n",
       "      <td>23356.0</td>\n",
       "    </tr>\n",
       "  </tbody>\n",
       "</table>\n",
       "<p>176 rows × 1 columns</p>\n",
       "</div>"
      ],
      "text/plain": [
       "           0\n",
       "0    15136.0\n",
       "1    16733.0\n",
       "2    20016.0\n",
       "3    17708.0\n",
       "4    18019.0\n",
       "..       ...\n",
       "171  26323.0\n",
       "172  23779.0\n",
       "173  27549.0\n",
       "174  29660.0\n",
       "175  23356.0\n",
       "\n",
       "[176 rows x 1 columns]"
      ]
     },
     "execution_count": 109,
     "metadata": {},
     "output_type": "execute_result"
    }
   ],
   "source": [
    "data1 #最典型的单变量数据"
   ]
  },
  {
   "cell_type": "code",
   "execution_count": 68,
   "id": "5a8424f3",
   "metadata": {},
   "outputs": [
    {
     "data": {
      "text/html": [
       "<div>\n",
       "<style scoped>\n",
       "    .dataframe tbody tr th:only-of-type {\n",
       "        vertical-align: middle;\n",
       "    }\n",
       "\n",
       "    .dataframe tbody tr th {\n",
       "        vertical-align: top;\n",
       "    }\n",
       "\n",
       "    .dataframe thead th {\n",
       "        text-align: right;\n",
       "    }\n",
       "</style>\n",
       "<table border=\"1\" class=\"dataframe\">\n",
       "  <thead>\n",
       "    <tr style=\"text-align: right;\">\n",
       "      <th></th>\n",
       "      <th>0</th>\n",
       "    </tr>\n",
       "  </thead>\n",
       "  <tbody>\n",
       "    <tr>\n",
       "      <th>0</th>\n",
       "      <td>NaN</td>\n",
       "    </tr>\n",
       "    <tr>\n",
       "      <th>1</th>\n",
       "      <td>15136.0</td>\n",
       "    </tr>\n",
       "    <tr>\n",
       "      <th>2</th>\n",
       "      <td>16733.0</td>\n",
       "    </tr>\n",
       "    <tr>\n",
       "      <th>3</th>\n",
       "      <td>20016.0</td>\n",
       "    </tr>\n",
       "    <tr>\n",
       "      <th>4</th>\n",
       "      <td>17708.0</td>\n",
       "    </tr>\n",
       "    <tr>\n",
       "      <th>...</th>\n",
       "      <td>...</td>\n",
       "    </tr>\n",
       "    <tr>\n",
       "      <th>171</th>\n",
       "      <td>23565.0</td>\n",
       "    </tr>\n",
       "    <tr>\n",
       "      <th>172</th>\n",
       "      <td>26323.0</td>\n",
       "    </tr>\n",
       "    <tr>\n",
       "      <th>173</th>\n",
       "      <td>23779.0</td>\n",
       "    </tr>\n",
       "    <tr>\n",
       "      <th>174</th>\n",
       "      <td>27549.0</td>\n",
       "    </tr>\n",
       "    <tr>\n",
       "      <th>175</th>\n",
       "      <td>29660.0</td>\n",
       "    </tr>\n",
       "  </tbody>\n",
       "</table>\n",
       "<p>176 rows × 1 columns</p>\n",
       "</div>"
      ],
      "text/plain": [
       "           0\n",
       "0        NaN\n",
       "1    15136.0\n",
       "2    16733.0\n",
       "3    20016.0\n",
       "4    17708.0\n",
       "..       ...\n",
       "171  23565.0\n",
       "172  26323.0\n",
       "173  23779.0\n",
       "174  27549.0\n",
       "175  29660.0\n",
       "\n",
       "[176 rows x 1 columns]"
      ]
     },
     "execution_count": 68,
     "metadata": {},
     "output_type": "execute_result"
    }
   ],
   "source": [
    "data.shift(1)"
   ]
  },
  {
   "cell_type": "code",
   "execution_count": 69,
   "id": "a2cc3112",
   "metadata": {},
   "outputs": [
    {
     "data": {
      "text/html": [
       "<div>\n",
       "<style scoped>\n",
       "    .dataframe tbody tr th:only-of-type {\n",
       "        vertical-align: middle;\n",
       "    }\n",
       "\n",
       "    .dataframe tbody tr th {\n",
       "        vertical-align: top;\n",
       "    }\n",
       "\n",
       "    .dataframe thead th {\n",
       "        text-align: right;\n",
       "    }\n",
       "</style>\n",
       "<table border=\"1\" class=\"dataframe\">\n",
       "  <thead>\n",
       "    <tr style=\"text-align: right;\">\n",
       "      <th></th>\n",
       "      <th>0</th>\n",
       "    </tr>\n",
       "  </thead>\n",
       "  <tbody>\n",
       "    <tr>\n",
       "      <th>0</th>\n",
       "      <td>NaN</td>\n",
       "    </tr>\n",
       "    <tr>\n",
       "      <th>1</th>\n",
       "      <td>NaN</td>\n",
       "    </tr>\n",
       "    <tr>\n",
       "      <th>2</th>\n",
       "      <td>15136.0</td>\n",
       "    </tr>\n",
       "    <tr>\n",
       "      <th>3</th>\n",
       "      <td>16733.0</td>\n",
       "    </tr>\n",
       "    <tr>\n",
       "      <th>4</th>\n",
       "      <td>20016.0</td>\n",
       "    </tr>\n",
       "    <tr>\n",
       "      <th>...</th>\n",
       "      <td>...</td>\n",
       "    </tr>\n",
       "    <tr>\n",
       "      <th>171</th>\n",
       "      <td>22784.0</td>\n",
       "    </tr>\n",
       "    <tr>\n",
       "      <th>172</th>\n",
       "      <td>23565.0</td>\n",
       "    </tr>\n",
       "    <tr>\n",
       "      <th>173</th>\n",
       "      <td>26323.0</td>\n",
       "    </tr>\n",
       "    <tr>\n",
       "      <th>174</th>\n",
       "      <td>23779.0</td>\n",
       "    </tr>\n",
       "    <tr>\n",
       "      <th>175</th>\n",
       "      <td>27549.0</td>\n",
       "    </tr>\n",
       "  </tbody>\n",
       "</table>\n",
       "<p>176 rows × 1 columns</p>\n",
       "</div>"
      ],
      "text/plain": [
       "           0\n",
       "0        NaN\n",
       "1        NaN\n",
       "2    15136.0\n",
       "3    16733.0\n",
       "4    20016.0\n",
       "..       ...\n",
       "171  22784.0\n",
       "172  23565.0\n",
       "173  26323.0\n",
       "174  23779.0\n",
       "175  27549.0\n",
       "\n",
       "[176 rows x 1 columns]"
      ]
     },
     "execution_count": 69,
     "metadata": {},
     "output_type": "execute_result"
    }
   ],
   "source": [
    "data.shift(2)"
   ]
  },
  {
   "cell_type": "code",
   "execution_count": 88,
   "id": "b2805085",
   "metadata": {},
   "outputs": [],
   "source": [
    "#构建索引为数字的、而非时间的空白特征矩阵\n",
    "#对单变量时间序列来说，只要去掉索引中的时间即可\n",
    "df = pd.DataFrame(index=range(data.shape[0]))\n",
    "#在该矩阵上进行拼接循环，p设置为12\n",
    "for i in range(12,0,-1):\n",
    "    df = pd.concat([df,data.shift(i)],axis=1,ignore_index=True)\n",
    "#将原始标签添加进矩阵\n",
    "df = pd.concat([df,pd.DataFrame(df.index),data],axis=1,ignore_index=True)"
   ]
  },
  {
   "cell_type": "code",
   "execution_count": 89,
   "id": "aa826e20",
   "metadata": {},
   "outputs": [
    {
     "data": {
      "text/html": [
       "<div>\n",
       "<style scoped>\n",
       "    .dataframe tbody tr th:only-of-type {\n",
       "        vertical-align: middle;\n",
       "    }\n",
       "\n",
       "    .dataframe tbody tr th {\n",
       "        vertical-align: top;\n",
       "    }\n",
       "\n",
       "    .dataframe thead th {\n",
       "        text-align: right;\n",
       "    }\n",
       "</style>\n",
       "<table border=\"1\" class=\"dataframe\">\n",
       "  <thead>\n",
       "    <tr style=\"text-align: right;\">\n",
       "      <th></th>\n",
       "      <th>0</th>\n",
       "      <th>1</th>\n",
       "      <th>2</th>\n",
       "      <th>3</th>\n",
       "      <th>4</th>\n",
       "      <th>5</th>\n",
       "      <th>6</th>\n",
       "      <th>7</th>\n",
       "      <th>8</th>\n",
       "      <th>9</th>\n",
       "      <th>10</th>\n",
       "      <th>11</th>\n",
       "      <th>12</th>\n",
       "      <th>13</th>\n",
       "    </tr>\n",
       "  </thead>\n",
       "  <tbody>\n",
       "    <tr>\n",
       "      <th>0</th>\n",
       "      <td>NaN</td>\n",
       "      <td>NaN</td>\n",
       "      <td>NaN</td>\n",
       "      <td>NaN</td>\n",
       "      <td>NaN</td>\n",
       "      <td>NaN</td>\n",
       "      <td>NaN</td>\n",
       "      <td>NaN</td>\n",
       "      <td>NaN</td>\n",
       "      <td>NaN</td>\n",
       "      <td>NaN</td>\n",
       "      <td>NaN</td>\n",
       "      <td>0</td>\n",
       "      <td>15136.0</td>\n",
       "    </tr>\n",
       "    <tr>\n",
       "      <th>1</th>\n",
       "      <td>NaN</td>\n",
       "      <td>NaN</td>\n",
       "      <td>NaN</td>\n",
       "      <td>NaN</td>\n",
       "      <td>NaN</td>\n",
       "      <td>NaN</td>\n",
       "      <td>NaN</td>\n",
       "      <td>NaN</td>\n",
       "      <td>NaN</td>\n",
       "      <td>NaN</td>\n",
       "      <td>NaN</td>\n",
       "      <td>15136.0</td>\n",
       "      <td>1</td>\n",
       "      <td>16733.0</td>\n",
       "    </tr>\n",
       "    <tr>\n",
       "      <th>2</th>\n",
       "      <td>NaN</td>\n",
       "      <td>NaN</td>\n",
       "      <td>NaN</td>\n",
       "      <td>NaN</td>\n",
       "      <td>NaN</td>\n",
       "      <td>NaN</td>\n",
       "      <td>NaN</td>\n",
       "      <td>NaN</td>\n",
       "      <td>NaN</td>\n",
       "      <td>NaN</td>\n",
       "      <td>15136.0</td>\n",
       "      <td>16733.0</td>\n",
       "      <td>2</td>\n",
       "      <td>20016.0</td>\n",
       "    </tr>\n",
       "    <tr>\n",
       "      <th>3</th>\n",
       "      <td>NaN</td>\n",
       "      <td>NaN</td>\n",
       "      <td>NaN</td>\n",
       "      <td>NaN</td>\n",
       "      <td>NaN</td>\n",
       "      <td>NaN</td>\n",
       "      <td>NaN</td>\n",
       "      <td>NaN</td>\n",
       "      <td>NaN</td>\n",
       "      <td>15136.0</td>\n",
       "      <td>16733.0</td>\n",
       "      <td>20016.0</td>\n",
       "      <td>3</td>\n",
       "      <td>17708.0</td>\n",
       "    </tr>\n",
       "    <tr>\n",
       "      <th>4</th>\n",
       "      <td>NaN</td>\n",
       "      <td>NaN</td>\n",
       "      <td>NaN</td>\n",
       "      <td>NaN</td>\n",
       "      <td>NaN</td>\n",
       "      <td>NaN</td>\n",
       "      <td>NaN</td>\n",
       "      <td>NaN</td>\n",
       "      <td>15136.0</td>\n",
       "      <td>16733.0</td>\n",
       "      <td>20016.0</td>\n",
       "      <td>17708.0</td>\n",
       "      <td>4</td>\n",
       "      <td>18019.0</td>\n",
       "    </tr>\n",
       "    <tr>\n",
       "      <th>...</th>\n",
       "      <td>...</td>\n",
       "      <td>...</td>\n",
       "      <td>...</td>\n",
       "      <td>...</td>\n",
       "      <td>...</td>\n",
       "      <td>...</td>\n",
       "      <td>...</td>\n",
       "      <td>...</td>\n",
       "      <td>...</td>\n",
       "      <td>...</td>\n",
       "      <td>...</td>\n",
       "      <td>...</td>\n",
       "      <td>...</td>\n",
       "      <td>...</td>\n",
       "    </tr>\n",
       "    <tr>\n",
       "      <th>171</th>\n",
       "      <td>26805.0</td>\n",
       "      <td>25236.0</td>\n",
       "      <td>24735.0</td>\n",
       "      <td>29356.0</td>\n",
       "      <td>31234.0</td>\n",
       "      <td>22724.0</td>\n",
       "      <td>28496.0</td>\n",
       "      <td>32857.0</td>\n",
       "      <td>37198.0</td>\n",
       "      <td>13652.0</td>\n",
       "      <td>22784.0</td>\n",
       "      <td>23565.0</td>\n",
       "      <td>171</td>\n",
       "      <td>26323.0</td>\n",
       "    </tr>\n",
       "    <tr>\n",
       "      <th>172</th>\n",
       "      <td>25236.0</td>\n",
       "      <td>24735.0</td>\n",
       "      <td>29356.0</td>\n",
       "      <td>31234.0</td>\n",
       "      <td>22724.0</td>\n",
       "      <td>28496.0</td>\n",
       "      <td>32857.0</td>\n",
       "      <td>37198.0</td>\n",
       "      <td>13652.0</td>\n",
       "      <td>22784.0</td>\n",
       "      <td>23565.0</td>\n",
       "      <td>26323.0</td>\n",
       "      <td>172</td>\n",
       "      <td>23779.0</td>\n",
       "    </tr>\n",
       "    <tr>\n",
       "      <th>173</th>\n",
       "      <td>24735.0</td>\n",
       "      <td>29356.0</td>\n",
       "      <td>31234.0</td>\n",
       "      <td>22724.0</td>\n",
       "      <td>28496.0</td>\n",
       "      <td>32857.0</td>\n",
       "      <td>37198.0</td>\n",
       "      <td>13652.0</td>\n",
       "      <td>22784.0</td>\n",
       "      <td>23565.0</td>\n",
       "      <td>26323.0</td>\n",
       "      <td>23779.0</td>\n",
       "      <td>173</td>\n",
       "      <td>27549.0</td>\n",
       "    </tr>\n",
       "    <tr>\n",
       "      <th>174</th>\n",
       "      <td>29356.0</td>\n",
       "      <td>31234.0</td>\n",
       "      <td>22724.0</td>\n",
       "      <td>28496.0</td>\n",
       "      <td>32857.0</td>\n",
       "      <td>37198.0</td>\n",
       "      <td>13652.0</td>\n",
       "      <td>22784.0</td>\n",
       "      <td>23565.0</td>\n",
       "      <td>26323.0</td>\n",
       "      <td>23779.0</td>\n",
       "      <td>27549.0</td>\n",
       "      <td>174</td>\n",
       "      <td>29660.0</td>\n",
       "    </tr>\n",
       "    <tr>\n",
       "      <th>175</th>\n",
       "      <td>31234.0</td>\n",
       "      <td>22724.0</td>\n",
       "      <td>28496.0</td>\n",
       "      <td>32857.0</td>\n",
       "      <td>37198.0</td>\n",
       "      <td>13652.0</td>\n",
       "      <td>22784.0</td>\n",
       "      <td>23565.0</td>\n",
       "      <td>26323.0</td>\n",
       "      <td>23779.0</td>\n",
       "      <td>27549.0</td>\n",
       "      <td>29660.0</td>\n",
       "      <td>175</td>\n",
       "      <td>23356.0</td>\n",
       "    </tr>\n",
       "  </tbody>\n",
       "</table>\n",
       "<p>176 rows × 14 columns</p>\n",
       "</div>"
      ],
      "text/plain": [
       "          0        1        2        3        4        5        6        7   \\\n",
       "0        NaN      NaN      NaN      NaN      NaN      NaN      NaN      NaN   \n",
       "1        NaN      NaN      NaN      NaN      NaN      NaN      NaN      NaN   \n",
       "2        NaN      NaN      NaN      NaN      NaN      NaN      NaN      NaN   \n",
       "3        NaN      NaN      NaN      NaN      NaN      NaN      NaN      NaN   \n",
       "4        NaN      NaN      NaN      NaN      NaN      NaN      NaN      NaN   \n",
       "..       ...      ...      ...      ...      ...      ...      ...      ...   \n",
       "171  26805.0  25236.0  24735.0  29356.0  31234.0  22724.0  28496.0  32857.0   \n",
       "172  25236.0  24735.0  29356.0  31234.0  22724.0  28496.0  32857.0  37198.0   \n",
       "173  24735.0  29356.0  31234.0  22724.0  28496.0  32857.0  37198.0  13652.0   \n",
       "174  29356.0  31234.0  22724.0  28496.0  32857.0  37198.0  13652.0  22784.0   \n",
       "175  31234.0  22724.0  28496.0  32857.0  37198.0  13652.0  22784.0  23565.0   \n",
       "\n",
       "          8        9        10       11   12       13  \n",
       "0        NaN      NaN      NaN      NaN    0  15136.0  \n",
       "1        NaN      NaN      NaN  15136.0    1  16733.0  \n",
       "2        NaN      NaN  15136.0  16733.0    2  20016.0  \n",
       "3        NaN  15136.0  16733.0  20016.0    3  17708.0  \n",
       "4    15136.0  16733.0  20016.0  17708.0    4  18019.0  \n",
       "..       ...      ...      ...      ...  ...      ...  \n",
       "171  37198.0  13652.0  22784.0  23565.0  171  26323.0  \n",
       "172  13652.0  22784.0  23565.0  26323.0  172  23779.0  \n",
       "173  22784.0  23565.0  26323.0  23779.0  173  27549.0  \n",
       "174  23565.0  26323.0  23779.0  27549.0  174  29660.0  \n",
       "175  26323.0  23779.0  27549.0  29660.0  175  23356.0  \n",
       "\n",
       "[176 rows x 14 columns]"
      ]
     },
     "execution_count": 89,
     "metadata": {},
     "output_type": "execute_result"
    }
   ],
   "source": [
    "df"
   ]
  },
  {
   "cell_type": "code",
   "execution_count": 90,
   "id": "9360c67c",
   "metadata": {},
   "outputs": [],
   "source": [
    "#删除带有缺失值的行\n",
    "df = df.dropna()"
   ]
  },
  {
   "cell_type": "code",
   "execution_count": 97,
   "id": "6133bf17",
   "metadata": {},
   "outputs": [],
   "source": [
    "#构建列名\n",
    "columns = []\n",
    "for i in [*range(12,0,-1),\"date\",\"target\"]:\n",
    "    if type(i) == int:\n",
    "        day = str(i)\n",
    "        columns.append(\"t-{}\".format(day))\n",
    "    else:\n",
    "        columns.append(i)"
   ]
  },
  {
   "cell_type": "code",
   "execution_count": 98,
   "id": "14f67c54",
   "metadata": {},
   "outputs": [
    {
     "data": {
      "text/plain": [
       "['t-12',\n",
       " 't-11',\n",
       " 't-10',\n",
       " 't-9',\n",
       " 't-8',\n",
       " 't-7',\n",
       " 't-6',\n",
       " 't-5',\n",
       " 't-4',\n",
       " 't-3',\n",
       " 't-2',\n",
       " 't-1',\n",
       " 'date',\n",
       " 'target']"
      ]
     },
     "execution_count": 98,
     "metadata": {},
     "output_type": "execute_result"
    }
   ],
   "source": [
    "columns"
   ]
  },
  {
   "cell_type": "code",
   "execution_count": 99,
   "id": "f144c369",
   "metadata": {},
   "outputs": [],
   "source": [
    "#添加列名、恢复索引\n",
    "df.columns = [*columns]\n",
    "df.index = range(df.shape[0])"
   ]
  },
  {
   "cell_type": "code",
   "execution_count": 101,
   "id": "cf07ae60",
   "metadata": {},
   "outputs": [
    {
     "data": {
      "text/html": [
       "<div>\n",
       "<style scoped>\n",
       "    .dataframe tbody tr th:only-of-type {\n",
       "        vertical-align: middle;\n",
       "    }\n",
       "\n",
       "    .dataframe tbody tr th {\n",
       "        vertical-align: top;\n",
       "    }\n",
       "\n",
       "    .dataframe thead th {\n",
       "        text-align: right;\n",
       "    }\n",
       "</style>\n",
       "<table border=\"1\" class=\"dataframe\">\n",
       "  <thead>\n",
       "    <tr style=\"text-align: right;\">\n",
       "      <th></th>\n",
       "      <th>t-12</th>\n",
       "      <th>t-11</th>\n",
       "      <th>t-10</th>\n",
       "      <th>t-9</th>\n",
       "      <th>t-8</th>\n",
       "      <th>t-7</th>\n",
       "      <th>t-6</th>\n",
       "      <th>t-5</th>\n",
       "      <th>t-4</th>\n",
       "      <th>t-3</th>\n",
       "      <th>t-2</th>\n",
       "      <th>t-1</th>\n",
       "      <th>date</th>\n",
       "      <th>target</th>\n",
       "    </tr>\n",
       "  </thead>\n",
       "  <tbody>\n",
       "    <tr>\n",
       "      <th>0</th>\n",
       "      <td>15136.0</td>\n",
       "      <td>16733.0</td>\n",
       "      <td>20016.0</td>\n",
       "      <td>17708.0</td>\n",
       "      <td>18019.0</td>\n",
       "      <td>19227.0</td>\n",
       "      <td>22893.0</td>\n",
       "      <td>23739.0</td>\n",
       "      <td>21133.0</td>\n",
       "      <td>22591.0</td>\n",
       "      <td>26786.0</td>\n",
       "      <td>29740.0</td>\n",
       "      <td>12</td>\n",
       "      <td>15028.0</td>\n",
       "    </tr>\n",
       "    <tr>\n",
       "      <th>1</th>\n",
       "      <td>16733.0</td>\n",
       "      <td>20016.0</td>\n",
       "      <td>17708.0</td>\n",
       "      <td>18019.0</td>\n",
       "      <td>19227.0</td>\n",
       "      <td>22893.0</td>\n",
       "      <td>23739.0</td>\n",
       "      <td>21133.0</td>\n",
       "      <td>22591.0</td>\n",
       "      <td>26786.0</td>\n",
       "      <td>29740.0</td>\n",
       "      <td>15028.0</td>\n",
       "      <td>13</td>\n",
       "      <td>17977.0</td>\n",
       "    </tr>\n",
       "    <tr>\n",
       "      <th>2</th>\n",
       "      <td>20016.0</td>\n",
       "      <td>17708.0</td>\n",
       "      <td>18019.0</td>\n",
       "      <td>19227.0</td>\n",
       "      <td>22893.0</td>\n",
       "      <td>23739.0</td>\n",
       "      <td>21133.0</td>\n",
       "      <td>22591.0</td>\n",
       "      <td>26786.0</td>\n",
       "      <td>29740.0</td>\n",
       "      <td>15028.0</td>\n",
       "      <td>17977.0</td>\n",
       "      <td>14</td>\n",
       "      <td>20008.0</td>\n",
       "    </tr>\n",
       "    <tr>\n",
       "      <th>3</th>\n",
       "      <td>17708.0</td>\n",
       "      <td>18019.0</td>\n",
       "      <td>19227.0</td>\n",
       "      <td>22893.0</td>\n",
       "      <td>23739.0</td>\n",
       "      <td>21133.0</td>\n",
       "      <td>22591.0</td>\n",
       "      <td>26786.0</td>\n",
       "      <td>29740.0</td>\n",
       "      <td>15028.0</td>\n",
       "      <td>17977.0</td>\n",
       "      <td>20008.0</td>\n",
       "      <td>15</td>\n",
       "      <td>21354.0</td>\n",
       "    </tr>\n",
       "    <tr>\n",
       "      <th>4</th>\n",
       "      <td>18019.0</td>\n",
       "      <td>19227.0</td>\n",
       "      <td>22893.0</td>\n",
       "      <td>23739.0</td>\n",
       "      <td>21133.0</td>\n",
       "      <td>22591.0</td>\n",
       "      <td>26786.0</td>\n",
       "      <td>29740.0</td>\n",
       "      <td>15028.0</td>\n",
       "      <td>17977.0</td>\n",
       "      <td>20008.0</td>\n",
       "      <td>21354.0</td>\n",
       "      <td>16</td>\n",
       "      <td>19498.0</td>\n",
       "    </tr>\n",
       "    <tr>\n",
       "      <th>...</th>\n",
       "      <td>...</td>\n",
       "      <td>...</td>\n",
       "      <td>...</td>\n",
       "      <td>...</td>\n",
       "      <td>...</td>\n",
       "      <td>...</td>\n",
       "      <td>...</td>\n",
       "      <td>...</td>\n",
       "      <td>...</td>\n",
       "      <td>...</td>\n",
       "      <td>...</td>\n",
       "      <td>...</td>\n",
       "      <td>...</td>\n",
       "      <td>...</td>\n",
       "    </tr>\n",
       "    <tr>\n",
       "      <th>159</th>\n",
       "      <td>26805.0</td>\n",
       "      <td>25236.0</td>\n",
       "      <td>24735.0</td>\n",
       "      <td>29356.0</td>\n",
       "      <td>31234.0</td>\n",
       "      <td>22724.0</td>\n",
       "      <td>28496.0</td>\n",
       "      <td>32857.0</td>\n",
       "      <td>37198.0</td>\n",
       "      <td>13652.0</td>\n",
       "      <td>22784.0</td>\n",
       "      <td>23565.0</td>\n",
       "      <td>171</td>\n",
       "      <td>26323.0</td>\n",
       "    </tr>\n",
       "    <tr>\n",
       "      <th>160</th>\n",
       "      <td>25236.0</td>\n",
       "      <td>24735.0</td>\n",
       "      <td>29356.0</td>\n",
       "      <td>31234.0</td>\n",
       "      <td>22724.0</td>\n",
       "      <td>28496.0</td>\n",
       "      <td>32857.0</td>\n",
       "      <td>37198.0</td>\n",
       "      <td>13652.0</td>\n",
       "      <td>22784.0</td>\n",
       "      <td>23565.0</td>\n",
       "      <td>26323.0</td>\n",
       "      <td>172</td>\n",
       "      <td>23779.0</td>\n",
       "    </tr>\n",
       "    <tr>\n",
       "      <th>161</th>\n",
       "      <td>24735.0</td>\n",
       "      <td>29356.0</td>\n",
       "      <td>31234.0</td>\n",
       "      <td>22724.0</td>\n",
       "      <td>28496.0</td>\n",
       "      <td>32857.0</td>\n",
       "      <td>37198.0</td>\n",
       "      <td>13652.0</td>\n",
       "      <td>22784.0</td>\n",
       "      <td>23565.0</td>\n",
       "      <td>26323.0</td>\n",
       "      <td>23779.0</td>\n",
       "      <td>173</td>\n",
       "      <td>27549.0</td>\n",
       "    </tr>\n",
       "    <tr>\n",
       "      <th>162</th>\n",
       "      <td>29356.0</td>\n",
       "      <td>31234.0</td>\n",
       "      <td>22724.0</td>\n",
       "      <td>28496.0</td>\n",
       "      <td>32857.0</td>\n",
       "      <td>37198.0</td>\n",
       "      <td>13652.0</td>\n",
       "      <td>22784.0</td>\n",
       "      <td>23565.0</td>\n",
       "      <td>26323.0</td>\n",
       "      <td>23779.0</td>\n",
       "      <td>27549.0</td>\n",
       "      <td>174</td>\n",
       "      <td>29660.0</td>\n",
       "    </tr>\n",
       "    <tr>\n",
       "      <th>163</th>\n",
       "      <td>31234.0</td>\n",
       "      <td>22724.0</td>\n",
       "      <td>28496.0</td>\n",
       "      <td>32857.0</td>\n",
       "      <td>37198.0</td>\n",
       "      <td>13652.0</td>\n",
       "      <td>22784.0</td>\n",
       "      <td>23565.0</td>\n",
       "      <td>26323.0</td>\n",
       "      <td>23779.0</td>\n",
       "      <td>27549.0</td>\n",
       "      <td>29660.0</td>\n",
       "      <td>175</td>\n",
       "      <td>23356.0</td>\n",
       "    </tr>\n",
       "  </tbody>\n",
       "</table>\n",
       "<p>164 rows × 14 columns</p>\n",
       "</div>"
      ],
      "text/plain": [
       "        t-12     t-11     t-10      t-9      t-8      t-7      t-6      t-5  \\\n",
       "0    15136.0  16733.0  20016.0  17708.0  18019.0  19227.0  22893.0  23739.0   \n",
       "1    16733.0  20016.0  17708.0  18019.0  19227.0  22893.0  23739.0  21133.0   \n",
       "2    20016.0  17708.0  18019.0  19227.0  22893.0  23739.0  21133.0  22591.0   \n",
       "3    17708.0  18019.0  19227.0  22893.0  23739.0  21133.0  22591.0  26786.0   \n",
       "4    18019.0  19227.0  22893.0  23739.0  21133.0  22591.0  26786.0  29740.0   \n",
       "..       ...      ...      ...      ...      ...      ...      ...      ...   \n",
       "159  26805.0  25236.0  24735.0  29356.0  31234.0  22724.0  28496.0  32857.0   \n",
       "160  25236.0  24735.0  29356.0  31234.0  22724.0  28496.0  32857.0  37198.0   \n",
       "161  24735.0  29356.0  31234.0  22724.0  28496.0  32857.0  37198.0  13652.0   \n",
       "162  29356.0  31234.0  22724.0  28496.0  32857.0  37198.0  13652.0  22784.0   \n",
       "163  31234.0  22724.0  28496.0  32857.0  37198.0  13652.0  22784.0  23565.0   \n",
       "\n",
       "         t-4      t-3      t-2      t-1  date   target  \n",
       "0    21133.0  22591.0  26786.0  29740.0    12  15028.0  \n",
       "1    22591.0  26786.0  29740.0  15028.0    13  17977.0  \n",
       "2    26786.0  29740.0  15028.0  17977.0    14  20008.0  \n",
       "3    29740.0  15028.0  17977.0  20008.0    15  21354.0  \n",
       "4    15028.0  17977.0  20008.0  21354.0    16  19498.0  \n",
       "..       ...      ...      ...      ...   ...      ...  \n",
       "159  37198.0  13652.0  22784.0  23565.0   171  26323.0  \n",
       "160  13652.0  22784.0  23565.0  26323.0   172  23779.0  \n",
       "161  22784.0  23565.0  26323.0  23779.0   173  27549.0  \n",
       "162  23565.0  26323.0  23779.0  27549.0   174  29660.0  \n",
       "163  26323.0  23779.0  27549.0  29660.0   175  23356.0  \n",
       "\n",
       "[164 rows x 14 columns]"
      ]
     },
     "execution_count": 101,
     "metadata": {},
     "output_type": "execute_result"
    }
   ],
   "source": [
    "df #构建完毕，以历史12天的数据（12天的滑窗）构建出单变量的特征矩阵"
   ]
  },
  {
   "cell_type": "code",
   "execution_count": 112,
   "id": "9721d0e5",
   "metadata": {},
   "outputs": [
    {
     "data": {
      "text/html": [
       "<div>\n",
       "<style scoped>\n",
       "    .dataframe tbody tr th:only-of-type {\n",
       "        vertical-align: middle;\n",
       "    }\n",
       "\n",
       "    .dataframe tbody tr th {\n",
       "        vertical-align: top;\n",
       "    }\n",
       "\n",
       "    .dataframe thead th {\n",
       "        text-align: right;\n",
       "    }\n",
       "</style>\n",
       "<table border=\"1\" class=\"dataframe\">\n",
       "  <thead>\n",
       "    <tr style=\"text-align: right;\">\n",
       "      <th></th>\n",
       "      <th>Date</th>\n",
       "      <th>Open</th>\n",
       "      <th>High</th>\n",
       "      <th>Low</th>\n",
       "      <th>Close</th>\n",
       "      <th>Volume</th>\n",
       "      <th>OpenInt</th>\n",
       "    </tr>\n",
       "  </thead>\n",
       "  <tbody>\n",
       "    <tr>\n",
       "      <th>0</th>\n",
       "      <td>1986-03-13</td>\n",
       "      <td>0.06720</td>\n",
       "      <td>0.07533</td>\n",
       "      <td>0.06720</td>\n",
       "      <td>0.07533</td>\n",
       "      <td>1371330506</td>\n",
       "      <td>0</td>\n",
       "    </tr>\n",
       "    <tr>\n",
       "      <th>1</th>\n",
       "      <td>1986-03-14</td>\n",
       "      <td>0.07533</td>\n",
       "      <td>0.07533</td>\n",
       "      <td>0.07533</td>\n",
       "      <td>0.07533</td>\n",
       "      <td>409569463</td>\n",
       "      <td>0</td>\n",
       "    </tr>\n",
       "    <tr>\n",
       "      <th>2</th>\n",
       "      <td>1986-03-17</td>\n",
       "      <td>0.07533</td>\n",
       "      <td>0.07533</td>\n",
       "      <td>0.07533</td>\n",
       "      <td>0.07533</td>\n",
       "      <td>176995245</td>\n",
       "      <td>0</td>\n",
       "    </tr>\n",
       "    <tr>\n",
       "      <th>3</th>\n",
       "      <td>1986-03-18</td>\n",
       "      <td>0.07533</td>\n",
       "      <td>0.07533</td>\n",
       "      <td>0.07533</td>\n",
       "      <td>0.07533</td>\n",
       "      <td>90067008</td>\n",
       "      <td>0</td>\n",
       "    </tr>\n",
       "    <tr>\n",
       "      <th>4</th>\n",
       "      <td>1986-03-19</td>\n",
       "      <td>0.07533</td>\n",
       "      <td>0.07533</td>\n",
       "      <td>0.07533</td>\n",
       "      <td>0.07533</td>\n",
       "      <td>63655515</td>\n",
       "      <td>0</td>\n",
       "    </tr>\n",
       "    <tr>\n",
       "      <th>...</th>\n",
       "      <td>...</td>\n",
       "      <td>...</td>\n",
       "      <td>...</td>\n",
       "      <td>...</td>\n",
       "      <td>...</td>\n",
       "      <td>...</td>\n",
       "      <td>...</td>\n",
       "    </tr>\n",
       "    <tr>\n",
       "      <th>7978</th>\n",
       "      <td>2017-11-06</td>\n",
       "      <td>84.20000</td>\n",
       "      <td>84.70000</td>\n",
       "      <td>84.08250</td>\n",
       "      <td>84.47000</td>\n",
       "      <td>19852151</td>\n",
       "      <td>0</td>\n",
       "    </tr>\n",
       "    <tr>\n",
       "      <th>7979</th>\n",
       "      <td>2017-11-07</td>\n",
       "      <td>84.77000</td>\n",
       "      <td>84.90000</td>\n",
       "      <td>83.93000</td>\n",
       "      <td>84.26000</td>\n",
       "      <td>17927878</td>\n",
       "      <td>0</td>\n",
       "    </tr>\n",
       "    <tr>\n",
       "      <th>7980</th>\n",
       "      <td>2017-11-08</td>\n",
       "      <td>84.14000</td>\n",
       "      <td>84.61000</td>\n",
       "      <td>83.83000</td>\n",
       "      <td>84.56000</td>\n",
       "      <td>18029584</td>\n",
       "      <td>0</td>\n",
       "    </tr>\n",
       "    <tr>\n",
       "      <th>7981</th>\n",
       "      <td>2017-11-09</td>\n",
       "      <td>84.11000</td>\n",
       "      <td>84.27000</td>\n",
       "      <td>82.90000</td>\n",
       "      <td>84.09000</td>\n",
       "      <td>21175384</td>\n",
       "      <td>0</td>\n",
       "    </tr>\n",
       "    <tr>\n",
       "      <th>7982</th>\n",
       "      <td>2017-11-10</td>\n",
       "      <td>83.79000</td>\n",
       "      <td>84.09500</td>\n",
       "      <td>83.23000</td>\n",
       "      <td>83.87000</td>\n",
       "      <td>19396301</td>\n",
       "      <td>0</td>\n",
       "    </tr>\n",
       "  </tbody>\n",
       "</table>\n",
       "<p>7983 rows × 7 columns</p>\n",
       "</div>"
      ],
      "text/plain": [
       "            Date      Open      High       Low     Close      Volume  OpenInt\n",
       "0     1986-03-13   0.06720   0.07533   0.06720   0.07533  1371330506        0\n",
       "1     1986-03-14   0.07533   0.07533   0.07533   0.07533   409569463        0\n",
       "2     1986-03-17   0.07533   0.07533   0.07533   0.07533   176995245        0\n",
       "3     1986-03-18   0.07533   0.07533   0.07533   0.07533    90067008        0\n",
       "4     1986-03-19   0.07533   0.07533   0.07533   0.07533    63655515        0\n",
       "...          ...       ...       ...       ...       ...         ...      ...\n",
       "7978  2017-11-06  84.20000  84.70000  84.08250  84.47000    19852151        0\n",
       "7979  2017-11-07  84.77000  84.90000  83.93000  84.26000    17927878        0\n",
       "7980  2017-11-08  84.14000  84.61000  83.83000  84.56000    18029584        0\n",
       "7981  2017-11-09  84.11000  84.27000  82.90000  84.09000    21175384        0\n",
       "7982  2017-11-10  83.79000  84.09500  83.23000  83.87000    19396301        0\n",
       "\n",
       "[7983 rows x 7 columns]"
      ]
     },
     "execution_count": 112,
     "metadata": {},
     "output_type": "execute_result"
    }
   ],
   "source": [
    "from pmdarima.datasets import load_msft\n",
    "data2 = load_msft()\n",
    "\n",
    "data2"
   ]
  },
  {
   "cell_type": "code",
   "execution_count": 119,
   "id": "d40372b5",
   "metadata": {},
   "outputs": [
    {
     "data": {
      "text/html": [
       "<div>\n",
       "<style scoped>\n",
       "    .dataframe tbody tr th:only-of-type {\n",
       "        vertical-align: middle;\n",
       "    }\n",
       "\n",
       "    .dataframe tbody tr th {\n",
       "        vertical-align: top;\n",
       "    }\n",
       "\n",
       "    .dataframe thead th {\n",
       "        text-align: right;\n",
       "    }\n",
       "</style>\n",
       "<table border=\"1\" class=\"dataframe\">\n",
       "  <thead>\n",
       "    <tr style=\"text-align: right;\">\n",
       "      <th></th>\n",
       "      <th>Open</th>\n",
       "      <th>High</th>\n",
       "      <th>Low</th>\n",
       "      <th>Volume</th>\n",
       "      <th>OpenInt</th>\n",
       "      <th>Date</th>\n",
       "      <th>Close</th>\n",
       "    </tr>\n",
       "  </thead>\n",
       "  <tbody>\n",
       "    <tr>\n",
       "      <th>0</th>\n",
       "      <td>0.06720</td>\n",
       "      <td>0.07533</td>\n",
       "      <td>0.06720</td>\n",
       "      <td>1371330506</td>\n",
       "      <td>0</td>\n",
       "      <td>1986-03-13</td>\n",
       "      <td>0.07533</td>\n",
       "    </tr>\n",
       "    <tr>\n",
       "      <th>1</th>\n",
       "      <td>0.07533</td>\n",
       "      <td>0.07533</td>\n",
       "      <td>0.07533</td>\n",
       "      <td>409569463</td>\n",
       "      <td>0</td>\n",
       "      <td>1986-03-14</td>\n",
       "      <td>0.07533</td>\n",
       "    </tr>\n",
       "    <tr>\n",
       "      <th>2</th>\n",
       "      <td>0.07533</td>\n",
       "      <td>0.07533</td>\n",
       "      <td>0.07533</td>\n",
       "      <td>176995245</td>\n",
       "      <td>0</td>\n",
       "      <td>1986-03-17</td>\n",
       "      <td>0.07533</td>\n",
       "    </tr>\n",
       "    <tr>\n",
       "      <th>3</th>\n",
       "      <td>0.07533</td>\n",
       "      <td>0.07533</td>\n",
       "      <td>0.07533</td>\n",
       "      <td>90067008</td>\n",
       "      <td>0</td>\n",
       "      <td>1986-03-18</td>\n",
       "      <td>0.07533</td>\n",
       "    </tr>\n",
       "    <tr>\n",
       "      <th>4</th>\n",
       "      <td>0.07533</td>\n",
       "      <td>0.07533</td>\n",
       "      <td>0.07533</td>\n",
       "      <td>63655515</td>\n",
       "      <td>0</td>\n",
       "      <td>1986-03-19</td>\n",
       "      <td>0.07533</td>\n",
       "    </tr>\n",
       "  </tbody>\n",
       "</table>\n",
       "</div>"
      ],
      "text/plain": [
       "      Open     High      Low      Volume  OpenInt        Date    Close\n",
       "0  0.06720  0.07533  0.06720  1371330506        0  1986-03-13  0.07533\n",
       "1  0.07533  0.07533  0.07533   409569463        0  1986-03-14  0.07533\n",
       "2  0.07533  0.07533  0.07533   176995245        0  1986-03-17  0.07533\n",
       "3  0.07533  0.07533  0.07533    90067008        0  1986-03-18  0.07533\n",
       "4  0.07533  0.07533  0.07533    63655515        0  1986-03-19  0.07533"
      ]
     },
     "execution_count": 119,
     "metadata": {},
     "output_type": "execute_result"
    }
   ],
   "source": [
    "data2.head() #标签是Close收盘价，因此我们可以先将Close至于最后一列，同时我们不需要时间"
   ]
  },
  {
   "cell_type": "code",
   "execution_count": 115,
   "id": "8b72907c",
   "metadata": {},
   "outputs": [
    {
     "data": {
      "text/plain": [
       "Index(['Date', 'Open', 'High', 'Low', 'Close', 'Volume', 'OpenInt'], dtype='object')"
      ]
     },
     "execution_count": 115,
     "metadata": {},
     "output_type": "execute_result"
    }
   ],
   "source": [
    "data2.columns"
   ]
  },
  {
   "cell_type": "code",
   "execution_count": 117,
   "id": "cd137164",
   "metadata": {},
   "outputs": [],
   "source": [
    "data2 = data2.reindex(columns = ['Open', 'High', 'Low','Volume', 'OpenInt',\"Date\",\"Close\"])"
   ]
  },
  {
   "cell_type": "code",
   "execution_count": 121,
   "id": "4f5bd1e6",
   "metadata": {},
   "outputs": [
    {
     "data": {
      "text/html": [
       "<div>\n",
       "<style scoped>\n",
       "    .dataframe tbody tr th:only-of-type {\n",
       "        vertical-align: middle;\n",
       "    }\n",
       "\n",
       "    .dataframe tbody tr th {\n",
       "        vertical-align: top;\n",
       "    }\n",
       "\n",
       "    .dataframe thead th {\n",
       "        text-align: right;\n",
       "    }\n",
       "</style>\n",
       "<table border=\"1\" class=\"dataframe\">\n",
       "  <thead>\n",
       "    <tr style=\"text-align: right;\">\n",
       "      <th></th>\n",
       "      <th>Open</th>\n",
       "      <th>High</th>\n",
       "      <th>Low</th>\n",
       "      <th>Volume</th>\n",
       "      <th>OpenInt</th>\n",
       "      <th>Date</th>\n",
       "      <th>Close</th>\n",
       "    </tr>\n",
       "  </thead>\n",
       "  <tbody>\n",
       "    <tr>\n",
       "      <th>0</th>\n",
       "      <td>0.06720</td>\n",
       "      <td>0.07533</td>\n",
       "      <td>0.06720</td>\n",
       "      <td>1371330506</td>\n",
       "      <td>0</td>\n",
       "      <td>1986-03-13</td>\n",
       "      <td>0.07533</td>\n",
       "    </tr>\n",
       "    <tr>\n",
       "      <th>1</th>\n",
       "      <td>0.07533</td>\n",
       "      <td>0.07533</td>\n",
       "      <td>0.07533</td>\n",
       "      <td>409569463</td>\n",
       "      <td>0</td>\n",
       "      <td>1986-03-14</td>\n",
       "      <td>0.07533</td>\n",
       "    </tr>\n",
       "    <tr>\n",
       "      <th>2</th>\n",
       "      <td>0.07533</td>\n",
       "      <td>0.07533</td>\n",
       "      <td>0.07533</td>\n",
       "      <td>176995245</td>\n",
       "      <td>0</td>\n",
       "      <td>1986-03-17</td>\n",
       "      <td>0.07533</td>\n",
       "    </tr>\n",
       "    <tr>\n",
       "      <th>3</th>\n",
       "      <td>0.07533</td>\n",
       "      <td>0.07533</td>\n",
       "      <td>0.07533</td>\n",
       "      <td>90067008</td>\n",
       "      <td>0</td>\n",
       "      <td>1986-03-18</td>\n",
       "      <td>0.07533</td>\n",
       "    </tr>\n",
       "    <tr>\n",
       "      <th>4</th>\n",
       "      <td>0.07533</td>\n",
       "      <td>0.07533</td>\n",
       "      <td>0.07533</td>\n",
       "      <td>63655515</td>\n",
       "      <td>0</td>\n",
       "      <td>1986-03-19</td>\n",
       "      <td>0.07533</td>\n",
       "    </tr>\n",
       "  </tbody>\n",
       "</table>\n",
       "</div>"
      ],
      "text/plain": [
       "      Open     High      Low      Volume  OpenInt        Date    Close\n",
       "0  0.06720  0.07533  0.06720  1371330506        0  1986-03-13  0.07533\n",
       "1  0.07533  0.07533  0.07533   409569463        0  1986-03-14  0.07533\n",
       "2  0.07533  0.07533  0.07533   176995245        0  1986-03-17  0.07533\n",
       "3  0.07533  0.07533  0.07533    90067008        0  1986-03-18  0.07533\n",
       "4  0.07533  0.07533  0.07533    63655515        0  1986-03-19  0.07533"
      ]
     },
     "execution_count": 121,
     "metadata": {},
     "output_type": "execute_result"
    }
   ],
   "source": [
    "data2.head() #用于构成特征矩阵的是Open到OpenInt这5列"
   ]
  },
  {
   "cell_type": "code",
   "execution_count": 126,
   "id": "787d8844",
   "metadata": {},
   "outputs": [
    {
     "data": {
      "text/plain": [
       "[7, 6, 5, 4, 3, 2, 1, 0]"
      ]
     },
     "execution_count": 126,
     "metadata": {},
     "output_type": "execute_result"
    }
   ],
   "source": [
    "[*range(7,-1,-1)] #今天 + 前7天，总共8天"
   ]
  },
  {
   "cell_type": "code",
   "execution_count": 123,
   "id": "4907137e",
   "metadata": {},
   "outputs": [],
   "source": [
    "#构建索引为数字的、而非时间的空白特征矩阵\n",
    "df = pd.DataFrame(index=range(data2.shape[0]))\n",
    "label = pd.DataFrame(index=range(data2.shape[0]))\n",
    "X = data2.iloc[:,:5]\n",
    "#在该矩阵上进行拼接循环，p设置为7\n",
    "for i in range(7,-1,-1):\n",
    "    df = pd.concat([df,X.shift(i)],axis=1,ignore_index=True)\n",
    "    label = pd.concat([label,data2.iloc[:,-1].shift(i)],axis=1,ignore_index=True)"
   ]
  },
  {
   "cell_type": "code",
   "execution_count": 128,
   "id": "beae0ee5",
   "metadata": {},
   "outputs": [
    {
     "data": {
      "text/html": [
       "<div>\n",
       "<style scoped>\n",
       "    .dataframe tbody tr th:only-of-type {\n",
       "        vertical-align: middle;\n",
       "    }\n",
       "\n",
       "    .dataframe tbody tr th {\n",
       "        vertical-align: top;\n",
       "    }\n",
       "\n",
       "    .dataframe thead th {\n",
       "        text-align: right;\n",
       "    }\n",
       "</style>\n",
       "<table border=\"1\" class=\"dataframe\">\n",
       "  <thead>\n",
       "    <tr style=\"text-align: right;\">\n",
       "      <th></th>\n",
       "      <th>0</th>\n",
       "      <th>1</th>\n",
       "      <th>2</th>\n",
       "      <th>3</th>\n",
       "      <th>4</th>\n",
       "      <th>5</th>\n",
       "      <th>6</th>\n",
       "      <th>7</th>\n",
       "      <th>8</th>\n",
       "      <th>9</th>\n",
       "      <th>...</th>\n",
       "      <th>30</th>\n",
       "      <th>31</th>\n",
       "      <th>32</th>\n",
       "      <th>33</th>\n",
       "      <th>34</th>\n",
       "      <th>35</th>\n",
       "      <th>36</th>\n",
       "      <th>37</th>\n",
       "      <th>38</th>\n",
       "      <th>39</th>\n",
       "    </tr>\n",
       "  </thead>\n",
       "  <tbody>\n",
       "    <tr>\n",
       "      <th>0</th>\n",
       "      <td>NaN</td>\n",
       "      <td>NaN</td>\n",
       "      <td>NaN</td>\n",
       "      <td>NaN</td>\n",
       "      <td>NaN</td>\n",
       "      <td>NaN</td>\n",
       "      <td>NaN</td>\n",
       "      <td>NaN</td>\n",
       "      <td>NaN</td>\n",
       "      <td>NaN</td>\n",
       "      <td>...</td>\n",
       "      <td>NaN</td>\n",
       "      <td>NaN</td>\n",
       "      <td>NaN</td>\n",
       "      <td>NaN</td>\n",
       "      <td>NaN</td>\n",
       "      <td>0.06720</td>\n",
       "      <td>0.07533</td>\n",
       "      <td>0.06720</td>\n",
       "      <td>1371330506</td>\n",
       "      <td>0</td>\n",
       "    </tr>\n",
       "    <tr>\n",
       "      <th>1</th>\n",
       "      <td>NaN</td>\n",
       "      <td>NaN</td>\n",
       "      <td>NaN</td>\n",
       "      <td>NaN</td>\n",
       "      <td>NaN</td>\n",
       "      <td>NaN</td>\n",
       "      <td>NaN</td>\n",
       "      <td>NaN</td>\n",
       "      <td>NaN</td>\n",
       "      <td>NaN</td>\n",
       "      <td>...</td>\n",
       "      <td>0.06720</td>\n",
       "      <td>0.07533</td>\n",
       "      <td>0.06720</td>\n",
       "      <td>1.371331e+09</td>\n",
       "      <td>0.0</td>\n",
       "      <td>0.07533</td>\n",
       "      <td>0.07533</td>\n",
       "      <td>0.07533</td>\n",
       "      <td>409569463</td>\n",
       "      <td>0</td>\n",
       "    </tr>\n",
       "    <tr>\n",
       "      <th>2</th>\n",
       "      <td>NaN</td>\n",
       "      <td>NaN</td>\n",
       "      <td>NaN</td>\n",
       "      <td>NaN</td>\n",
       "      <td>NaN</td>\n",
       "      <td>NaN</td>\n",
       "      <td>NaN</td>\n",
       "      <td>NaN</td>\n",
       "      <td>NaN</td>\n",
       "      <td>NaN</td>\n",
       "      <td>...</td>\n",
       "      <td>0.07533</td>\n",
       "      <td>0.07533</td>\n",
       "      <td>0.07533</td>\n",
       "      <td>4.095695e+08</td>\n",
       "      <td>0.0</td>\n",
       "      <td>0.07533</td>\n",
       "      <td>0.07533</td>\n",
       "      <td>0.07533</td>\n",
       "      <td>176995245</td>\n",
       "      <td>0</td>\n",
       "    </tr>\n",
       "    <tr>\n",
       "      <th>3</th>\n",
       "      <td>NaN</td>\n",
       "      <td>NaN</td>\n",
       "      <td>NaN</td>\n",
       "      <td>NaN</td>\n",
       "      <td>NaN</td>\n",
       "      <td>NaN</td>\n",
       "      <td>NaN</td>\n",
       "      <td>NaN</td>\n",
       "      <td>NaN</td>\n",
       "      <td>NaN</td>\n",
       "      <td>...</td>\n",
       "      <td>0.07533</td>\n",
       "      <td>0.07533</td>\n",
       "      <td>0.07533</td>\n",
       "      <td>1.769952e+08</td>\n",
       "      <td>0.0</td>\n",
       "      <td>0.07533</td>\n",
       "      <td>0.07533</td>\n",
       "      <td>0.07533</td>\n",
       "      <td>90067008</td>\n",
       "      <td>0</td>\n",
       "    </tr>\n",
       "    <tr>\n",
       "      <th>4</th>\n",
       "      <td>NaN</td>\n",
       "      <td>NaN</td>\n",
       "      <td>NaN</td>\n",
       "      <td>NaN</td>\n",
       "      <td>NaN</td>\n",
       "      <td>NaN</td>\n",
       "      <td>NaN</td>\n",
       "      <td>NaN</td>\n",
       "      <td>NaN</td>\n",
       "      <td>NaN</td>\n",
       "      <td>...</td>\n",
       "      <td>0.07533</td>\n",
       "      <td>0.07533</td>\n",
       "      <td>0.07533</td>\n",
       "      <td>9.006701e+07</td>\n",
       "      <td>0.0</td>\n",
       "      <td>0.07533</td>\n",
       "      <td>0.07533</td>\n",
       "      <td>0.07533</td>\n",
       "      <td>63655515</td>\n",
       "      <td>0</td>\n",
       "    </tr>\n",
       "    <tr>\n",
       "      <th>...</th>\n",
       "      <td>...</td>\n",
       "      <td>...</td>\n",
       "      <td>...</td>\n",
       "      <td>...</td>\n",
       "      <td>...</td>\n",
       "      <td>...</td>\n",
       "      <td>...</td>\n",
       "      <td>...</td>\n",
       "      <td>...</td>\n",
       "      <td>...</td>\n",
       "      <td>...</td>\n",
       "      <td>...</td>\n",
       "      <td>...</td>\n",
       "      <td>...</td>\n",
       "      <td>...</td>\n",
       "      <td>...</td>\n",
       "      <td>...</td>\n",
       "      <td>...</td>\n",
       "      <td>...</td>\n",
       "      <td>...</td>\n",
       "      <td>...</td>\n",
       "    </tr>\n",
       "    <tr>\n",
       "      <th>7978</th>\n",
       "      <td>79.20</td>\n",
       "      <td>79.420</td>\n",
       "      <td>78.750</td>\n",
       "      <td>31601122.0</td>\n",
       "      <td>0.0</td>\n",
       "      <td>84.37</td>\n",
       "      <td>86.200</td>\n",
       "      <td>83.610</td>\n",
       "      <td>71024821.0</td>\n",
       "      <td>0.0</td>\n",
       "      <td>...</td>\n",
       "      <td>84.08000</td>\n",
       "      <td>84.54000</td>\n",
       "      <td>83.40000</td>\n",
       "      <td>1.763354e+07</td>\n",
       "      <td>0.0</td>\n",
       "      <td>84.20000</td>\n",
       "      <td>84.70000</td>\n",
       "      <td>84.08250</td>\n",
       "      <td>19852151</td>\n",
       "      <td>0</td>\n",
       "    </tr>\n",
       "    <tr>\n",
       "      <th>7979</th>\n",
       "      <td>84.37</td>\n",
       "      <td>86.200</td>\n",
       "      <td>83.610</td>\n",
       "      <td>71024821.0</td>\n",
       "      <td>0.0</td>\n",
       "      <td>83.80</td>\n",
       "      <td>84.325</td>\n",
       "      <td>83.105</td>\n",
       "      <td>31756653.0</td>\n",
       "      <td>0.0</td>\n",
       "      <td>...</td>\n",
       "      <td>84.20000</td>\n",
       "      <td>84.70000</td>\n",
       "      <td>84.08250</td>\n",
       "      <td>1.985215e+07</td>\n",
       "      <td>0.0</td>\n",
       "      <td>84.77000</td>\n",
       "      <td>84.90000</td>\n",
       "      <td>83.93000</td>\n",
       "      <td>17927878</td>\n",
       "      <td>0</td>\n",
       "    </tr>\n",
       "    <tr>\n",
       "      <th>7980</th>\n",
       "      <td>83.80</td>\n",
       "      <td>84.325</td>\n",
       "      <td>83.105</td>\n",
       "      <td>31756653.0</td>\n",
       "      <td>0.0</td>\n",
       "      <td>84.36</td>\n",
       "      <td>84.360</td>\n",
       "      <td>83.110</td>\n",
       "      <td>27086575.0</td>\n",
       "      <td>0.0</td>\n",
       "      <td>...</td>\n",
       "      <td>84.77000</td>\n",
       "      <td>84.90000</td>\n",
       "      <td>83.93000</td>\n",
       "      <td>1.792788e+07</td>\n",
       "      <td>0.0</td>\n",
       "      <td>84.14000</td>\n",
       "      <td>84.61000</td>\n",
       "      <td>83.83000</td>\n",
       "      <td>18029584</td>\n",
       "      <td>0</td>\n",
       "    </tr>\n",
       "    <tr>\n",
       "      <th>7981</th>\n",
       "      <td>84.36</td>\n",
       "      <td>84.360</td>\n",
       "      <td>83.110</td>\n",
       "      <td>27086575.0</td>\n",
       "      <td>0.0</td>\n",
       "      <td>83.68</td>\n",
       "      <td>83.760</td>\n",
       "      <td>82.880</td>\n",
       "      <td>22307371.0</td>\n",
       "      <td>0.0</td>\n",
       "      <td>...</td>\n",
       "      <td>84.14000</td>\n",
       "      <td>84.61000</td>\n",
       "      <td>83.83000</td>\n",
       "      <td>1.802958e+07</td>\n",
       "      <td>0.0</td>\n",
       "      <td>84.11000</td>\n",
       "      <td>84.27000</td>\n",
       "      <td>82.90000</td>\n",
       "      <td>21175384</td>\n",
       "      <td>0</td>\n",
       "    </tr>\n",
       "    <tr>\n",
       "      <th>7982</th>\n",
       "      <td>83.68</td>\n",
       "      <td>83.760</td>\n",
       "      <td>82.880</td>\n",
       "      <td>22307371.0</td>\n",
       "      <td>0.0</td>\n",
       "      <td>83.35</td>\n",
       "      <td>84.460</td>\n",
       "      <td>83.120</td>\n",
       "      <td>23992945.0</td>\n",
       "      <td>0.0</td>\n",
       "      <td>...</td>\n",
       "      <td>84.11000</td>\n",
       "      <td>84.27000</td>\n",
       "      <td>82.90000</td>\n",
       "      <td>2.117538e+07</td>\n",
       "      <td>0.0</td>\n",
       "      <td>83.79000</td>\n",
       "      <td>84.09500</td>\n",
       "      <td>83.23000</td>\n",
       "      <td>19396301</td>\n",
       "      <td>0</td>\n",
       "    </tr>\n",
       "  </tbody>\n",
       "</table>\n",
       "<p>7983 rows × 40 columns</p>\n",
       "</div>"
      ],
      "text/plain": [
       "         0       1       2           3    4      5       6       7   \\\n",
       "0       NaN     NaN     NaN         NaN  NaN    NaN     NaN     NaN   \n",
       "1       NaN     NaN     NaN         NaN  NaN    NaN     NaN     NaN   \n",
       "2       NaN     NaN     NaN         NaN  NaN    NaN     NaN     NaN   \n",
       "3       NaN     NaN     NaN         NaN  NaN    NaN     NaN     NaN   \n",
       "4       NaN     NaN     NaN         NaN  NaN    NaN     NaN     NaN   \n",
       "...     ...     ...     ...         ...  ...    ...     ...     ...   \n",
       "7978  79.20  79.420  78.750  31601122.0  0.0  84.37  86.200  83.610   \n",
       "7979  84.37  86.200  83.610  71024821.0  0.0  83.80  84.325  83.105   \n",
       "7980  83.80  84.325  83.105  31756653.0  0.0  84.36  84.360  83.110   \n",
       "7981  84.36  84.360  83.110  27086575.0  0.0  83.68  83.760  82.880   \n",
       "7982  83.68  83.760  82.880  22307371.0  0.0  83.35  84.460  83.120   \n",
       "\n",
       "              8    9   ...        30        31        32            33   34  \\\n",
       "0            NaN  NaN  ...       NaN       NaN       NaN           NaN  NaN   \n",
       "1            NaN  NaN  ...   0.06720   0.07533   0.06720  1.371331e+09  0.0   \n",
       "2            NaN  NaN  ...   0.07533   0.07533   0.07533  4.095695e+08  0.0   \n",
       "3            NaN  NaN  ...   0.07533   0.07533   0.07533  1.769952e+08  0.0   \n",
       "4            NaN  NaN  ...   0.07533   0.07533   0.07533  9.006701e+07  0.0   \n",
       "...          ...  ...  ...       ...       ...       ...           ...  ...   \n",
       "7978  71024821.0  0.0  ...  84.08000  84.54000  83.40000  1.763354e+07  0.0   \n",
       "7979  31756653.0  0.0  ...  84.20000  84.70000  84.08250  1.985215e+07  0.0   \n",
       "7980  27086575.0  0.0  ...  84.77000  84.90000  83.93000  1.792788e+07  0.0   \n",
       "7981  22307371.0  0.0  ...  84.14000  84.61000  83.83000  1.802958e+07  0.0   \n",
       "7982  23992945.0  0.0  ...  84.11000  84.27000  82.90000  2.117538e+07  0.0   \n",
       "\n",
       "            35        36        37          38  39  \n",
       "0      0.06720   0.07533   0.06720  1371330506   0  \n",
       "1      0.07533   0.07533   0.07533   409569463   0  \n",
       "2      0.07533   0.07533   0.07533   176995245   0  \n",
       "3      0.07533   0.07533   0.07533    90067008   0  \n",
       "4      0.07533   0.07533   0.07533    63655515   0  \n",
       "...        ...       ...       ...         ...  ..  \n",
       "7978  84.20000  84.70000  84.08250    19852151   0  \n",
       "7979  84.77000  84.90000  83.93000    17927878   0  \n",
       "7980  84.14000  84.61000  83.83000    18029584   0  \n",
       "7981  84.11000  84.27000  82.90000    21175384   0  \n",
       "7982  83.79000  84.09500  83.23000    19396301   0  \n",
       "\n",
       "[7983 rows x 40 columns]"
      ]
     },
     "execution_count": 128,
     "metadata": {},
     "output_type": "execute_result"
    }
   ],
   "source": [
    "df"
   ]
  },
  {
   "cell_type": "code",
   "execution_count": 125,
   "id": "f95c3204",
   "metadata": {},
   "outputs": [
    {
     "data": {
      "text/plain": [
       "(7983, 40)"
      ]
     },
     "execution_count": 125,
     "metadata": {},
     "output_type": "execute_result"
    }
   ],
   "source": [
    "df.shape #一天5个特征，8天共40个特征"
   ]
  },
  {
   "cell_type": "code",
   "execution_count": 129,
   "id": "86cc5f88",
   "metadata": {},
   "outputs": [
    {
     "data": {
      "text/html": [
       "<div>\n",
       "<style scoped>\n",
       "    .dataframe tbody tr th:only-of-type {\n",
       "        vertical-align: middle;\n",
       "    }\n",
       "\n",
       "    .dataframe tbody tr th {\n",
       "        vertical-align: top;\n",
       "    }\n",
       "\n",
       "    .dataframe thead th {\n",
       "        text-align: right;\n",
       "    }\n",
       "</style>\n",
       "<table border=\"1\" class=\"dataframe\">\n",
       "  <thead>\n",
       "    <tr style=\"text-align: right;\">\n",
       "      <th></th>\n",
       "      <th>0</th>\n",
       "      <th>1</th>\n",
       "      <th>2</th>\n",
       "      <th>3</th>\n",
       "      <th>4</th>\n",
       "      <th>5</th>\n",
       "      <th>6</th>\n",
       "      <th>7</th>\n",
       "    </tr>\n",
       "  </thead>\n",
       "  <tbody>\n",
       "    <tr>\n",
       "      <th>0</th>\n",
       "      <td>NaN</td>\n",
       "      <td>NaN</td>\n",
       "      <td>NaN</td>\n",
       "      <td>NaN</td>\n",
       "      <td>NaN</td>\n",
       "      <td>NaN</td>\n",
       "      <td>NaN</td>\n",
       "      <td>0.07533</td>\n",
       "    </tr>\n",
       "    <tr>\n",
       "      <th>1</th>\n",
       "      <td>NaN</td>\n",
       "      <td>NaN</td>\n",
       "      <td>NaN</td>\n",
       "      <td>NaN</td>\n",
       "      <td>NaN</td>\n",
       "      <td>NaN</td>\n",
       "      <td>0.07533</td>\n",
       "      <td>0.07533</td>\n",
       "    </tr>\n",
       "    <tr>\n",
       "      <th>2</th>\n",
       "      <td>NaN</td>\n",
       "      <td>NaN</td>\n",
       "      <td>NaN</td>\n",
       "      <td>NaN</td>\n",
       "      <td>NaN</td>\n",
       "      <td>0.07533</td>\n",
       "      <td>0.07533</td>\n",
       "      <td>0.07533</td>\n",
       "    </tr>\n",
       "    <tr>\n",
       "      <th>3</th>\n",
       "      <td>NaN</td>\n",
       "      <td>NaN</td>\n",
       "      <td>NaN</td>\n",
       "      <td>NaN</td>\n",
       "      <td>0.07533</td>\n",
       "      <td>0.07533</td>\n",
       "      <td>0.07533</td>\n",
       "      <td>0.07533</td>\n",
       "    </tr>\n",
       "    <tr>\n",
       "      <th>4</th>\n",
       "      <td>NaN</td>\n",
       "      <td>NaN</td>\n",
       "      <td>NaN</td>\n",
       "      <td>0.07533</td>\n",
       "      <td>0.07533</td>\n",
       "      <td>0.07533</td>\n",
       "      <td>0.07533</td>\n",
       "      <td>0.07533</td>\n",
       "    </tr>\n",
       "    <tr>\n",
       "      <th>...</th>\n",
       "      <td>...</td>\n",
       "      <td>...</td>\n",
       "      <td>...</td>\n",
       "      <td>...</td>\n",
       "      <td>...</td>\n",
       "      <td>...</td>\n",
       "      <td>...</td>\n",
       "      <td>...</td>\n",
       "    </tr>\n",
       "    <tr>\n",
       "      <th>7978</th>\n",
       "      <td>78.76</td>\n",
       "      <td>83.81</td>\n",
       "      <td>83.89</td>\n",
       "      <td>83.18000</td>\n",
       "      <td>83.18000</td>\n",
       "      <td>84.05000</td>\n",
       "      <td>84.14000</td>\n",
       "      <td>84.47000</td>\n",
       "    </tr>\n",
       "    <tr>\n",
       "      <th>7979</th>\n",
       "      <td>83.81</td>\n",
       "      <td>83.89</td>\n",
       "      <td>83.18</td>\n",
       "      <td>83.18000</td>\n",
       "      <td>84.05000</td>\n",
       "      <td>84.14000</td>\n",
       "      <td>84.47000</td>\n",
       "      <td>84.26000</td>\n",
       "    </tr>\n",
       "    <tr>\n",
       "      <th>7980</th>\n",
       "      <td>83.89</td>\n",
       "      <td>83.18</td>\n",
       "      <td>83.18</td>\n",
       "      <td>84.05000</td>\n",
       "      <td>84.14000</td>\n",
       "      <td>84.47000</td>\n",
       "      <td>84.26000</td>\n",
       "      <td>84.56000</td>\n",
       "    </tr>\n",
       "    <tr>\n",
       "      <th>7981</th>\n",
       "      <td>83.18</td>\n",
       "      <td>83.18</td>\n",
       "      <td>84.05</td>\n",
       "      <td>84.14000</td>\n",
       "      <td>84.47000</td>\n",
       "      <td>84.26000</td>\n",
       "      <td>84.56000</td>\n",
       "      <td>84.09000</td>\n",
       "    </tr>\n",
       "    <tr>\n",
       "      <th>7982</th>\n",
       "      <td>83.18</td>\n",
       "      <td>84.05</td>\n",
       "      <td>84.14</td>\n",
       "      <td>84.47000</td>\n",
       "      <td>84.26000</td>\n",
       "      <td>84.56000</td>\n",
       "      <td>84.09000</td>\n",
       "      <td>83.87000</td>\n",
       "    </tr>\n",
       "  </tbody>\n",
       "</table>\n",
       "<p>7983 rows × 8 columns</p>\n",
       "</div>"
      ],
      "text/plain": [
       "          0      1      2         3         4         5         6         7\n",
       "0       NaN    NaN    NaN       NaN       NaN       NaN       NaN   0.07533\n",
       "1       NaN    NaN    NaN       NaN       NaN       NaN   0.07533   0.07533\n",
       "2       NaN    NaN    NaN       NaN       NaN   0.07533   0.07533   0.07533\n",
       "3       NaN    NaN    NaN       NaN   0.07533   0.07533   0.07533   0.07533\n",
       "4       NaN    NaN    NaN   0.07533   0.07533   0.07533   0.07533   0.07533\n",
       "...     ...    ...    ...       ...       ...       ...       ...       ...\n",
       "7978  78.76  83.81  83.89  83.18000  83.18000  84.05000  84.14000  84.47000\n",
       "7979  83.81  83.89  83.18  83.18000  84.05000  84.14000  84.47000  84.26000\n",
       "7980  83.89  83.18  83.18  84.05000  84.14000  84.47000  84.26000  84.56000\n",
       "7981  83.18  83.18  84.05  84.14000  84.47000  84.26000  84.56000  84.09000\n",
       "7982  83.18  84.05  84.14  84.47000  84.26000  84.56000  84.09000  83.87000\n",
       "\n",
       "[7983 rows x 8 columns]"
      ]
     },
     "execution_count": 129,
     "metadata": {},
     "output_type": "execute_result"
    }
   ],
   "source": [
    "label #最后一列就是真实标签"
   ]
  },
  {
   "cell_type": "code",
   "execution_count": 136,
   "id": "2201d685",
   "metadata": {},
   "outputs": [],
   "source": [
    "#将两个矩阵合并，并删除缺失值\n",
    "train = pd.concat([df,label,data2[\"Date\"]],axis=1,ignore_index=True)\n",
    "train = train.dropna()\n",
    "train.index = range(train.shape[0])"
   ]
  },
  {
   "cell_type": "code",
   "execution_count": 137,
   "id": "232494d7",
   "metadata": {},
   "outputs": [
    {
     "data": {
      "text/html": [
       "<div>\n",
       "<style scoped>\n",
       "    .dataframe tbody tr th:only-of-type {\n",
       "        vertical-align: middle;\n",
       "    }\n",
       "\n",
       "    .dataframe tbody tr th {\n",
       "        vertical-align: top;\n",
       "    }\n",
       "\n",
       "    .dataframe thead th {\n",
       "        text-align: right;\n",
       "    }\n",
       "</style>\n",
       "<table border=\"1\" class=\"dataframe\">\n",
       "  <thead>\n",
       "    <tr style=\"text-align: right;\">\n",
       "      <th></th>\n",
       "      <th>0</th>\n",
       "      <th>1</th>\n",
       "      <th>2</th>\n",
       "      <th>3</th>\n",
       "      <th>4</th>\n",
       "      <th>5</th>\n",
       "      <th>6</th>\n",
       "      <th>7</th>\n",
       "      <th>8</th>\n",
       "      <th>9</th>\n",
       "      <th>...</th>\n",
       "      <th>39</th>\n",
       "      <th>40</th>\n",
       "      <th>41</th>\n",
       "      <th>42</th>\n",
       "      <th>43</th>\n",
       "      <th>44</th>\n",
       "      <th>45</th>\n",
       "      <th>46</th>\n",
       "      <th>47</th>\n",
       "      <th>48</th>\n",
       "    </tr>\n",
       "  </thead>\n",
       "  <tbody>\n",
       "    <tr>\n",
       "      <th>0</th>\n",
       "      <td>0.06720</td>\n",
       "      <td>0.07533</td>\n",
       "      <td>0.06720</td>\n",
       "      <td>1.371331e+09</td>\n",
       "      <td>0.0</td>\n",
       "      <td>0.07533</td>\n",
       "      <td>0.07533</td>\n",
       "      <td>0.07533</td>\n",
       "      <td>409569463.0</td>\n",
       "      <td>0.0</td>\n",
       "      <td>...</td>\n",
       "      <td>0</td>\n",
       "      <td>0.07533</td>\n",
       "      <td>0.07533</td>\n",
       "      <td>0.07533</td>\n",
       "      <td>0.07533</td>\n",
       "      <td>0.07533</td>\n",
       "      <td>0.07533</td>\n",
       "      <td>0.06720</td>\n",
       "      <td>0.06720</td>\n",
       "      <td>1986-03-24</td>\n",
       "    </tr>\n",
       "    <tr>\n",
       "      <th>1</th>\n",
       "      <td>0.07533</td>\n",
       "      <td>0.07533</td>\n",
       "      <td>0.07533</td>\n",
       "      <td>4.095695e+08</td>\n",
       "      <td>0.0</td>\n",
       "      <td>0.07533</td>\n",
       "      <td>0.07533</td>\n",
       "      <td>0.07533</td>\n",
       "      <td>176995245.0</td>\n",
       "      <td>0.0</td>\n",
       "      <td>...</td>\n",
       "      <td>0</td>\n",
       "      <td>0.07533</td>\n",
       "      <td>0.07533</td>\n",
       "      <td>0.07533</td>\n",
       "      <td>0.07533</td>\n",
       "      <td>0.07533</td>\n",
       "      <td>0.06720</td>\n",
       "      <td>0.06720</td>\n",
       "      <td>0.06720</td>\n",
       "      <td>1986-03-25</td>\n",
       "    </tr>\n",
       "    <tr>\n",
       "      <th>2</th>\n",
       "      <td>0.07533</td>\n",
       "      <td>0.07533</td>\n",
       "      <td>0.07533</td>\n",
       "      <td>1.769952e+08</td>\n",
       "      <td>0.0</td>\n",
       "      <td>0.07533</td>\n",
       "      <td>0.07533</td>\n",
       "      <td>0.07533</td>\n",
       "      <td>90067008.0</td>\n",
       "      <td>0.0</td>\n",
       "      <td>...</td>\n",
       "      <td>0</td>\n",
       "      <td>0.07533</td>\n",
       "      <td>0.07533</td>\n",
       "      <td>0.07533</td>\n",
       "      <td>0.07533</td>\n",
       "      <td>0.06720</td>\n",
       "      <td>0.06720</td>\n",
       "      <td>0.06720</td>\n",
       "      <td>0.06720</td>\n",
       "      <td>1986-03-26</td>\n",
       "    </tr>\n",
       "    <tr>\n",
       "      <th>3</th>\n",
       "      <td>0.07533</td>\n",
       "      <td>0.07533</td>\n",
       "      <td>0.07533</td>\n",
       "      <td>9.006701e+07</td>\n",
       "      <td>0.0</td>\n",
       "      <td>0.07533</td>\n",
       "      <td>0.07533</td>\n",
       "      <td>0.07533</td>\n",
       "      <td>63655515.0</td>\n",
       "      <td>0.0</td>\n",
       "      <td>...</td>\n",
       "      <td>0</td>\n",
       "      <td>0.07533</td>\n",
       "      <td>0.07533</td>\n",
       "      <td>0.07533</td>\n",
       "      <td>0.06720</td>\n",
       "      <td>0.06720</td>\n",
       "      <td>0.06720</td>\n",
       "      <td>0.06720</td>\n",
       "      <td>0.07533</td>\n",
       "      <td>1986-03-27</td>\n",
       "    </tr>\n",
       "    <tr>\n",
       "      <th>4</th>\n",
       "      <td>0.07533</td>\n",
       "      <td>0.07533</td>\n",
       "      <td>0.07533</td>\n",
       "      <td>6.365552e+07</td>\n",
       "      <td>0.0</td>\n",
       "      <td>0.07533</td>\n",
       "      <td>0.07533</td>\n",
       "      <td>0.06720</td>\n",
       "      <td>77665088.0</td>\n",
       "      <td>0.0</td>\n",
       "      <td>...</td>\n",
       "      <td>0</td>\n",
       "      <td>0.07533</td>\n",
       "      <td>0.07533</td>\n",
       "      <td>0.06720</td>\n",
       "      <td>0.06720</td>\n",
       "      <td>0.06720</td>\n",
       "      <td>0.06720</td>\n",
       "      <td>0.07533</td>\n",
       "      <td>0.07533</td>\n",
       "      <td>1986-03-31</td>\n",
       "    </tr>\n",
       "  </tbody>\n",
       "</table>\n",
       "<p>5 rows × 49 columns</p>\n",
       "</div>"
      ],
      "text/plain": [
       "        0        1        2             3    4        5        6        7   \\\n",
       "0  0.06720  0.07533  0.06720  1.371331e+09  0.0  0.07533  0.07533  0.07533   \n",
       "1  0.07533  0.07533  0.07533  4.095695e+08  0.0  0.07533  0.07533  0.07533   \n",
       "2  0.07533  0.07533  0.07533  1.769952e+08  0.0  0.07533  0.07533  0.07533   \n",
       "3  0.07533  0.07533  0.07533  9.006701e+07  0.0  0.07533  0.07533  0.07533   \n",
       "4  0.07533  0.07533  0.07533  6.365552e+07  0.0  0.07533  0.07533  0.06720   \n",
       "\n",
       "            8    9   ...  39       40       41       42       43       44  \\\n",
       "0  409569463.0  0.0  ...   0  0.07533  0.07533  0.07533  0.07533  0.07533   \n",
       "1  176995245.0  0.0  ...   0  0.07533  0.07533  0.07533  0.07533  0.07533   \n",
       "2   90067008.0  0.0  ...   0  0.07533  0.07533  0.07533  0.07533  0.06720   \n",
       "3   63655515.0  0.0  ...   0  0.07533  0.07533  0.07533  0.06720  0.06720   \n",
       "4   77665088.0  0.0  ...   0  0.07533  0.07533  0.06720  0.06720  0.06720   \n",
       "\n",
       "        45       46       47          48  \n",
       "0  0.07533  0.06720  0.06720  1986-03-24  \n",
       "1  0.06720  0.06720  0.06720  1986-03-25  \n",
       "2  0.06720  0.06720  0.06720  1986-03-26  \n",
       "3  0.06720  0.06720  0.07533  1986-03-27  \n",
       "4  0.06720  0.07533  0.07533  1986-03-31  \n",
       "\n",
       "[5 rows x 49 columns]"
      ]
     },
     "execution_count": 137,
     "metadata": {},
     "output_type": "execute_result"
    }
   ],
   "source": [
    "train.head()"
   ]
  },
  {
   "cell_type": "code",
   "execution_count": 138,
   "id": "f5d68e0c",
   "metadata": {},
   "outputs": [
    {
     "data": {
      "text/plain": [
       "Index(['Open', 'High', 'Low', 'Volume', 'OpenInt', 'Date', 'Close'], dtype='object')"
      ]
     },
     "execution_count": 138,
     "metadata": {},
     "output_type": "execute_result"
    }
   ],
   "source": [
    "#构造列名\n",
    "data2.columns"
   ]
  },
  {
   "cell_type": "code",
   "execution_count": 145,
   "id": "56c91360",
   "metadata": {},
   "outputs": [],
   "source": [
    "Columns = ['Open', 'High', 'Low', 'Volume', 'OpenInt']\n",
    "NewColumns = []\n",
    "NewLabel = []\n",
    "for i in [*range(7,-1,-1)]:\n",
    "    day = str(i)\n",
    "    NewLabel.append(\"t-{}\".format(day) + \"label\")\n",
    "    for name in Columns:\n",
    "        NewColumns.append(\"t-{}\".format(day) + name)\n",
    "NewColumns.extend(NewLabel)\n",
    "NewColumns.append(\"Date\")"
   ]
  },
  {
   "cell_type": "code",
   "execution_count": 146,
   "id": "ed1a38a1",
   "metadata": {},
   "outputs": [
    {
     "data": {
      "text/plain": [
       "['t-7Open',\n",
       " 't-7High',\n",
       " 't-7Low',\n",
       " 't-7Volume',\n",
       " 't-7OpenInt',\n",
       " 't-6Open',\n",
       " 't-6High',\n",
       " 't-6Low',\n",
       " 't-6Volume',\n",
       " 't-6OpenInt',\n",
       " 't-5Open',\n",
       " 't-5High',\n",
       " 't-5Low',\n",
       " 't-5Volume',\n",
       " 't-5OpenInt',\n",
       " 't-4Open',\n",
       " 't-4High',\n",
       " 't-4Low',\n",
       " 't-4Volume',\n",
       " 't-4OpenInt',\n",
       " 't-3Open',\n",
       " 't-3High',\n",
       " 't-3Low',\n",
       " 't-3Volume',\n",
       " 't-3OpenInt',\n",
       " 't-2Open',\n",
       " 't-2High',\n",
       " 't-2Low',\n",
       " 't-2Volume',\n",
       " 't-2OpenInt',\n",
       " 't-1Open',\n",
       " 't-1High',\n",
       " 't-1Low',\n",
       " 't-1Volume',\n",
       " 't-1OpenInt',\n",
       " 't-0Open',\n",
       " 't-0High',\n",
       " 't-0Low',\n",
       " 't-0Volume',\n",
       " 't-0OpenInt',\n",
       " 't-7label',\n",
       " 't-6label',\n",
       " 't-5label',\n",
       " 't-4label',\n",
       " 't-3label',\n",
       " 't-2label',\n",
       " 't-1label',\n",
       " 't-0label',\n",
       " 'Date']"
      ]
     },
     "execution_count": 146,
     "metadata": {},
     "output_type": "execute_result"
    }
   ],
   "source": [
    "NewColumns"
   ]
  },
  {
   "cell_type": "code",
   "execution_count": 147,
   "id": "1c32f343",
   "metadata": {},
   "outputs": [],
   "source": [
    "train.columns = [*NewColumns]"
   ]
  },
  {
   "cell_type": "code",
   "execution_count": 149,
   "id": "08cdfc52",
   "metadata": {},
   "outputs": [
    {
     "data": {
      "text/html": [
       "<div>\n",
       "<style scoped>\n",
       "    .dataframe tbody tr th:only-of-type {\n",
       "        vertical-align: middle;\n",
       "    }\n",
       "\n",
       "    .dataframe tbody tr th {\n",
       "        vertical-align: top;\n",
       "    }\n",
       "\n",
       "    .dataframe thead th {\n",
       "        text-align: right;\n",
       "    }\n",
       "</style>\n",
       "<table border=\"1\" class=\"dataframe\">\n",
       "  <thead>\n",
       "    <tr style=\"text-align: right;\">\n",
       "      <th></th>\n",
       "      <th>t-7Open</th>\n",
       "      <th>t-7High</th>\n",
       "      <th>t-7Low</th>\n",
       "      <th>t-7Volume</th>\n",
       "      <th>t-7OpenInt</th>\n",
       "      <th>t-6Open</th>\n",
       "      <th>t-6High</th>\n",
       "      <th>t-6Low</th>\n",
       "      <th>t-6Volume</th>\n",
       "      <th>t-6OpenInt</th>\n",
       "      <th>...</th>\n",
       "      <th>t-0OpenInt</th>\n",
       "      <th>t-7label</th>\n",
       "      <th>t-6label</th>\n",
       "      <th>t-5label</th>\n",
       "      <th>t-4label</th>\n",
       "      <th>t-3label</th>\n",
       "      <th>t-2label</th>\n",
       "      <th>t-1label</th>\n",
       "      <th>t-0label</th>\n",
       "      <th>Date</th>\n",
       "    </tr>\n",
       "  </thead>\n",
       "  <tbody>\n",
       "    <tr>\n",
       "      <th>0</th>\n",
       "      <td>0.06720</td>\n",
       "      <td>0.07533</td>\n",
       "      <td>0.06720</td>\n",
       "      <td>1.371331e+09</td>\n",
       "      <td>0.0</td>\n",
       "      <td>0.07533</td>\n",
       "      <td>0.07533</td>\n",
       "      <td>0.07533</td>\n",
       "      <td>409569463.0</td>\n",
       "      <td>0.0</td>\n",
       "      <td>...</td>\n",
       "      <td>0</td>\n",
       "      <td>0.07533</td>\n",
       "      <td>0.07533</td>\n",
       "      <td>0.07533</td>\n",
       "      <td>0.07533</td>\n",
       "      <td>0.07533</td>\n",
       "      <td>0.07533</td>\n",
       "      <td>0.06720</td>\n",
       "      <td>0.06720</td>\n",
       "      <td>1986-03-24</td>\n",
       "    </tr>\n",
       "    <tr>\n",
       "      <th>1</th>\n",
       "      <td>0.07533</td>\n",
       "      <td>0.07533</td>\n",
       "      <td>0.07533</td>\n",
       "      <td>4.095695e+08</td>\n",
       "      <td>0.0</td>\n",
       "      <td>0.07533</td>\n",
       "      <td>0.07533</td>\n",
       "      <td>0.07533</td>\n",
       "      <td>176995245.0</td>\n",
       "      <td>0.0</td>\n",
       "      <td>...</td>\n",
       "      <td>0</td>\n",
       "      <td>0.07533</td>\n",
       "      <td>0.07533</td>\n",
       "      <td>0.07533</td>\n",
       "      <td>0.07533</td>\n",
       "      <td>0.07533</td>\n",
       "      <td>0.06720</td>\n",
       "      <td>0.06720</td>\n",
       "      <td>0.06720</td>\n",
       "      <td>1986-03-25</td>\n",
       "    </tr>\n",
       "    <tr>\n",
       "      <th>2</th>\n",
       "      <td>0.07533</td>\n",
       "      <td>0.07533</td>\n",
       "      <td>0.07533</td>\n",
       "      <td>1.769952e+08</td>\n",
       "      <td>0.0</td>\n",
       "      <td>0.07533</td>\n",
       "      <td>0.07533</td>\n",
       "      <td>0.07533</td>\n",
       "      <td>90067008.0</td>\n",
       "      <td>0.0</td>\n",
       "      <td>...</td>\n",
       "      <td>0</td>\n",
       "      <td>0.07533</td>\n",
       "      <td>0.07533</td>\n",
       "      <td>0.07533</td>\n",
       "      <td>0.07533</td>\n",
       "      <td>0.06720</td>\n",
       "      <td>0.06720</td>\n",
       "      <td>0.06720</td>\n",
       "      <td>0.06720</td>\n",
       "      <td>1986-03-26</td>\n",
       "    </tr>\n",
       "    <tr>\n",
       "      <th>3</th>\n",
       "      <td>0.07533</td>\n",
       "      <td>0.07533</td>\n",
       "      <td>0.07533</td>\n",
       "      <td>9.006701e+07</td>\n",
       "      <td>0.0</td>\n",
       "      <td>0.07533</td>\n",
       "      <td>0.07533</td>\n",
       "      <td>0.07533</td>\n",
       "      <td>63655515.0</td>\n",
       "      <td>0.0</td>\n",
       "      <td>...</td>\n",
       "      <td>0</td>\n",
       "      <td>0.07533</td>\n",
       "      <td>0.07533</td>\n",
       "      <td>0.07533</td>\n",
       "      <td>0.06720</td>\n",
       "      <td>0.06720</td>\n",
       "      <td>0.06720</td>\n",
       "      <td>0.06720</td>\n",
       "      <td>0.07533</td>\n",
       "      <td>1986-03-27</td>\n",
       "    </tr>\n",
       "    <tr>\n",
       "      <th>4</th>\n",
       "      <td>0.07533</td>\n",
       "      <td>0.07533</td>\n",
       "      <td>0.07533</td>\n",
       "      <td>6.365552e+07</td>\n",
       "      <td>0.0</td>\n",
       "      <td>0.07533</td>\n",
       "      <td>0.07533</td>\n",
       "      <td>0.06720</td>\n",
       "      <td>77665088.0</td>\n",
       "      <td>0.0</td>\n",
       "      <td>...</td>\n",
       "      <td>0</td>\n",
       "      <td>0.07533</td>\n",
       "      <td>0.07533</td>\n",
       "      <td>0.06720</td>\n",
       "      <td>0.06720</td>\n",
       "      <td>0.06720</td>\n",
       "      <td>0.06720</td>\n",
       "      <td>0.07533</td>\n",
       "      <td>0.07533</td>\n",
       "      <td>1986-03-31</td>\n",
       "    </tr>\n",
       "  </tbody>\n",
       "</table>\n",
       "<p>5 rows × 49 columns</p>\n",
       "</div>"
      ],
      "text/plain": [
       "   t-7Open  t-7High   t-7Low     t-7Volume  t-7OpenInt  t-6Open  t-6High  \\\n",
       "0  0.06720  0.07533  0.06720  1.371331e+09         0.0  0.07533  0.07533   \n",
       "1  0.07533  0.07533  0.07533  4.095695e+08         0.0  0.07533  0.07533   \n",
       "2  0.07533  0.07533  0.07533  1.769952e+08         0.0  0.07533  0.07533   \n",
       "3  0.07533  0.07533  0.07533  9.006701e+07         0.0  0.07533  0.07533   \n",
       "4  0.07533  0.07533  0.07533  6.365552e+07         0.0  0.07533  0.07533   \n",
       "\n",
       "    t-6Low    t-6Volume  t-6OpenInt  ...  t-0OpenInt  t-7label  t-6label  \\\n",
       "0  0.07533  409569463.0         0.0  ...           0   0.07533   0.07533   \n",
       "1  0.07533  176995245.0         0.0  ...           0   0.07533   0.07533   \n",
       "2  0.07533   90067008.0         0.0  ...           0   0.07533   0.07533   \n",
       "3  0.07533   63655515.0         0.0  ...           0   0.07533   0.07533   \n",
       "4  0.06720   77665088.0         0.0  ...           0   0.07533   0.07533   \n",
       "\n",
       "   t-5label  t-4label  t-3label  t-2label  t-1label  t-0label        Date  \n",
       "0   0.07533   0.07533   0.07533   0.07533   0.06720   0.06720  1986-03-24  \n",
       "1   0.07533   0.07533   0.07533   0.06720   0.06720   0.06720  1986-03-25  \n",
       "2   0.07533   0.07533   0.06720   0.06720   0.06720   0.06720  1986-03-26  \n",
       "3   0.07533   0.06720   0.06720   0.06720   0.06720   0.07533  1986-03-27  \n",
       "4   0.06720   0.06720   0.06720   0.06720   0.07533   0.07533  1986-03-31  \n",
       "\n",
       "[5 rows x 49 columns]"
      ]
     },
     "execution_count": 149,
     "metadata": {},
     "output_type": "execute_result"
    }
   ],
   "source": [
    "train.head()"
   ]
  }
 ],
 "metadata": {
  "kernelspec": {
   "display_name": "Python 3 (ipykernel)",
   "language": "python",
   "name": "python3"
  },
  "language_info": {
   "codemirror_mode": {
    "name": "ipython",
    "version": 3
   },
   "file_extension": ".py",
   "mimetype": "text/x-python",
   "name": "python",
   "nbconvert_exporter": "python",
   "pygments_lexer": "ipython3",
   "version": "3.9.7"
  }
 },
 "nbformat": 4,
 "nbformat_minor": 5
}
